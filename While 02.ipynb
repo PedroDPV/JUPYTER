{
 "cells": [
  {
   "cell_type": "markdown",
   "metadata": {},
   "source": [
    "# Cuidado com o while -> Loop Infinito\n",
    "\n",
    "Sempre que for usar o comando while, lembre-se de ter certeza que o programa vai terminar em algum momento\n",
    "\n",
    "### Exemplo\n",
    "\n",
    "Digamos que temos uma lista de vendedores e as quantidades vendidas e queremos identificar todos os vendedores que bateram a meta de 50 vendas."
   ]
  },
  {
   "cell_type": "code",
   "execution_count": 5,
   "metadata": {},
   "outputs": [
    {
     "name": "stdout",
     "output_type": "stream",
     "text": [
      "Maria, bateu a meta\n",
      "José, bateu a meta\n",
      "Antônio, bateu a meta\n",
      "João, bateu a meta\n",
      "Francisco, bateu a meta\n",
      "Ana, bateu a meta\n",
      "Luiz, bateu a meta\n",
      "Paulo, bateu a meta\n",
      "Carlos, bateu a meta\n",
      "Manoel, bateu a meta\n",
      "Pedro, bateu a meta\n",
      "Francisca, bateu a meta\n",
      "Marcos, bateu a meta\n",
      "Raimundo, bateu a meta\n",
      "Sebastião, bateu a meta\n",
      "Antônia, bateu a meta\n",
      "Marcelo, bateu a meta\n",
      "Jorge, bateu a meta\n",
      "Márcia, bateu a meta\n",
      "Geraldo, bateu a meta\n",
      "Adriana, bateu a meta\n"
     ]
    }
   ],
   "source": [
    "vendas = [941, 852, 783, 714, 697, 686, 685, 670, 631, 453, 386, 371, 294, 269, 259, 218, 208, 163, 125, 102, 87, 47, 7]\n",
    "vendedores = ['Maria', 'José', 'Antônio', 'João', 'Francisco', 'Ana', 'Luiz', 'Paulo', 'Carlos', 'Manoel', 'Pedro', 'Francisca', 'Marcos', 'Raimundo', 'Sebastião', 'Antônia', 'Marcelo', 'Jorge', 'Márcia', 'Geraldo', 'Adriana', 'Sandra', 'Luis']\n",
    "meta = 50\n",
    "\n",
    "\n",
    "contador = 0 \n",
    "while vendas[contador] > meta:\n",
    "    print(f'{vendedores[contador]}, bateu a meta')\n",
    "    contador +=1\n"
   ]
  }
 ],
 "metadata": {
  "kernelspec": {
   "display_name": "Python 3 (ipykernel)",
   "language": "python",
   "name": "python3"
  },
  "language_info": {
   "codemirror_mode": {
    "name": "ipython",
    "version": 3
   },
   "file_extension": ".py",
   "mimetype": "text/x-python",
   "name": "python",
   "nbconvert_exporter": "python",
   "pygments_lexer": "ipython3",
   "version": "3.9.7"
  }
 },
 "nbformat": 4,
 "nbformat_minor": 4
}

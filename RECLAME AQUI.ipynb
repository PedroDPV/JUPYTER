{
 "cells": [
  {
   "cell_type": "code",
   "execution_count": 2,
   "id": "9c681f6c",
   "metadata": {},
   "outputs": [
    {
     "name": "stderr",
     "output_type": "stream",
     "text": [
      "C:\\Users\\pedro\\AppData\\Local\\Temp/ipykernel_1972/2523368702.py:11: DeprecationWarning: find_element_by_xpath is deprecated. Please use find_element(by=By.XPATH, value=xpath) instead\n",
      "  driver.find_element_by_xpath('/html/body/div[9]/div[2]/div/div[2]/div[1]/div/div[2]/div/div[1]/button').click()\n",
      "C:\\Users\\pedro\\AppData\\Local\\Temp/ipykernel_1972/2523368702.py:34: DeprecationWarning: find_elements_by_class_name is deprecated. Please use find_elements(by=By.CLASS_NAME, value=name) instead\n",
      "  titulos_p1 = driver.find_elements_by_class_name('sc-1pe7b5t-1.fTrwHU')\n",
      "C:\\Users\\pedro\\AppData\\Local\\Temp/ipykernel_1972/2523368702.py:42: DeprecationWarning: find_elements_by_css_selector is deprecated. Please use find_elements(by=By.CSS_SELECTOR, value=css_selector) instead\n",
      "  links_p1 = driver.find_elements_by_css_selector('a')\n"
     ]
    },
    {
     "name": "stdout",
     "output_type": "stream",
     "text": [
      "['RENEGOCIAÇÃO DE DIVIDA CARTÃO C&A', 'CANCELAMENTO DE COMPRA', 'Sapatos descolando ', 'Cobrança indevida e falta de atendimento ', 'Perfume falsificado na C&A', 'Indignação ', 'Cobranças indevidas ', 'Não estão aceitando devolução via Correios', 'Cartão C&A+ Bloqueado', 'vale troca nao funciona', 'Pedido em atraso e a C&A não faz o mínimo pra ajudar', 'Alarme de segurança ', 'Descaso com o cliente para solucionar a venda de um produto com defeito!', 'Cobrança em duplicidade', 'CANCELAMENTO', 'Atraso de mercadoria ', 'estorno não realizado', 'Produto cancelado', 'Cobrança indevida da APPLE.COM', 'Mau atendimento devido a insistência para criação de cartão']\n",
      "20\n",
      "[['https://www.reclameaqui.com.br/cea-loja-online/renegociacao-de-divida-cartao-c-a_9KWr9ZoeLjvzjhQr/', 'https://www.reclameaqui.com.br/cea-loja-online/cancelamento-de-compra_O4OJIpaf9LhBxIu7/', 'https://www.reclameaqui.com.br/cea-loja-online/sapatos-descolando_sRhwaKvt2Y-jAxZX/', 'https://www.reclameaqui.com.br/cea-loja-online/cobranca-indevida-e-falta-de-atendimento_LvZEzqayIcuMqYqT/', 'https://www.reclameaqui.com.br/cea-loja-online/perfume-falsificado-na-c-a_8YzNT3UQb0mkOLFh/', 'https://www.reclameaqui.com.br/cea-loja-online/indignacao_rf5jz4StLEPImhHZ/', 'https://www.reclameaqui.com.br/cea-loja-online/cobrancas-indevidas_Zb4pq2Gog_1F1CCp/', 'https://www.reclameaqui.com.br/cea-loja-online/nao-estao-aceitando-devolucao-via-correios_phOTf0BkaqioCS4d/', 'https://www.reclameaqui.com.br/cea-loja-online/cartao-c-a-bloqueado_49lbhColmmy33xUW/', 'https://www.reclameaqui.com.br/cea-loja-online/vale-troca-nao-funciona_i1k5LHMiJxq4MNnr/'], ['https://www.reclameaqui.com.br/cea-loja-online/pedido-em-atraso-e-a-c-a-nao-faz-o-minimo-pra-ajudar_QhAzhRiOynF9OZyk/', 'https://www.reclameaqui.com.br/cea-loja-online/alarme-de-seguranca_QU204UneApR2W8aG/', 'https://www.reclameaqui.com.br/cea-loja-online/descaso-com-o-cliente-para-solucionar-a-venda-de-um-produto-com-defeito_KAkIeUDjraiBGTvF/', 'https://www.reclameaqui.com.br/cea-loja-online/cobranca-em-duplicidade_EwcsJFmSbBpOYFtN/', 'https://www.reclameaqui.com.br/cea-loja-online/cancelamento_YNb7Y3y0DVvM6hYx/', 'https://www.reclameaqui.com.br/cea-loja-online/atraso-de-mercadoria_oPyuiuB-PHoZ6wZB/', 'https://www.reclameaqui.com.br/cea-loja-online/estorno-nao-realizado_-Fk_3cfV-iRfsv_K/', 'https://www.reclameaqui.com.br/cea-loja-online/produto-cancelado_xqv6tcslYmIznzvr/', 'https://www.reclameaqui.com.br/cea-loja-online/cobranca-indevida-da-apple-com_RubO9aA8J4CuuGKG/', 'https://www.reclameaqui.com.br/cea-loja-online/mau-atendimento-devido-a-insistencia-para-criacao-de-cartao_sGP55x-csAs5Y3By/']]\n",
      "2\n",
      "['Tentei duas vezes trocar alguns produtos da C&A e achei extremamente complicado, cheia de códigos e mesmo eu comprando os produtos juntos, tem q enviar separado, com código de pedido + código de troca + declaração de conteúdo, e fui mais de duas vezes no correio e não consegui enviar.Na última tentativa, q pedi dia 4 de março, eu quebrei meu pé e não consegui ir ao correio, só consigo ir agora de robofoot. Mas meu código expirou.Portando gostaria que a C&A me mandasse novos códigos porque eu não tinha ideia da burocracia, o q me prejudicou muito, e um de saúde, o que impossibilitou a troca.', 'Estou tentando de todas as formas negociar meu débito com a empresa porém tentei todos os números e sites e não tenho retorno.. quero pagar porém não sei como fazer isso sem um suporte para me passar o valor e as opções de pagamento', 'BOA TARDE, REALIZEI UMA COMPRA NO SITE DA C&A NO DIA 17/02/2022 E EM UM DOS PEDIDOS, FOI DA LOJA PARCEIRA.A COMPRA CHEGOU, FOI RECEBIDA POR MEUS PAIS, SO QUE EU ESTAVA VIAJANDO, AO CHEGAR CONSTATEI QUE A CALÇA JEANS FEMININA SKINNY - 268352 BRANCA SAWARY 40 FICOU PEQUENA. ALÉM DE SER PEQUENA É MTO TRANSPARENTE, DE MÁ QUALIDADE.FALEI NO CHAT, SÓ QUE INFORMARAM QUE O PRAZO DE DEVOLUÇÃO JA TINHA PASSADO (7 DIAS). É UM TOTAL ABSURDO COM O CONSUMIDOR, PORQUE SE FOI COMPRADO PELO SITE DA C&A O MINIMO QUE ELA PODERIA FAZER SERIA SE RESPONSABILIZAR. E AGORA ESTOU NO PREJUIZO, NAO CONSEGUIR VENDER A CALÇA, NEM TROCAR, TA AQUI PARADA.', 'Comprei dois sapatos mais ou menos um mês na loja da cea e os dois estão descolando, presepada isso, vender porduto de ma qualidade ', 'Fiz o cartão na loja e nunca usei.Ao tentar usar me informaram que teria uma divida.Estranhei mas efetuei o pagamento de 20 e poucos reais e me informaram que era seguros atrasados.Mesmo apos o pagamento o cartão não passava.Ao ligar me informaram que o mesmo teria sido cancelado por eles. Ai questionei a data do pagamento que foi feito e o mesmo ja estava cancelado.Liguei para a Central de atendimento e depois de muita insistência me informaram que seria feito a devolução.Ao ligar hoje queriam me devolver somente 3,00 e nao o valor total.Ao questionar o valor foi transferida para varios setores e o último desligaram na minha cara.Empresa sem transparência e falta  de respeito com o consumidor.', 'Em 16/02/2022 comprei o perfume Tommy Hilfiger masculino, de 50 ml, no site da Cea. Não era o site mais barato, mas julguei que viria o original.Entretanto o perfume não tem fixação, some em minutos. O uso há 15 anos. Ou seja, o produto recebido não é o original.Em 25/02/2022 abri uma reclamação no faleconosco@e.cea.com.br, solicitando a devolução e reembolso.Após várias reiterações e promessas de retorno de Leidy e Mayara Domenice, não recebi um retorno definitivo até agora.', 'Eu e a minha cunhada compramos duas calças  na c&a uma encolheu  e a outra tem uma perna mais curta que a outra  como tiramos a etiqueta nao conseguimos fazer a troca que decepção  com a loja ', 'A central de cobrança da cea ficam ligando pro meu número procurando uma tal de Glória.  Isso ja vai pra 2 meses que ligam de número diferentes.  Eu ja entrei em contato com a central. Mas nd foi feito ainda. So me pedem para eu aguradar o prazo de 3 dias que o setor responsável iriam entra em contato comigo. E isso nao aconteceu. Ja liguei 3 vezes solicitando que resolvam o problema. Meu celular toca toda hora procurando outra pessoa.', 'Boa tarde,Eu comprei uma blusa no site da C&A no dia 04/03. Chegou no dia 09/03 no escritório, bem rápido. Só que não serviu e eu estou tentando fazer devolução. No site, não me dão a opção mais (vide print). Liguei para o SAC e a atendente insistiu para que eu fosse até uma loja física da C&A. Eu compro on-line exatamente para não ter que me encaminhar atééé uma loja física, né? Eu disse que queria devolver via Correios e receber de volta via cupom, porque assim é mais fácil de usar no site. Ela disse que me mandaria por e-mail o código para devolução MAS NÃO MANDOU.É UM ABSURDO! Eu preciso ter a opção de devolver por onde eu comprei!', 'Estou com um problema muito frustrante com a C&A. Por muitos anos tive meu cartão C&A+ e creio que no ano passado, fui informada que precisava criar um novo de bandeira VISA porque o C&A+ seria cancelado, meses depois disseram que teria que fazer um de bandeira Elo porque o VISA agora seria cancelado. Ao ligar na central dias depois, foi informado que a informação não era válida, que os 3 cartões estavam ativos. Como o C&A+ não tinha bandeira e, se eu usasse no site, não cobraria anuidade, deixei de usá-lo na loja física para manter o limite livre pra quando usasse na loja virtual. Quando foi há minutos atrás eu liguei no 4004 na C&A e conferi o limite disponível de 1550 reais, mas pra minha supresa ao finalizar a compra o pagamento não aprovou, então liguei novamente pro 4004 pra saber o que aconteceu e simplesmente cancelaram o meu cartão!! Sem meu consentimento!! Um absurdo!! Ao perguntar como faria pra reativá-lo a atendente disse não ser possível e que eu teria que ir em loja física e fazer um cartão de bandeira, sendo que já tenho dois de bandeira e quero reativar o meu da loja, que me permite comprar no site sem que tenha que pagar anuidade para tal. Estou muito decepcionada com C&A sou cliente há anos, sempre paguei certo e não tiveram a mínima consideração por mim! Solicito que reativem meu cartão final 0515.', 'OLA MEU PEDIDO CHEGOU ONTEM DIA 28/03 RAPIDAMENTE PROVEI E VI QUE ESTAVAM LARGOS E HAVIA FALTANDO UMA PEÇA, ME DIRIGI ATE A LOJA FISICA ME DISSERAM QUE NAO HAVIA MAIS VESTIDOS MENORES DAQUELE POR ISSO IAM ME FAZER UM VALE TROCA QUE EU PODERIA REFAZER A COMPRA PELO SITE/APP SEM PROBLEMAS E ME DEU TELEFONE SAC PARA PERGUNTAR SOBRE PRODUTO FALTANDO, LIGUEI RESOLVI O PRODUTO QUE NAO VEIO POREM QUANDO TENTEI FAZER A COMPRA NAO CONSEGUI, LIGUEI SAC NOVAMENTE E A ATENDENTE ME INFORMOU QUE MEU VALE NAO FAZ COMPRA PELO SITE/APP, MAS ME DIZ COMO ISSO SENDO QUE A VENDEDORA E A SURPERVISORA QUE ESTAVAM NA LOJA QUE ME ATENDERAM DISSE QUE SERIA POSSIVEL A COMPRA? PRODUTO QUE EU QUERO NAO TEM NA LOJA FISICA A ATENTENDE NAO QUIS ME AJUDAR PELO SAC E EU ESTOU COM UM VALE QUE NAO POSSO USAR, PRECISO RESOLVER MEU PROBLEMA POR GENTIELZA', 'Fiz um pedido dia 17/03 e no momento da compra através do site, dizia que o pedido chegaria no mesmo dia, mas depois de comprar, fui conferir no app e lá dizia que o prazo seria de 6 dias úteis, indo contra a informação que constava no site, enfim decidi esperar mesmo assim, mas já passou desse prazo e até agora nada. Enfim, eles dizem que o pedido está com atraso, mas que tenho que aguardar, porem nem o código de rastreio carrega.Quero saber quando esse pedido vai chegar, por favor!! ', 'Comprei uma mercadoria na cea do shopping carioca,  quando cheguei em casa, a roupa estava com o alarme de segurança. Levei a roupa novamente na loja e eles não tiraram o alarme, alegando que eu estava sem a nota. O erro foi deles,  eu não sei onde está a nota, já devo ter jogado no lixo,  e tive que sair novamente de loja com risco do alarme tocar. Estou muito desapontada com essa loja,porque pedem o CPF na hora da compra pra quê? Se depois não conseguem ver se vc realmente comprou o produto. Resumindo  estou com a roupa em casa com o alarme com medo de tirar e rasgar. ', 'Realizei uma compra de um smart Watch da marca mondaine no dia 05/03/2022 na loja de Santos-SP na Avenida Ana Costa e no dia 17/03 o produto apresentou defeito, parando de funcionar. No dia 21 voltei à loja para saber como poderiam me ajudar esperando no mínimo que trocassem por outro sem defeito e descobri que só poderiam me ajudar se eu tivesse retornado dentro de 7 dias e que eu teria que ir até uma assistência técnica localizada em outra cidade. Tentei de todas as formas resolver direto com a loja, inclusive sugeri deixar com eles o relógio para que enviassem à assistência já que seria muito transtorno para eu me deslocar até outra cidade e resolver por conta própria e simplesmente lavaram as mãos para o meu problema. Tive gastos com o deslocamento e estacionamento e até o momento estou sem meu relógio e sem previsão de quando vou tê-lo porque pra ajudar a assistência não atende o telefone e não responde no WhatsApp. Nunca mais eu compro alguma coisa nessa loja, qualquer estabelecimento pequeno dá pelo menos 1 a  3 meses de garantia para defeitos de produtos eletrônicos e provavelmente eu teria pago bem mais barato mas como achei que estava comprando num local de confiança e que se preocupasse com a satisfação do cliente nem me preocupei em pesquisar. Me arrependi muito! Descaso total com o cliente e não recomendo esta loja para ninguém!', 'Fiz uma compra na CeA no dia 04/03/2022 pelo app e outra no dia 17/03/2022. Ontem ao receber uma fatura para pagamento tive 3 surpresas desagradáveis:1- Colocaram minhas compras no crédito. Sempre deixei claro na loja que não tinha interesse em cartão de crédito, se fosse possível, apenas o cartão da loja. Do nada, sem minha autorização ou comunicado transformam meu cartão em cartão de crédito.2 - A compra do dia 17/03 que optei por parcelar veio para pagamento integral, rotativo. Ou seja, eu escolhi uma forma de pagamento, mas a vontade da loja é a que prevalece, valor integral e alto pra eu pagar de uma vez.3 - Quando oque não estava bom pode piorar, a compra do dia 04/03 veio em duplicidade na fatura. Não recebi os produtos em duplicidade, mas a cobrança sim!Com muito custo falei na Bradescard, eu acho, pelo telefone que veio na fatura e abriram uma investigação. Pra eu saber o resultado, em 20 dias ÚTEIS, EU terei que ligar novamente e perguntar, enfrentar fila, horas de espera, ligações que caem o tempo todo pra ver se tomaram vergonha e cancelaram a duplicidade. Eu que fui [Editado pelo Reclame Aqui] e o transtorno pra tentar sanar a questão tem que ser meu? E outra fui instruída a pagar a duplicidade e tentar, depois do processo reaver o valor. Caso eu pague sem o valor em duplicidade posso incorrer em multa por pagamento mínimo.. é inacreditável. E tentei no atendimento telefônico cancelar o cartão e não pude, tem que ser na loja. Cobrar em duplicidade pode ser pelo app, escolher a forma de parcelamento por mim pode ser pelo app, tornar meu cartão da loja como de crédito sem minha autorização pode ser pelo app ou telefone, comprar pelo app, site e telefone pode, agora cancelar o cartão tem que ser na loja! Oi??? A CeA está toda errada e o cliente que arque com o prejuízo, frustração, trabalheira pra resolver? Melhore viu CeA.', 'Prezados,Mais uma vez estou aqui me aborrecendo, certo dia fui fazer uma compra e me ofereceram um cartão da loja, eu aceitei e assim o fiz. Logo no primeiro mÊs já me veio uma cobrança embora eu não tenho feito nenhuma compra. Quando liguei para saber disseram que se tratava do seguro, coisa que eu também não solicitei, ai cancelaram essa cobrança e disseram que o serviço. No mês  seguinte veio a mesma cobrança eu liguei e cancelei o cartão, e para meu aborrecimento novamente esse mês mesmo após o cancelamento do cartão veio uma nova cobrança, não me interessa se é pelo bradesco ou qualquer outro banco, o fato é que eu não contratei esse serviço e quero o cancelamento urgente. Liguei dia 05/03 e segue o protocolo de número 00192496 cancelamento.', 'Realizei uma compra com a c&a no dia 05/03 , com prazo de entrega de 8 dias úteis,  prazo final para entrega dia 16/03 , hoje é 29/03 e não obtive nenhuma resolutiva da empresa , ninguém liga , manda mensagem para esclarecer nada , já liguei conversei com atendentes e nada foi resolvido , e continuo aqui no prejuízo. ', 'Faço muitos pedidos no site e precisei devolver algumas peças e dessas alguns  estornos estão pendentes, tentei entrar em contato com a loja mas não tive resposta.Segue os dados que tenho dos pedidos:pedido: V42336265CEA-01 // protocolo: 12251059 // cod aut postagem: 1900663647  - valor estorno: 254,35pedido: V42436647CEA-02 // protocolo: 12287398 // cod aut postagem: 1906036752  - valor estorno: 226,99pedido: V42892874CEA-03 // protocolo: 12372411 // cod aut postagem: 1918508537  - valor estorno:  38,39pedido: V42892874CEA-01 // protocolo: 12372454 // cod aut postagem: 1918509565  - valor estorno: 164,77', 'Em 28/03 realizei um compra no app e na data de hoje recebi um e-mail informando que uma dos produtos foi cancelado (não informaram o motivo)Liguei na central de atendimento para saber o real motivo pois quero muito o produto e também não souberam informar.Sempre fui cliente tanto loja física e on-line e nunca aconteceu isso.Eu apenas quero os produtos em que comprei e paguei!', 'Bom dia, na minha fatura deste mês vieram duas compras indevidas da APPLE.COM/BILL, uma de R$549,90 e outra de R$124,90 sendo que NÃO sou usuário de iPhone e nem de qualquer outro produto da Apple. Nunca fiz compra de qualquer produto da Apple em toda minha vida.Gostaria de que revisassem essa compra pois não irei pagar por algo que não comprei e é provável de que tenham vazado meus dados para algum hacker.']\n",
      "20\n"
     ]
    }
   ],
   "source": [
    "import time\n",
    "import pandas as pd\n",
    "from selenium import webdriver\n",
    "from bs4 import BeautifulSoup\n",
    "import requests\n",
    "\n",
    "driver = webdriver.Chrome()\n",
    "driver.get('https://www.reclameaqui.com.br/empresa/cea-loja-online/lista-reclamacoes/?pagina=1')\n",
    "time.sleep(1)\n",
    "#ACEITAR COOKIES\n",
    "driver.find_element_by_xpath('/html/body/div[9]/div[2]/div/div[2]/div[1]/div/div[2]/div/div[1]/button').click()\n",
    "#PEGAR O TITULO DAS 10 RECLAMAÇÕES DA PAGINA:\n",
    "\n",
    "lista_1 = []\n",
    "lista_2 = []\n",
    "all_titulos = []\n",
    "lista_comtitulos= []\n",
    "all_links = []\n",
    "todoshref = []\n",
    "qtd_paginas = 3\n",
    "\n",
    "#LAÇO \"FOR\" PRA ACESSAR A QUANTIDADE DE PAGINAS DEFINIDAS NA VARIÁVEL \"qtd_paginas\":\n",
    "\n",
    "for pagina in range(qtd_paginas):\n",
    "    \n",
    "    \n",
    "    if pagina == 0:\n",
    "        pass\n",
    "    else:\n",
    "        driver.get(f'https://www.reclameaqui.com.br/empresa/cea-loja-online/lista-reclamacoes/?pagina={pagina}')\n",
    "        \n",
    "#pegar os titulos das reclamações: \n",
    "\n",
    "        titulos_p1 = driver.find_elements_by_class_name('sc-1pe7b5t-1.fTrwHU')\n",
    "        for titulo in titulos_p1:                        \n",
    "            lista_1 = titulo.get_attribute('title')\n",
    "            all_titulos.append(lista_1)\n",
    "            \n",
    "#pegar os links das reclamações:\n",
    "\n",
    "        driver.get(f'https://www.reclameaqui.com.br/empresa/cea-loja-online/lista-reclamacoes/?pagina={pagina}')\n",
    "        links_p1 = driver.find_elements_by_css_selector('a')\n",
    "        for link in links_p1:\n",
    "            lista_2 = link.get_attribute('href')\n",
    "            todoshref.append(lista_2)\n",
    "            linksuteis = todoshref[128:138]\n",
    "            \n",
    "        all_links.append(linksuteis)\n",
    "        linksuteis = []\n",
    "        todoshref = []\n",
    "\n",
    "print (all_titulos)\n",
    "print (len(all_titulos))\n",
    "print (all_links)\n",
    "print (len(all_links))\n",
    "\n",
    "            \n",
    "#PEGAR O TEXTO DA RECLMAÇÃO DE UM LINK ESPECÍFICO\n",
    "headers = {'user-agent': 'Mozilaa/5.0'}\n",
    "pagina = requests.get('https://www.reclameaqui.com.br/cea-loja-online/troca-complicada-e-expirada_E5l9PbpCY5wwJJc3/',\n",
    "                     headers = headers)\n",
    "\n",
    "pagina.text\n",
    "sopa = pagina.text\n",
    "sopa = BeautifulSoup(sopa, 'html.parser')\n",
    "\n",
    "reclamacao = sopa.find_all('p' , {'data-testid':'complaint-description'})\n",
    "\n",
    "# PEGAR TODAS AS 10 RECLAMAÇÕES DAS PAGINAS ESCOLHIDAS :\n",
    "\n",
    "all_reclamacoes = []\n",
    "\n",
    "for pag in all_links:\n",
    "    \n",
    "    for paglink in pag:\n",
    "        headers = {'user-agent': 'Mozilaa/5.0'}\n",
    "        pagina.text\n",
    "        sopa = pagina.text\n",
    "        sopa = BeautifulSoup(sopa, 'html.parser')                        \n",
    "        pagina = requests.get(paglink, headers = headers)\n",
    "        reclamacao = sopa.find_all('p' , {'data-testid':'complaint-description'})\n",
    "        all_reclamacoes.append(reclamacao[0].text)\n",
    "\n",
    "print (all_reclamacoes)\n",
    "print (len(all_reclamacoes))\n"
   ]
  },
  {
   "cell_type": "code",
   "execution_count": 24,
   "id": "93b942f9",
   "metadata": {},
   "outputs": [],
   "source": [
    "features = {'titulos': all_titulos, \n",
    "            'links': all_links,\n",
    "           'reclamação' : all_reclamacoes}\n"
   ]
  },
  {
   "cell_type": "code",
   "execution_count": 25,
   "id": "ed5f2a3c",
   "metadata": {},
   "outputs": [
    {
     "data": {
      "text/plain": [
       "{'titulos': ['Parcelamento indevido',\n",
       "  'Pedido com prazo de 2h alterado para 7 dias úteis',\n",
       "  ' [Editado pelo Reclame Aqui]  da caixa',\n",
       "  'Sandália quebrado no primeiro uso',\n",
       "  'Desconto presente aniversário não entra ',\n",
       "  'Seguro Bolsa Protegida Embutido sem minha autorização',\n",
       "  'SANDÁLIA DE PÉSSIMA QUALIDADE ',\n",
       "  'Queria pagar minhas dívidas adiantada e agora estou com meu nome sujo!',\n",
       "  'Devolução ',\n",
       "  'Fatura do Cartão com valor acima da compra',\n",
       "  'Fatura do Cartão com valor acima da compra',\n",
       "  'estão cobrando uma parcela de compra que nao é minha',\n",
       "  'Cobrança indevida de uma compra cancelada  pela loja ',\n",
       "  'Não recebie o pacote',\n",
       "  'Estorno não realizado ',\n",
       "  'Estou sendo extorquido pela C&A',\n",
       "  'Troca complicada e expirada',\n",
       "  'Aumento de limite ',\n",
       "  'Ausência de nota fiscal ',\n",
       "  'Entrega há dias em atraso e parada'],\n",
       " 'links': [['https://www.reclameaqui.com.br/cea-loja-online/parcelamento-indevido_SiDamRgQ3T7gwA3p/',\n",
       "   'https://www.reclameaqui.com.br/cea-loja-online/pedido-com-prazo-de-2h-alterado-para-7-dias-uteis_J89TH1mQRSA4fh0i/',\n",
       "   'https://www.reclameaqui.com.br/cea-loja-online/da-caixa_wvZxZ7Mcdhizou0c/',\n",
       "   'https://www.reclameaqui.com.br/cea-loja-online/sandalia-quebrado-no-primeiro-uso_q69TG3ukcCadY8dX/',\n",
       "   'https://www.reclameaqui.com.br/cea-loja-online/desconto-presente-aniversario-nao-entra_h6D73SaRpEteOAPb/',\n",
       "   'https://www.reclameaqui.com.br/cea-loja-online/seguro-bolsa-protegida-embutido-sem-minha-autorizacao_yfIHwKpT9kCNOYYO/',\n",
       "   'https://www.reclameaqui.com.br/cea-loja-online/sandalia-de-pessima-qualidade_VOTkpEMgHaq8_IZv/',\n",
       "   'https://www.reclameaqui.com.br/cea-loja-online/queria-pagar-minhas-dividas-adiantada-e-agora-estou-com-meu-nome-sujo_gjQogcpnO1YB8v9W/',\n",
       "   'https://www.reclameaqui.com.br/cea-loja-online/devolucao_uKzL4XW0whVcE0ec/',\n",
       "   'https://www.reclameaqui.com.br/cea-loja-online/fatura-do-cartao-com-valor-acima-da-compra_jyz7UPCDLzpphE7e/'],\n",
       "  ['https://www.reclameaqui.com.br/cea-loja-online/fatura-do-cartao-com-valor-acima-da-compra_jyz7UPCDLzpphE7e/',\n",
       "   'https://www.reclameaqui.com.br/cea-loja-online/estao-cobrando-uma-parcela-de-compra-que-nao-e-minha_E7aGy4n335we_mWh/',\n",
       "   'https://www.reclameaqui.com.br/cea-loja-online/cobranca-indevida-de-uma-compra-cancelada-pela-loja_lY7O_0UhhdQyAsOe/',\n",
       "   'https://www.reclameaqui.com.br/cea-loja-online/nao-recebie-o-pacote_dOGEh-TbkcZ6IlJ-/',\n",
       "   'https://www.reclameaqui.com.br/cea-loja-online/estorno-nao-realizado_Wk-CTf-7C7mNL4fJ/',\n",
       "   'https://www.reclameaqui.com.br/cea-loja-online/estou-sendo-extorquido-pela-c-a_T-IFuDT1KyUVE0Vm/',\n",
       "   'https://www.reclameaqui.com.br/cea-loja-online/troca-complicada-e-expirada_E5l9PbpCY5wwJJc3/',\n",
       "   'https://www.reclameaqui.com.br/cea-loja-online/aumento-de-limite_fcCJg90pcOnc1cPw/',\n",
       "   'https://www.reclameaqui.com.br/cea-loja-online/ausencia-de-nota-fiscal_5rURgSVKlkXODJwN/',\n",
       "   'https://www.reclameaqui.com.br/cea-loja-online/entrega-ha-dias-em-atraso-e-parada_T_Lcp25PFngNmGTW/']],\n",
       " 'reclamação': ['Tentei duas vezes trocar alguns produtos da C&A e achei extremamente complicado, cheia de códigos e mesmo eu comprando os produtos juntos, tem q enviar separado, com código de pedido + código de troca + declaração de conteúdo, e fui mais de duas vezes no correio e não consegui enviar.Na última tentativa, q pedi dia 4 de março, eu quebrei meu pé e não consegui ir ao correio, só consigo ir agora de robofoot. Mas meu código expirou.Portando gostaria que a C&A me mandasse novos códigos porque eu não tinha ideia da burocracia, o q me prejudicou muito, e um de saúde, o que impossibilitou a troca.',\n",
       "  'Minha mãe fez o pagamento do cartão em atraso no vencimento do mês seguinte e sem autorização dela foi parcelado o restante em 24 meses e ainda por cima o saldo devedor ao invez de ser 400 foi para 2000',\n",
       "  'Estive na loja C&A do Barra Shopping, onde experimentei algumas peças que me agradaram. No local, com as peças em mãos, escaneei os códigos de barras pelo app e realizei a compra. Todos os itens constavam o prazo de 2h para entrega. Após realizar o pagamento, recebi um e-mail informando que o prazo de entrega era de 7 dias úteis.Observem que eu já estava no local e só realizei a compra pois havia a garantia pelo app de que a entrega seria realizada no prazo de 2h. Eu precisava das peças para o dia seguinte e por isso comprei.O prazo foi alterado após a realização do pagamento, sem qualquer justificativa.Como eu estava já dentro da loja aguardando as 2h e tive a infeliz surpresa da alteração do prazo, resolvi entrar em contato pelo atendimento online. Informei o meu CPF e o número do pedido e foi informado que o mesmo já estava disponível para retirada em loja.Conversei com um atendente, mostrei a ele a mensagem de que o pedido já estava disponível para retirada em loja, mas ele me informou que não constava no sistema.Recorri novamente ao atendimento online. Dessa vez solicitei falar com um especialista. Recebi a informação de que os produtos não tinham estoque em loja e por isso precisaram ser enviados via transportadora, aumentando o prazo de entrega.A informação fornecida pelo atendimento online é [Editado pelo Reclame Aqui]. Eu estava dentro da loja, com os produtos em mãos. Eles estavam sim disponíveis.Gostaria de saber qual providência será tomada, pois me sinto [Editado pelo Reclame Aqui] enquanto consumidora, tendo realizado a compra por conta da informação do prazo de entrega de 2 horas e tendo o aumento do prazo em 10700%',\n",
       "  'Fui fazer uma compra no valor aproximado de 360 reais, e fui abordado em fazer o cartão c$A sobre o pretexto de ter 10% de desconto na primeira compra, aceitei e informei que queria que fosse pago de 1x, ela disse que teria acesso a fatura no final do mês baixando o aplicativo e ao fazer isso verifiquei que ela colou a compra em 5x com juros totalizando mais de 500 reais a compra.Primeira e última vez que faço compra nessa loja, onde fica evidente a[Editado pelo Reclame Aqui] dos seus funcionários, muito provavelmente pressionados para bater a meta.',\n",
       "  'Olá, Utilizei a sandália apenas uma vez e o salto ficou frouxo, sem estabilidade alguma, inviabilizando o uso. ',\n",
       "  'Recebi um presente do programa c&a e vc, por hoje ser meu aniversário. O presente, que é um desconto de 10 reais não entra automaticamente na rappi, conforme informado.',\n",
       "  'No sábado, Dia 26/03/22, fui até a Loja C&A de Maracanaú, iria passar no meu cartão de credito e me ofereceram um da Loja online; C&A Pay, me passaram que não tinha nem uma tarifa nem custo, pra tê-lo, estão aceitei fazer, quando finalizei o cadastro pra ir passar minhas compras fui informada desse Seguro Bolsa Protegida, e fiquei extremamente chateada e decepcionada pela mentira, enfim foi me passado que eu podia cancelar e já liguei 3 vezes pra central e estão alegando um erro no sistema pra cancelar esse seguro e eu não quero esse Seguro, exijo que retirem o mesmo do meu cartão.',\n",
       "  'Eu comprei uma sandália no site da C&A usei apenas três vezes e o salto está saindo, estou muito triste pq a sandália é linda e confortável mas de péssima qualidade e os dois pés estão soltando não só uma ',\n",
       "  'Em janeiro liguei pra cea e pedi que fosse gerado um único boleto com as parcelas seguintes, pra que eu quitasse logo as minhas dívidas (já que eles me informaram que eu não poderia fazer isso na loja). A atendente disse que seria gerado o boleto só em fevereiro, pois janeiro ainda estava em aberto. Em fevereiro paguei a fatura, que eu achava que havia sido feito o que eu tinha solicitado, e depois não entrei mais no app. Semana passada fui fazer uma compra e pra minha surpresa, estava devendo mais de 500 reais, pois a incompetente da mulher que me atendeu em janeiro, não fez o que eu pedi. Hoje recebo e-mail dizendo que meu nome está no serasa. Um absurdo o tanto de juros e multa que está dentro dessa fatura, fora o constrangimento na fila e a dor de cabeça dessa confusão toda, pois na loja consta duas informações, tanto que eu tenho essa dívida quanto que eu tenho apenas 1 parcela em aberto. Então o sistema de vocês, assim como os profissionais, não são confiáveis! Eu só queria pagar adiantado o que estava devendo e agora estou com meu nome sujo e muito irritada! Não irei pagar nada a mais do que devo por incompetência de funcionário que não  fez o que deveria ter feito! Só quero pagar logo o que eu comprei e me desligar dessa empresa bagunçada! Hoje liguei novamente e me deram 5 dias úteis para que meu chamado fosse atendido, espero que resolvam logo, pois se isso atrapalhar a minha admissão amanhã no meu emprego novo, o processo vem! ',\n",
       "  'Comprei uma calça que não me serviu e não consigo fazer a devolução porque não querem gerar o código postal. ',\n",
       "  'Realizei uma compra na cea no shopping plaza em SBC onde iria efetuar pagamento no debito mas atendente ofereceu cartão digital para obter desconto na compra hoje ao acessar o cartao nao só nao obtive desconto como esta parcelado com valor bem maior do comprado na loja um absurdo e nao há opção no aplicativo para efetuar o pagamento total da compra e verificar se tenho o desconto correto oferecido no momento da compra ou seja fui nitidamente enganada. Quero quitar a compra com meu desconto de 20% e nunca mais utilizar cartão da loja. ',\n",
       "  'Realizei uma compra na cea no shopping plaza em SBC onde iria efetuar pagamento no debito mas atendente ofereceu cartão digital para obter desconto na compra hoje ao acessar o cartao nao só nao obtive desconto como esta parcelado com valor bem maior do comprado na loja um absurdo e nao há opção no aplicativo para efetuar o pagamento total da compra e verificar se tenho o desconto correto oferecido no momento da compra ou seja fui nitidamente enganada. Quero quitar a compra com meu desconto de 20% e nunca mais utilizar cartão da loja. ',\n",
       "  'A Loja esta me cobrando uma parcela em nome de Juliana que não é minha, ja mandei sms, já liguei no sac já atendi e disse que não sou a Juliana, o Sac disse que não poderia me ajudar,  mas eles insistem em me ligar, num dia eu já bloquiei mais de 200 números diferentes, peço a gentileza de que parem de me ligar cobrando a parcela da Juliana, senão vou dar andamento e vou entrar na justiça como danos morais.. sem mais.',\n",
       "  'Fiz uma compra pelo cartão C&A Pay mas essa mesma compra foi cancelada pela loja e mesmo assim mandaram a fatura pra mim pagar  pfvr resolvam isso logo, antes que eu decida reclamar no PROCON ',\n",
       "  'Hoje ja fazem 12 dias de atraso na entrega e nem tive resolução d loja cea,pois não recebie o pacote tive um péssimo atendimento quando falei na central no qual não me deixaram nem abrir uma reclamação e fiz uma reclamação neste mesmo canal e não tive nenhum tipo de contato da loja e ressalto que quero o valor no vale presente como o valor das peças atualizados pois não é culpa minha dos erros da loja como o vale em dobro por problema da cea e estou amparada no direito do consumidor , se cado eu não tenha nenhuma resposta vou levar na justiça por propaganda enganosa e danos morais ',\n",
       "  'Fiz a devolução do meu pedido v47621205cea-01. A postagem da devolução foi feita no dia 26/03/2022. Devolvi os 2 vestidos do meu pedido pois não seviram em mim. Estou no aguardo do estorno no cartão. Segue comprovante de postagem em anexo na reclamação.',\n",
       "  'NUNCA, JAMAIS, EM NENHUMA HIPÓTESE FAÇA O CARTÃO DA C&A. Já entrei em contato com um escritório de advocacia, e o mesmo me disse que pegou mais de 10 casos desse no caso passado. No dia 18/02/2022 eu fiz o pagamento total da minha fatura, e pouco tempo depois no dia 23/02/2022 eu CANCELEI o meu cartão da C&A. No dia de hoje, recebi um e-mail avisando que estou entrando no Serasa sendo que nem se quer tenho mais este cartão. O Valor já foi mais do que pago, inclusive com juros! Não recebi um email se quer do Bradescad ou da C&A tentando entrar em contato comigo, Recebi uma única ligação em um SÁBADO A NOITE, eu conversei com o Pablo que assim que percebeu que eu já havia cancelado o cartão, ele parou de me responder me forçando a desligar. NENHUMA EMPRESA CANCELA UM CARTÃO, SENDO QUE EXISTE UM SALDO DEVEDOR, NENHUMA! Tenho o protocolo de todas as conversas e todas as provas. Já fiz também um boletim de ocorrência, vou entrar em contato com o Seresa e só então entrar com um processo com essa empresa que inventa um débito para ganhar ainda mais encima dos seus produtos, se aproveitando de pessoas ignorantes.Tenho provas, nota fiscal, comprovantes e os protocolos de todas as formas de contato e não vou aceitar que uma empresa me humilhe desta forma. Eu sou pai de família e estava urgente precisando de um aumento no meu limite do cartão, coisa que não vai mais acontecer devido a essa extorsão da C&A feita comigo.',\n",
       "  'Tentei duas vezes trocar alguns produtos da C&A e achei extremamente complicado, cheia de códigos e mesmo eu comprando os produtos juntos, tem q enviar separado, com código de pedido + código de troca + declaração de conteúdo, e fui mais de duas vezes no correio e não consegui enviar.Na última tentativa, q pedi dia 4 de março, eu quebrei meu pé e não consegui ir ao correio, só consigo ir agora de robofoot. Mas meu código expirou.Portando gostaria que a C&A me mandasse novos códigos porque eu não tinha ideia da burocracia, o q me prejudicou muito, e um de saúde, o que impossibilitou a troca.',\n",
       "  'Tenho o cartão de crédito c&a há muitos anos e nunca aumenta o limite de crédito só aumenta anuidade eu quero aumentar meu limite ',\n",
       "  'Realizei compra presencial em 17/02/22, no shopping internacional de Guarulhos com o cartão C&a , o mesmo realizamos nesta data com a informação que teríamos todos os dados da compra no aplicativo C&a , então a nota por algum problema do sistema não foi impressa , quando verificado não encontramos a nota fiscal no aplicativo como também não consta no site da receita , sendo que foi digitado CPF para nota fiscal , preciso de uma resposta urgente da C& frente ocorrido , uma vez que sonegar nota é [Editado pelo Reclame Aqui] , quero minha segunda via da nota fiscal porque a compra apresentada no aplicativo não confere com o valor da compra real .']}"
      ]
     },
     "execution_count": 25,
     "metadata": {},
     "output_type": "execute_result"
    }
   ],
   "source": [
    "features"
   ]
  },
  {
   "cell_type": "code",
   "execution_count": 26,
   "id": "6d2cb3d1",
   "metadata": {},
   "outputs": [
    {
     "ename": "ValueError",
     "evalue": "All arrays must be of the same length",
     "output_type": "error",
     "traceback": [
      "\u001b[1;31m---------------------------------------------------------------------------\u001b[0m",
      "\u001b[1;31mValueError\u001b[0m                                Traceback (most recent call last)",
      "\u001b[1;32m~\\AppData\\Local\\Temp/ipykernel_7048/2155415209.py\u001b[0m in \u001b[0;36m<module>\u001b[1;34m\u001b[0m\n\u001b[1;32m----> 1\u001b[1;33m \u001b[0mdf\u001b[0m \u001b[1;33m=\u001b[0m \u001b[0mpd\u001b[0m\u001b[1;33m.\u001b[0m\u001b[0mDataFrame\u001b[0m\u001b[1;33m(\u001b[0m\u001b[0mfeatures\u001b[0m\u001b[1;33m)\u001b[0m\u001b[1;33m\u001b[0m\u001b[1;33m\u001b[0m\u001b[0m\n\u001b[0m\u001b[0;32m      2\u001b[0m \u001b[0mdf\u001b[0m\u001b[1;33m\u001b[0m\u001b[1;33m\u001b[0m\u001b[0m\n",
      "\u001b[1;32m~\\anaconda3\\lib\\site-packages\\pandas\\core\\frame.py\u001b[0m in \u001b[0;36m__init__\u001b[1;34m(self, data, index, columns, dtype, copy)\u001b[0m\n\u001b[0;32m    612\u001b[0m         \u001b[1;32melif\u001b[0m \u001b[0misinstance\u001b[0m\u001b[1;33m(\u001b[0m\u001b[0mdata\u001b[0m\u001b[1;33m,\u001b[0m \u001b[0mdict\u001b[0m\u001b[1;33m)\u001b[0m\u001b[1;33m:\u001b[0m\u001b[1;33m\u001b[0m\u001b[1;33m\u001b[0m\u001b[0m\n\u001b[0;32m    613\u001b[0m             \u001b[1;31m# GH#38939 de facto copy defaults to False only in non-dict cases\u001b[0m\u001b[1;33m\u001b[0m\u001b[1;33m\u001b[0m\u001b[0m\n\u001b[1;32m--> 614\u001b[1;33m             \u001b[0mmgr\u001b[0m \u001b[1;33m=\u001b[0m \u001b[0mdict_to_mgr\u001b[0m\u001b[1;33m(\u001b[0m\u001b[0mdata\u001b[0m\u001b[1;33m,\u001b[0m \u001b[0mindex\u001b[0m\u001b[1;33m,\u001b[0m \u001b[0mcolumns\u001b[0m\u001b[1;33m,\u001b[0m \u001b[0mdtype\u001b[0m\u001b[1;33m=\u001b[0m\u001b[0mdtype\u001b[0m\u001b[1;33m,\u001b[0m \u001b[0mcopy\u001b[0m\u001b[1;33m=\u001b[0m\u001b[0mcopy\u001b[0m\u001b[1;33m,\u001b[0m \u001b[0mtyp\u001b[0m\u001b[1;33m=\u001b[0m\u001b[0mmanager\u001b[0m\u001b[1;33m)\u001b[0m\u001b[1;33m\u001b[0m\u001b[1;33m\u001b[0m\u001b[0m\n\u001b[0m\u001b[0;32m    615\u001b[0m         \u001b[1;32melif\u001b[0m \u001b[0misinstance\u001b[0m\u001b[1;33m(\u001b[0m\u001b[0mdata\u001b[0m\u001b[1;33m,\u001b[0m \u001b[0mma\u001b[0m\u001b[1;33m.\u001b[0m\u001b[0mMaskedArray\u001b[0m\u001b[1;33m)\u001b[0m\u001b[1;33m:\u001b[0m\u001b[1;33m\u001b[0m\u001b[1;33m\u001b[0m\u001b[0m\n\u001b[0;32m    616\u001b[0m             \u001b[1;32mimport\u001b[0m \u001b[0mnumpy\u001b[0m\u001b[1;33m.\u001b[0m\u001b[0mma\u001b[0m\u001b[1;33m.\u001b[0m\u001b[0mmrecords\u001b[0m \u001b[1;32mas\u001b[0m \u001b[0mmrecords\u001b[0m\u001b[1;33m\u001b[0m\u001b[1;33m\u001b[0m\u001b[0m\n",
      "\u001b[1;32m~\\anaconda3\\lib\\site-packages\\pandas\\core\\internals\\construction.py\u001b[0m in \u001b[0;36mdict_to_mgr\u001b[1;34m(data, index, columns, dtype, typ, copy)\u001b[0m\n\u001b[0;32m    462\u001b[0m         \u001b[1;31m# TODO: can we get rid of the dt64tz special case above?\u001b[0m\u001b[1;33m\u001b[0m\u001b[1;33m\u001b[0m\u001b[0m\n\u001b[0;32m    463\u001b[0m \u001b[1;33m\u001b[0m\u001b[0m\n\u001b[1;32m--> 464\u001b[1;33m     return arrays_to_mgr(\n\u001b[0m\u001b[0;32m    465\u001b[0m         \u001b[0marrays\u001b[0m\u001b[1;33m,\u001b[0m \u001b[0mdata_names\u001b[0m\u001b[1;33m,\u001b[0m \u001b[0mindex\u001b[0m\u001b[1;33m,\u001b[0m \u001b[0mcolumns\u001b[0m\u001b[1;33m,\u001b[0m \u001b[0mdtype\u001b[0m\u001b[1;33m=\u001b[0m\u001b[0mdtype\u001b[0m\u001b[1;33m,\u001b[0m \u001b[0mtyp\u001b[0m\u001b[1;33m=\u001b[0m\u001b[0mtyp\u001b[0m\u001b[1;33m,\u001b[0m \u001b[0mconsolidate\u001b[0m\u001b[1;33m=\u001b[0m\u001b[0mcopy\u001b[0m\u001b[1;33m\u001b[0m\u001b[1;33m\u001b[0m\u001b[0m\n\u001b[0;32m    466\u001b[0m     )\n",
      "\u001b[1;32m~\\anaconda3\\lib\\site-packages\\pandas\\core\\internals\\construction.py\u001b[0m in \u001b[0;36marrays_to_mgr\u001b[1;34m(arrays, arr_names, index, columns, dtype, verify_integrity, typ, consolidate)\u001b[0m\n\u001b[0;32m    117\u001b[0m         \u001b[1;31m# figure out the index, if necessary\u001b[0m\u001b[1;33m\u001b[0m\u001b[1;33m\u001b[0m\u001b[0m\n\u001b[0;32m    118\u001b[0m         \u001b[1;32mif\u001b[0m \u001b[0mindex\u001b[0m \u001b[1;32mis\u001b[0m \u001b[1;32mNone\u001b[0m\u001b[1;33m:\u001b[0m\u001b[1;33m\u001b[0m\u001b[1;33m\u001b[0m\u001b[0m\n\u001b[1;32m--> 119\u001b[1;33m             \u001b[0mindex\u001b[0m \u001b[1;33m=\u001b[0m \u001b[0m_extract_index\u001b[0m\u001b[1;33m(\u001b[0m\u001b[0marrays\u001b[0m\u001b[1;33m)\u001b[0m\u001b[1;33m\u001b[0m\u001b[1;33m\u001b[0m\u001b[0m\n\u001b[0m\u001b[0;32m    120\u001b[0m         \u001b[1;32melse\u001b[0m\u001b[1;33m:\u001b[0m\u001b[1;33m\u001b[0m\u001b[1;33m\u001b[0m\u001b[0m\n\u001b[0;32m    121\u001b[0m             \u001b[0mindex\u001b[0m \u001b[1;33m=\u001b[0m \u001b[0mensure_index\u001b[0m\u001b[1;33m(\u001b[0m\u001b[0mindex\u001b[0m\u001b[1;33m)\u001b[0m\u001b[1;33m\u001b[0m\u001b[1;33m\u001b[0m\u001b[0m\n",
      "\u001b[1;32m~\\anaconda3\\lib\\site-packages\\pandas\\core\\internals\\construction.py\u001b[0m in \u001b[0;36m_extract_index\u001b[1;34m(data)\u001b[0m\n\u001b[0;32m    633\u001b[0m             \u001b[0mlengths\u001b[0m \u001b[1;33m=\u001b[0m \u001b[0mlist\u001b[0m\u001b[1;33m(\u001b[0m\u001b[0mset\u001b[0m\u001b[1;33m(\u001b[0m\u001b[0mraw_lengths\u001b[0m\u001b[1;33m)\u001b[0m\u001b[1;33m)\u001b[0m\u001b[1;33m\u001b[0m\u001b[1;33m\u001b[0m\u001b[0m\n\u001b[0;32m    634\u001b[0m             \u001b[1;32mif\u001b[0m \u001b[0mlen\u001b[0m\u001b[1;33m(\u001b[0m\u001b[0mlengths\u001b[0m\u001b[1;33m)\u001b[0m \u001b[1;33m>\u001b[0m \u001b[1;36m1\u001b[0m\u001b[1;33m:\u001b[0m\u001b[1;33m\u001b[0m\u001b[1;33m\u001b[0m\u001b[0m\n\u001b[1;32m--> 635\u001b[1;33m                 \u001b[1;32mraise\u001b[0m \u001b[0mValueError\u001b[0m\u001b[1;33m(\u001b[0m\u001b[1;34m\"All arrays must be of the same length\"\u001b[0m\u001b[1;33m)\u001b[0m\u001b[1;33m\u001b[0m\u001b[1;33m\u001b[0m\u001b[0m\n\u001b[0m\u001b[0;32m    636\u001b[0m \u001b[1;33m\u001b[0m\u001b[0m\n\u001b[0;32m    637\u001b[0m             \u001b[1;32mif\u001b[0m \u001b[0mhave_dicts\u001b[0m\u001b[1;33m:\u001b[0m\u001b[1;33m\u001b[0m\u001b[1;33m\u001b[0m\u001b[0m\n",
      "\u001b[1;31mValueError\u001b[0m: All arrays must be of the same length"
     ]
    }
   ],
   "source": [
    "df = pd.DataFrame(features)\n",
    "df"
   ]
  }
 ],
 "metadata": {
  "kernelspec": {
   "display_name": "Python 3 (ipykernel)",
   "language": "python",
   "name": "python3"
  },
  "language_info": {
   "codemirror_mode": {
    "name": "ipython",
    "version": 3
   },
   "file_extension": ".py",
   "mimetype": "text/x-python",
   "name": "python",
   "nbconvert_exporter": "python",
   "pygments_lexer": "ipython3",
   "version": "3.9.7"
  }
 },
 "nbformat": 4,
 "nbformat_minor": 5
}

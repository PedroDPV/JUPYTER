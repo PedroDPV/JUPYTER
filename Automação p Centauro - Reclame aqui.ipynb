{
 "cells": [
  {
   "cell_type": "code",
   "execution_count": 2,
   "id": "9c681f6c",
   "metadata": {},
   "outputs": [
    {
     "name": "stderr",
     "output_type": "stream",
     "text": [
      "C:\\Users\\pedro\\AppData\\Local\\Temp/ipykernel_1972/2523368702.py:11: DeprecationWarning: find_element_by_xpath is deprecated. Please use find_element(by=By.XPATH, value=xpath) instead\n",
      "  driver.find_element_by_xpath('/html/body/div[9]/div[2]/div/div[2]/div[1]/div/div[2]/div/div[1]/button').click()\n",
      "C:\\Users\\pedro\\AppData\\Local\\Temp/ipykernel_1972/2523368702.py:34: DeprecationWarning: find_elements_by_class_name is deprecated. Please use find_elements(by=By.CLASS_NAME, value=name) instead\n",
      "  titulos_p1 = driver.find_elements_by_class_name('sc-1pe7b5t-1.fTrwHU')\n",
      "C:\\Users\\pedro\\AppData\\Local\\Temp/ipykernel_1972/2523368702.py:42: DeprecationWarning: find_elements_by_css_selector is deprecated. Please use find_elements(by=By.CSS_SELECTOR, value=css_selector) instead\n",
      "  links_p1 = driver.find_elements_by_css_selector('a')\n"
     ]
    },
    {
     "name": "stdout",
     "output_type": "stream",
     "text": [
      "['RENEGOCIAÇÃO DE DIVIDA CARTÃO C&A', 'CANCELAMENTO DE COMPRA', 'Sapatos descolando ', 'Cobrança indevida e falta de atendimento ', 'Perfume falsificado na C&A', 'Indignação ', 'Cobranças indevidas ', 'Não estão aceitando devolução via Correios', 'Cartão C&A+ Bloqueado', 'vale troca nao funciona', 'Pedido em atraso e a C&A não faz o mínimo pra ajudar', 'Alarme de segurança ', 'Descaso com o cliente para solucionar a venda de um produto com defeito!', 'Cobrança em duplicidade', 'CANCELAMENTO', 'Atraso de mercadoria ', 'estorno não realizado', 'Produto cancelado', 'Cobrança indevida da APPLE.COM', 'Mau atendimento devido a insistência para criação de cartão']\n",
      "20\n",
      "[['https://www.reclameaqui.com.br/cea-loja-online/renegociacao-de-divida-cartao-c-a_9KWr9ZoeLjvzjhQr/', 'https://www.reclameaqui.com.br/cea-loja-online/cancelamento-de-compra_O4OJIpaf9LhBxIu7/', 'https://www.reclameaqui.com.br/cea-loja-online/sapatos-descolando_sRhwaKvt2Y-jAxZX/', 'https://www.reclameaqui.com.br/cea-loja-online/cobranca-indevida-e-falta-de-atendimento_LvZEzqayIcuMqYqT/', 'https://www.reclameaqui.com.br/cea-loja-online/perfume-falsificado-na-c-a_8YzNT3UQb0mkOLFh/', 'https://www.reclameaqui.com.br/cea-loja-online/indignacao_rf5jz4StLEPImhHZ/', 'https://www.reclameaqui.com.br/cea-loja-online/cobrancas-indevidas_Zb4pq2Gog_1F1CCp/', 'https://www.reclameaqui.com.br/cea-loja-online/nao-estao-aceitando-devolucao-via-correios_phOTf0BkaqioCS4d/', 'https://www.reclameaqui.com.br/cea-loja-online/cartao-c-a-bloqueado_49lbhColmmy33xUW/', 'https://www.reclameaqui.com.br/cea-loja-online/vale-troca-nao-funciona_i1k5LHMiJxq4MNnr/'], ['https://www.reclameaqui.com.br/cea-loja-online/pedido-em-atraso-e-a-c-a-nao-faz-o-minimo-pra-ajudar_QhAzhRiOynF9OZyk/', 'https://www.reclameaqui.com.br/cea-loja-online/alarme-de-seguranca_QU204UneApR2W8aG/', 'https://www.reclameaqui.com.br/cea-loja-online/descaso-com-o-cliente-para-solucionar-a-venda-de-um-produto-com-defeito_KAkIeUDjraiBGTvF/', 'https://www.reclameaqui.com.br/cea-loja-online/cobranca-em-duplicidade_EwcsJFmSbBpOYFtN/', 'https://www.reclameaqui.com.br/cea-loja-online/cancelamento_YNb7Y3y0DVvM6hYx/', 'https://www.reclameaqui.com.br/cea-loja-online/atraso-de-mercadoria_oPyuiuB-PHoZ6wZB/', 'https://www.reclameaqui.com.br/cea-loja-online/estorno-nao-realizado_-Fk_3cfV-iRfsv_K/', 'https://www.reclameaqui.com.br/cea-loja-online/produto-cancelado_xqv6tcslYmIznzvr/', 'https://www.reclameaqui.com.br/cea-loja-online/cobranca-indevida-da-apple-com_RubO9aA8J4CuuGKG/', 'https://www.reclameaqui.com.br/cea-loja-online/mau-atendimento-devido-a-insistencia-para-criacao-de-cartao_sGP55x-csAs5Y3By/']]\n",
      "2\n",
      "['Tentei duas vezes trocar alguns produtos da C&A e achei extremamente complicado, cheia de códigos e mesmo eu comprando os produtos juntos, tem q enviar separado, com código de pedido + código de troca + declaração de conteúdo, e fui mais de duas vezes no correio e não consegui enviar.Na última tentativa, q pedi dia 4 de março, eu quebrei meu pé e não consegui ir ao correio, só consigo ir agora de robofoot. Mas meu código expirou.Portando gostaria que a C&A me mandasse novos códigos porque eu não tinha ideia da burocracia, o q me prejudicou muito, e um de saúde, o que impossibilitou a troca.', 'Estou tentando de todas as formas negociar meu débito com a empresa porém tentei todos os números e sites e não tenho retorno.. quero pagar porém não sei como fazer isso sem um suporte para me passar o valor e as opções de pagamento', 'BOA TARDE, REALIZEI UMA COMPRA NO SITE DA C&A NO DIA 17/02/2022 E EM UM DOS PEDIDOS, FOI DA LOJA PARCEIRA.A COMPRA CHEGOU, FOI RECEBIDA POR MEUS PAIS, SO QUE EU ESTAVA VIAJANDO, AO CHEGAR CONSTATEI QUE A CALÇA JEANS FEMININA SKINNY - 268352 BRANCA SAWARY 40 FICOU PEQUENA. ALÉM DE SER PEQUENA É MTO TRANSPARENTE, DE MÁ QUALIDADE.FALEI NO CHAT, SÓ QUE INFORMARAM QUE O PRAZO DE DEVOLUÇÃO JA TINHA PASSADO (7 DIAS). É UM TOTAL ABSURDO COM O CONSUMIDOR, PORQUE SE FOI COMPRADO PELO SITE DA C&A O MINIMO QUE ELA PODERIA FAZER SERIA SE RESPONSABILIZAR. E AGORA ESTOU NO PREJUIZO, NAO CONSEGUIR VENDER A CALÇA, NEM TROCAR, TA AQUI PARADA.', 'Comprei dois sapatos mais ou menos um mês na loja da cea e os dois estão descolando, presepada isso, vender porduto de ma qualidade ', 'Fiz o cartão na loja e nunca usei.Ao tentar usar me informaram que teria uma divida.Estranhei mas efetuei o pagamento de 20 e poucos reais e me informaram que era seguros atrasados.Mesmo apos o pagamento o cartão não passava.Ao ligar me informaram que o mesmo teria sido cancelado por eles. Ai questionei a data do pagamento que foi feito e o mesmo ja estava cancelado.Liguei para a Central de atendimento e depois de muita insistência me informaram que seria feito a devolução.Ao ligar hoje queriam me devolver somente 3,00 e nao o valor total.Ao questionar o valor foi transferida para varios setores e o último desligaram na minha cara.Empresa sem transparência e falta  de respeito com o consumidor.', 'Em 16/02/2022 comprei o perfume Tommy Hilfiger masculino, de 50 ml, no site da Cea. Não era o site mais barato, mas julguei que viria o original.Entretanto o perfume não tem fixação, some em minutos. O uso há 15 anos. Ou seja, o produto recebido não é o original.Em 25/02/2022 abri uma reclamação no faleconosco@e.cea.com.br, solicitando a devolução e reembolso.Após várias reiterações e promessas de retorno de Leidy e Mayara Domenice, não recebi um retorno definitivo até agora.', 'Eu e a minha cunhada compramos duas calças  na c&a uma encolheu  e a outra tem uma perna mais curta que a outra  como tiramos a etiqueta nao conseguimos fazer a troca que decepção  com a loja ', 'A central de cobrança da cea ficam ligando pro meu número procurando uma tal de Glória.  Isso ja vai pra 2 meses que ligam de número diferentes.  Eu ja entrei em contato com a central. Mas nd foi feito ainda. So me pedem para eu aguradar o prazo de 3 dias que o setor responsável iriam entra em contato comigo. E isso nao aconteceu. Ja liguei 3 vezes solicitando que resolvam o problema. Meu celular toca toda hora procurando outra pessoa.', 'Boa tarde,Eu comprei uma blusa no site da C&A no dia 04/03. Chegou no dia 09/03 no escritório, bem rápido. Só que não serviu e eu estou tentando fazer devolução. No site, não me dão a opção mais (vide print). Liguei para o SAC e a atendente insistiu para que eu fosse até uma loja física da C&A. Eu compro on-line exatamente para não ter que me encaminhar atééé uma loja física, né? Eu disse que queria devolver via Correios e receber de volta via cupom, porque assim é mais fácil de usar no site. Ela disse que me mandaria por e-mail o código para devolução MAS NÃO MANDOU.É UM ABSURDO! Eu preciso ter a opção de devolver por onde eu comprei!', 'Estou com um problema muito frustrante com a C&A. Por muitos anos tive meu cartão C&A+ e creio que no ano passado, fui informada que precisava criar um novo de bandeira VISA porque o C&A+ seria cancelado, meses depois disseram que teria que fazer um de bandeira Elo porque o VISA agora seria cancelado. Ao ligar na central dias depois, foi informado que a informação não era válida, que os 3 cartões estavam ativos. Como o C&A+ não tinha bandeira e, se eu usasse no site, não cobraria anuidade, deixei de usá-lo na loja física para manter o limite livre pra quando usasse na loja virtual. Quando foi há minutos atrás eu liguei no 4004 na C&A e conferi o limite disponível de 1550 reais, mas pra minha supresa ao finalizar a compra o pagamento não aprovou, então liguei novamente pro 4004 pra saber o que aconteceu e simplesmente cancelaram o meu cartão!! Sem meu consentimento!! Um absurdo!! Ao perguntar como faria pra reativá-lo a atendente disse não ser possível e que eu teria que ir em loja física e fazer um cartão de bandeira, sendo que já tenho dois de bandeira e quero reativar o meu da loja, que me permite comprar no site sem que tenha que pagar anuidade para tal. Estou muito decepcionada com C&A sou cliente há anos, sempre paguei certo e não tiveram a mínima consideração por mim! Solicito que reativem meu cartão final 0515.', 'OLA MEU PEDIDO CHEGOU ONTEM DIA 28/03 RAPIDAMENTE PROVEI E VI QUE ESTAVAM LARGOS E HAVIA FALTANDO UMA PEÇA, ME DIRIGI ATE A LOJA FISICA ME DISSERAM QUE NAO HAVIA MAIS VESTIDOS MENORES DAQUELE POR ISSO IAM ME FAZER UM VALE TROCA QUE EU PODERIA REFAZER A COMPRA PELO SITE/APP SEM PROBLEMAS E ME DEU TELEFONE SAC PARA PERGUNTAR SOBRE PRODUTO FALTANDO, LIGUEI RESOLVI O PRODUTO QUE NAO VEIO POREM QUANDO TENTEI FAZER A COMPRA NAO CONSEGUI, LIGUEI SAC NOVAMENTE E A ATENDENTE ME INFORMOU QUE MEU VALE NAO FAZ COMPRA PELO SITE/APP, MAS ME DIZ COMO ISSO SENDO QUE A VENDEDORA E A SURPERVISORA QUE ESTAVAM NA LOJA QUE ME ATENDERAM DISSE QUE SERIA POSSIVEL A COMPRA? PRODUTO QUE EU QUERO NAO TEM NA LOJA FISICA A ATENTENDE NAO QUIS ME AJUDAR PELO SAC E EU ESTOU COM UM VALE QUE NAO POSSO USAR, PRECISO RESOLVER MEU PROBLEMA POR GENTIELZA', 'Fiz um pedido dia 17/03 e no momento da compra através do site, dizia que o pedido chegaria no mesmo dia, mas depois de comprar, fui conferir no app e lá dizia que o prazo seria de 6 dias úteis, indo contra a informação que constava no site, enfim decidi esperar mesmo assim, mas já passou desse prazo e até agora nada. Enfim, eles dizem que o pedido está com atraso, mas que tenho que aguardar, porem nem o código de rastreio carrega.Quero saber quando esse pedido vai chegar, por favor!! ', 'Comprei uma mercadoria na cea do shopping carioca,  quando cheguei em casa, a roupa estava com o alarme de segurança. Levei a roupa novamente na loja e eles não tiraram o alarme, alegando que eu estava sem a nota. O erro foi deles,  eu não sei onde está a nota, já devo ter jogado no lixo,  e tive que sair novamente de loja com risco do alarme tocar. Estou muito desapontada com essa loja,porque pedem o CPF na hora da compra pra quê? Se depois não conseguem ver se vc realmente comprou o produto. Resumindo  estou com a roupa em casa com o alarme com medo de tirar e rasgar. ', 'Realizei uma compra de um smart Watch da marca mondaine no dia 05/03/2022 na loja de Santos-SP na Avenida Ana Costa e no dia 17/03 o produto apresentou defeito, parando de funcionar. No dia 21 voltei à loja para saber como poderiam me ajudar esperando no mínimo que trocassem por outro sem defeito e descobri que só poderiam me ajudar se eu tivesse retornado dentro de 7 dias e que eu teria que ir até uma assistência técnica localizada em outra cidade. Tentei de todas as formas resolver direto com a loja, inclusive sugeri deixar com eles o relógio para que enviassem à assistência já que seria muito transtorno para eu me deslocar até outra cidade e resolver por conta própria e simplesmente lavaram as mãos para o meu problema. Tive gastos com o deslocamento e estacionamento e até o momento estou sem meu relógio e sem previsão de quando vou tê-lo porque pra ajudar a assistência não atende o telefone e não responde no WhatsApp. Nunca mais eu compro alguma coisa nessa loja, qualquer estabelecimento pequeno dá pelo menos 1 a  3 meses de garantia para defeitos de produtos eletrônicos e provavelmente eu teria pago bem mais barato mas como achei que estava comprando num local de confiança e que se preocupasse com a satisfação do cliente nem me preocupei em pesquisar. Me arrependi muito! Descaso total com o cliente e não recomendo esta loja para ninguém!', 'Fiz uma compra na CeA no dia 04/03/2022 pelo app e outra no dia 17/03/2022. Ontem ao receber uma fatura para pagamento tive 3 surpresas desagradáveis:1- Colocaram minhas compras no crédito. Sempre deixei claro na loja que não tinha interesse em cartão de crédito, se fosse possível, apenas o cartão da loja. Do nada, sem minha autorização ou comunicado transformam meu cartão em cartão de crédito.2 - A compra do dia 17/03 que optei por parcelar veio para pagamento integral, rotativo. Ou seja, eu escolhi uma forma de pagamento, mas a vontade da loja é a que prevalece, valor integral e alto pra eu pagar de uma vez.3 - Quando oque não estava bom pode piorar, a compra do dia 04/03 veio em duplicidade na fatura. Não recebi os produtos em duplicidade, mas a cobrança sim!Com muito custo falei na Bradescard, eu acho, pelo telefone que veio na fatura e abriram uma investigação. Pra eu saber o resultado, em 20 dias ÚTEIS, EU terei que ligar novamente e perguntar, enfrentar fila, horas de espera, ligações que caem o tempo todo pra ver se tomaram vergonha e cancelaram a duplicidade. Eu que fui [Editado pelo Reclame Aqui] e o transtorno pra tentar sanar a questão tem que ser meu? E outra fui instruída a pagar a duplicidade e tentar, depois do processo reaver o valor. Caso eu pague sem o valor em duplicidade posso incorrer em multa por pagamento mínimo.. é inacreditável. E tentei no atendimento telefônico cancelar o cartão e não pude, tem que ser na loja. Cobrar em duplicidade pode ser pelo app, escolher a forma de parcelamento por mim pode ser pelo app, tornar meu cartão da loja como de crédito sem minha autorização pode ser pelo app ou telefone, comprar pelo app, site e telefone pode, agora cancelar o cartão tem que ser na loja! Oi??? A CeA está toda errada e o cliente que arque com o prejuízo, frustração, trabalheira pra resolver? Melhore viu CeA.', 'Prezados,Mais uma vez estou aqui me aborrecendo, certo dia fui fazer uma compra e me ofereceram um cartão da loja, eu aceitei e assim o fiz. Logo no primeiro mÊs já me veio uma cobrança embora eu não tenho feito nenhuma compra. Quando liguei para saber disseram que se tratava do seguro, coisa que eu também não solicitei, ai cancelaram essa cobrança e disseram que o serviço. No mês  seguinte veio a mesma cobrança eu liguei e cancelei o cartão, e para meu aborrecimento novamente esse mês mesmo após o cancelamento do cartão veio uma nova cobrança, não me interessa se é pelo bradesco ou qualquer outro banco, o fato é que eu não contratei esse serviço e quero o cancelamento urgente. Liguei dia 05/03 e segue o protocolo de número 00192496 cancelamento.', 'Realizei uma compra com a c&a no dia 05/03 , com prazo de entrega de 8 dias úteis,  prazo final para entrega dia 16/03 , hoje é 29/03 e não obtive nenhuma resolutiva da empresa , ninguém liga , manda mensagem para esclarecer nada , já liguei conversei com atendentes e nada foi resolvido , e continuo aqui no prejuízo. ', 'Faço muitos pedidos no site e precisei devolver algumas peças e dessas alguns  estornos estão pendentes, tentei entrar em contato com a loja mas não tive resposta.Segue os dados que tenho dos pedidos:pedido: V42336265CEA-01 // protocolo: 12251059 // cod aut postagem: 1900663647  - valor estorno: 254,35pedido: V42436647CEA-02 // protocolo: 12287398 // cod aut postagem: 1906036752  - valor estorno: 226,99pedido: V42892874CEA-03 // protocolo: 12372411 // cod aut postagem: 1918508537  - valor estorno:  38,39pedido: V42892874CEA-01 // protocolo: 12372454 // cod aut postagem: 1918509565  - valor estorno: 164,77', 'Em 28/03 realizei um compra no app e na data de hoje recebi um e-mail informando que uma dos produtos foi cancelado (não informaram o motivo)Liguei na central de atendimento para saber o real motivo pois quero muito o produto e também não souberam informar.Sempre fui cliente tanto loja física e on-line e nunca aconteceu isso.Eu apenas quero os produtos em que comprei e paguei!', 'Bom dia, na minha fatura deste mês vieram duas compras indevidas da APPLE.COM/BILL, uma de R$549,90 e outra de R$124,90 sendo que NÃO sou usuário de iPhone e nem de qualquer outro produto da Apple. Nunca fiz compra de qualquer produto da Apple em toda minha vida.Gostaria de que revisassem essa compra pois não irei pagar por algo que não comprei e é provável de que tenham vazado meus dados para algum hacker.']\n",
      "20\n"
     ]
    }
   ],
   "source": [
    "import time\n",
    "import pandas as pd\n",
    "from selenium import webdriver\n",
    "from bs4 import BeautifulSoup\n",
    "import requests\n",
    "\n",
    "driver = webdriver.Chrome()\n",
    "driver.get('https://www.reclameaqui.com.br/empresa/centauro-loja-fisica/lista-reclamacoes/')\n",
    "time.sleep(1)\n",
    "#ACEITAR COOKIES\n",
    "driver.find_element_by_xpath('/html/body/div[9]/div[2]/div/div[2]/div[1]/div/div[2]/div/div[1]/button').click()\n",
    "#PEGAR O TITULO DAS 10 RECLAMAÇÕES DA PAGINA:\n",
    "\n",
    "al1 = []\n",
    "al2 = []\n",
    "titulos = []\n",
    "primeiros_links = []\n",
    "allrefs = []\n",
    "qtd_paginas = 3\n",
    "\n",
    "\n",
    "\n",
    "for pagina in range(qtd_paginas):    \n",
    "    if pagina == 0:\n",
    "        pass\n",
    "    else:\n",
    "        driver.get(f'https://www.reclameaqui.com.br/empresa/centauro-loja-fisica/lista-reclamacoes/?pagina={pagina}')\n",
    "        \n",
    "        titulos_p1 = driver.find_elements_by_class_name('sc-1pe7b5t-1.fTrwHU')\n",
    "        for titulo in titulos_p1:                        \n",
    "            al1 = titulo.get_attribute('title')\n",
    "            titulos.append(al1)\n",
    "            \n",
    "        driver.get(f'https://www.reclameaqui.com.br/empresa/centauro-loja-fisica/lista-reclamacoes/?pagina={pagina}')\n",
    "        links_p1 = driver.find_elements_by_css_selector('a')\n",
    "        for link in links_p1:\n",
    "            al2 = link.get_attribute('href')\n",
    "            allrefs.append(al2)\n",
    "            linksuteis = allrefs[128:138]\n",
    "            \n",
    "        primeiros_links.append(linksuteis)\n",
    "        linksuteis = []\n",
    "        allrefs = []\n",
    "\n",
    "print (titulos)\n",
    "print (len(titulos))\n",
    "print (primeiros_links)\n",
    "print (len(primeiros_links))\n",
    "\n",
    "headers = {'user-agent': 'Mozilaa/5.0'}\n",
    "pagina = requests.get('https://www.reclameaqui.com.br/centauro-loja-fisica/troca-complicada-e-expirada_E5l9PbpCY5wwJJc3/',\n",
    "                     headers = headers)\n",
    "\n",
    "pagina.text\n",
    "sopa = pagina.text\n",
    "sopa = BeautifulSoup(sopa, 'html.parser')\n",
    "\n",
    "reclamacao = sopa.find_all('p' , {'data-testid':'complaint-description'})\n",
    "\n",
    "# PEGAR TODAS AS 10 RECLAMAÇÕES DAS PAGINAS ESCOLHIDAS :\n",
    "\n",
    "all_reclamacoes = []\n",
    "\n",
    "for pag in primeiros_links:\n",
    "    \n",
    "    for paglink in pag:\n",
    "        headers = {'user-agent': 'Mozilaa/5.0'}\n",
    "        pagina.text\n",
    "        sopa = pagina.text\n",
    "        sopa = BeautifulSoup(sopa, 'html.parser')                        \n",
    "        pagina = requests.get(paglink, headers = headers)\n",
    "        reclamacao = sopa.find_all('p' , {'data-testid':'complaint-description'})\n",
    "        all_reclamacoes.append(reclamacao[0].text)\n",
    "\n",
    "print (all_reclamacoes)\n",
    "print (len(all_reclamacoes))\n"
   ]
  },
  {
   "cell_type": "code",
   "execution_count": null,
   "id": "93b942f9",
   "metadata": {},
   "outputs": [],
   "source": []
  },
  {
   "cell_type": "code",
   "execution_count": null,
   "id": "ed5f2a3c",
   "metadata": {},
   "outputs": [],
   "source": []
  },
  {
   "cell_type": "code",
   "execution_count": null,
   "id": "6d2cb3d1",
   "metadata": {},
   "outputs": [],
   "source": []
  }
 ],
 "metadata": {
  "kernelspec": {
   "display_name": "Python 3 (ipykernel)",
   "language": "python",
   "name": "python3"
  },
  "language_info": {
   "codemirror_mode": {
    "name": "ipython",
    "version": 3
   },
   "file_extension": ".py",
   "mimetype": "text/x-python",
   "name": "python",
   "nbconvert_exporter": "python",
   "pygments_lexer": "ipython3",
   "version": "3.9.7"
  }
 },
 "nbformat": 4,
 "nbformat_minor": 5
}

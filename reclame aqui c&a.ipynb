{
 "cells": [
  {
   "cell_type": "code",
   "execution_count": 1,
   "id": "4857c5df",
   "metadata": {},
   "outputs": [
    {
     "name": "stderr",
     "output_type": "stream",
     "text": [
      "C:\\Users\\Mayana\\AppData\\Local\\Temp/ipykernel_24376/44631631.py:5: DeprecationWarning: executable_path has been deprecated, please pass in a Service object\n",
      "  driver = webdriver.Chrome(executable_path=r'C:\\Users\\Mayana\\Downloads\\chromedriver_win32\\chromedriver.exe')\n",
      "C:\\Users\\Mayana\\AppData\\Local\\Temp/ipykernel_24376/44631631.py:9: DeprecationWarning: find_element_by_xpath is deprecated. Please use find_element(by=By.XPATH, value=xpath) instead\n",
      "  driver.find_element_by_xpath('/html/body/div[9]/div[2]/div/div[2]/div[1]/div/div[2]/div/div[1]/button').click()\n",
      "C:\\Users\\Mayana\\AppData\\Local\\Temp/ipykernel_24376/44631631.py:29: DeprecationWarning: find_elements_by_class_name is deprecated. Please use find_elements(by=By.CLASS_NAME, value=name) instead\n",
      "  titulos_p1 = driver.find_elements_by_class_name('sc-1pe7b5t-1.fTrwHU')\n",
      "C:\\Users\\Mayana\\AppData\\Local\\Temp/ipykernel_24376/44631631.py:36: DeprecationWarning: find_elements_by_css_selector is deprecated. Please use find_elements(by=By.CSS_SELECTOR, value=css_selector) instead\n",
      "  links_p1 = driver.find_elements_by_css_selector('a')\n"
     ]
    }
   ],
   "source": [
    "import time\n",
    "import pandas as pd\n",
    "from selenium import webdriver\n",
    "\n",
    "driver = webdriver.Chrome(executable_path=r'C:\\Users\\Mayana\\Downloads\\chromedriver_win32\\chromedriver.exe')\n",
    "driver.get('https://www.reclameaqui.com.br/empresa/cea-loja-online/lista-reclamacoes/?pagina=1')\n",
    "time.sleep(1)\n",
    "#ACEITAR COOKIES\n",
    "driver.find_element_by_xpath('/html/body/div[9]/div[2]/div/div[2]/div[1]/div/div[2]/div/div[1]/button').click()\n",
    "#PEGAR O TITULO DAS 10 RECLAMAÇÕES DA PAGINA:\n",
    "contador = 0\n",
    "lista_1 = []\n",
    "lista_2 = []\n",
    "todostitulos = []\n",
    "lista_comtitulos= []\n",
    "all_links = []\n",
    "\n",
    "todoshref = []\n",
    "qtd_paginas = 2\n",
    "\n",
    "#LAÇO \"FOR\" PRA ACESSAR A QUANTIDADE DE PAGINAS DEFINIDAS NA VARIÁVEL \"qtd_paginas\":\n",
    "for pagina in range(qtd_paginas):\n",
    "    \n",
    "    if pagina == 0:\n",
    "        pass\n",
    "    else: \n",
    "        driver.get(f'https://www.reclameaqui.com.br/empresa/cea-loja-online/lista-reclamacoes/?pagina={pagina}')\n",
    "#pegar os titulos das reclamações:      \n",
    "        titulos_p1 = driver.find_elements_by_class_name('sc-1pe7b5t-1.fTrwHU')\n",
    "        for titulo in titulos_p1:                        \n",
    "            lista_1 = titulo.get_attribute('title')\n",
    "            todostitulos.append(lista_1)\n",
    "    \n",
    "#pegar os links das reclamações:\n",
    "        driver.get(f'https://www.reclameaqui.com.br/empresa/cea-loja-online/lista-reclamacoes/?pagina={pagina}')\n",
    "        links_p1 = driver.find_elements_by_css_selector('a')\n",
    "        for link in links_p1:\n",
    "            lista_2 = link.get_attribute('href')\n",
    "            todoshref.append(lista_2)\n",
    "            linksuteis = todoshref[128:138]\n",
    "\n",
    "        all_links.append(linksuteis)"
   ]
  },
  {
   "cell_type": "code",
   "execution_count": 4,
   "id": "ac9fc5fb",
   "metadata": {},
   "outputs": [
    {
     "data": {
      "text/plain": [
       "1"
      ]
     },
     "execution_count": 4,
     "metadata": {},
     "output_type": "execute_result"
    }
   ],
   "source": [
    "len(all_links)"
   ]
  },
  {
   "cell_type": "code",
   "execution_count": 5,
   "id": "77984891",
   "metadata": {},
   "outputs": [
    {
     "data": {
      "text/plain": [
       "[['https://www.reclameaqui.com.br/cea-loja-online/entrega-nao-realizada_aLD0ue2x-5BgQFeU/',\n",
       "  'https://www.reclameaqui.com.br/cea-loja-online/reembolso-nao-realizado_KVUInvAj78yjjsli/',\n",
       "  'https://www.reclameaqui.com.br/cea-loja-online/entrega-em-atraso-e-sem-previsao_TTmBjoivbRcibyyl/',\n",
       "  'https://www.reclameaqui.com.br/cea-loja-online/meu-pedido-nao-chegou_0ELf40cPStq0inET/',\n",
       "  'https://www.reclameaqui.com.br/cea-loja-online/ativacao-do-cartao-e-falta-de-informacao-enganando-o-consumidor_Yyu6W_SDx0MyHlia/',\n",
       "  'https://www.reclameaqui.com.br/cea-loja-online/atraso-na-entrega-e-tentativa-de-entrega-no-endereco-errado_xzZhhSLxsw3JSU6F/',\n",
       "  'https://www.reclameaqui.com.br/cea-loja-online/produtos-nunca-recebidos_8tX74gjw0pARc_cs/',\n",
       "  'https://www.reclameaqui.com.br/cea-loja-online/nao-consigo-entrar-no-cea-pay_O7-4wMlxDbHFeVfv/',\n",
       "  'https://www.reclameaqui.com.br/cea-loja-online/falta-etica_AMLHa-7wwoessxTV/',\n",
       "  'https://www.reclameaqui.com.br/cea-loja-online/sem-baixa-de-retirada-sem-pedir-devolucao_OR_gUSe27IrQdM2L/']]"
      ]
     },
     "execution_count": 5,
     "metadata": {},
     "output_type": "execute_result"
    }
   ],
   "source": [
    "all_links"
   ]
  },
  {
   "cell_type": "code",
   "execution_count": 2,
   "id": "2946f9b3",
   "metadata": {},
   "outputs": [],
   "source": [
    "links_reclamacoes = []\n",
    "for links in all_links:\n",
    "    cont = 10\n",
    "    for c in range(cont):\n",
    "        link_position = links[c]\n",
    "        links_reclamacoes.append(link_position)\n",
    "    "
   ]
  },
  {
   "cell_type": "code",
   "execution_count": 3,
   "id": "44715c92",
   "metadata": {},
   "outputs": [
    {
     "data": {
      "text/plain": [
       "10"
      ]
     },
     "execution_count": 3,
     "metadata": {},
     "output_type": "execute_result"
    }
   ],
   "source": [
    "len(links_reclamacoes)\n"
   ]
  },
  {
   "cell_type": "code",
   "execution_count": 4,
   "id": "22816c49",
   "metadata": {},
   "outputs": [],
   "source": [
    "features = {'Títulos': todostitulos,\n",
    "            'Links': links_reclamacoes\n",
    "            }"
   ]
  },
  {
   "cell_type": "code",
   "execution_count": 2,
   "id": "b4c77c7e",
   "metadata": {},
   "outputs": [
    {
     "ename": "NameError",
     "evalue": "name 'features' is not defined",
     "output_type": "error",
     "traceback": [
      "\u001b[1;31m---------------------------------------------------------------------------\u001b[0m",
      "\u001b[1;31mNameError\u001b[0m                                 Traceback (most recent call last)",
      "\u001b[1;32m~\\AppData\\Local\\Temp/ipykernel_11344/4258478205.py\u001b[0m in \u001b[0;36m<module>\u001b[1;34m\u001b[0m\n\u001b[0;32m      1\u001b[0m \u001b[1;32mimport\u001b[0m \u001b[0mpandas\u001b[0m \u001b[1;32mas\u001b[0m \u001b[0mpd\u001b[0m\u001b[1;33m\u001b[0m\u001b[1;33m\u001b[0m\u001b[0m\n\u001b[1;32m----> 2\u001b[1;33m \u001b[0mdf\u001b[0m \u001b[1;33m=\u001b[0m \u001b[0mpd\u001b[0m\u001b[1;33m.\u001b[0m\u001b[0mDataFrame\u001b[0m\u001b[1;33m(\u001b[0m\u001b[0mfeatures\u001b[0m\u001b[1;33m)\u001b[0m\u001b[1;33m\u001b[0m\u001b[1;33m\u001b[0m\u001b[0m\n\u001b[0m\u001b[0;32m      3\u001b[0m \u001b[0mdf\u001b[0m\u001b[1;33m\u001b[0m\u001b[1;33m\u001b[0m\u001b[0m\n",
      "\u001b[1;31mNameError\u001b[0m: name 'features' is not defined"
     ]
    }
   ],
   "source": [
    "\n",
    "df = pd.DataFrame(features)\n",
    "df"
   ]
  },
  {
   "cell_type": "code",
   "execution_count": 7,
   "id": "eb4d71b6",
   "metadata": {},
   "outputs": [
    {
     "name": "stdout",
     "output_type": "stream",
     "text": [
      "Requirement already satisfied: beautifulsoup4 in c:\\users\\mayana\\anaconda3\\lib\\site-packages (4.10.0)Note: you may need to restart the kernel to use updated packages.\n",
      "\n",
      "Requirement already satisfied: soupsieve>1.2 in c:\\users\\mayana\\anaconda3\\lib\\site-packages (from beautifulsoup4) (2.2.1)\n"
     ]
    }
   ],
   "source": [
    "pip install beautifulsoup4"
   ]
  },
  {
   "cell_type": "code",
   "execution_count": 8,
   "id": "6c1dc159",
   "metadata": {},
   "outputs": [
    {
     "name": "stdout",
     "output_type": "stream",
     "text": [
      "Requirement already satisfied: bs4 in c:\\users\\mayana\\anaconda3\\lib\\site-packages (0.0.1)\n",
      "Requirement already satisfied: beautifulsoup4 in c:\\users\\mayana\\anaconda3\\lib\\site-packages (from bs4) (4.10.0)\n",
      "Requirement already satisfied: soupsieve>1.2 in c:\\users\\mayana\\anaconda3\\lib\\site-packages (from beautifulsoup4->bs4) (2.2.1)\n",
      "Note: you may need to restart the kernel to use updated packages.\n"
     ]
    }
   ],
   "source": [
    "pip install bs4"
   ]
  },
  {
   "cell_type": "code",
   "execution_count": 9,
   "id": "79b711f9",
   "metadata": {},
   "outputs": [
    {
     "ename": "ImportError",
     "evalue": "cannot import name 'BeautifulSoap' from 'bs4' (C:\\Users\\Mayana\\anaconda3\\lib\\site-packages\\bs4\\__init__.py)",
     "output_type": "error",
     "traceback": [
      "\u001b[1;31m---------------------------------------------------------------------------\u001b[0m",
      "\u001b[1;31mImportError\u001b[0m                               Traceback (most recent call last)",
      "\u001b[1;32m~\\AppData\\Local\\Temp/ipykernel_26524/2063938776.py\u001b[0m in \u001b[0;36m<module>\u001b[1;34m\u001b[0m\n\u001b[0;32m      1\u001b[0m \u001b[1;32mimport\u001b[0m \u001b[0mpandas\u001b[0m \u001b[1;32mas\u001b[0m \u001b[0mpd\u001b[0m\u001b[1;33m\u001b[0m\u001b[1;33m\u001b[0m\u001b[0m\n\u001b[0;32m      2\u001b[0m \u001b[1;32mfrom\u001b[0m \u001b[0mselenium\u001b[0m \u001b[1;32mimport\u001b[0m \u001b[0mwebdriver\u001b[0m\u001b[1;33m\u001b[0m\u001b[1;33m\u001b[0m\u001b[0m\n\u001b[1;32m----> 3\u001b[1;33m \u001b[1;32mfrom\u001b[0m \u001b[0mbs4\u001b[0m \u001b[1;32mimport\u001b[0m \u001b[0mBeautifulSoap\u001b[0m \u001b[1;32mas\u001b[0m \u001b[0mbs\u001b[0m\u001b[1;33m\u001b[0m\u001b[1;33m\u001b[0m\u001b[0m\n\u001b[0m\u001b[0;32m      4\u001b[0m \u001b[1;33m\u001b[0m\u001b[0m\n\u001b[0;32m      5\u001b[0m \u001b[0mdriver\u001b[0m \u001b[1;33m=\u001b[0m \u001b[0mwebdriver\u001b[0m\u001b[1;33m.\u001b[0m\u001b[0mChrome\u001b[0m\u001b[1;33m(\u001b[0m\u001b[0mexecutable_path\u001b[0m\u001b[1;33m=\u001b[0m\u001b[1;34mr'C:\\Users\\Mayana\\Downloads\\chromedriver_win32\\chromedriver.exe'\u001b[0m\u001b[1;33m)\u001b[0m\u001b[1;33m\u001b[0m\u001b[1;33m\u001b[0m\u001b[0m\n",
      "\u001b[1;31mImportError\u001b[0m: cannot import name 'BeautifulSoap' from 'bs4' (C:\\Users\\Mayana\\anaconda3\\lib\\site-packages\\bs4\\__init__.py)"
     ]
    }
   ],
   "source": [
    "import pandas as pd\n",
    "from selenium import webdriver\n",
    "from bs4 import BeautifulSoap as bs\n",
    "\n",
    "driver = webdriver.Chrome(executable_path=r'C:\\Users\\Mayana\\Downloads\\chromedriver_win32\\chromedriver.exe')\n",
    "dados = pd.read_csv('cea-loja-online.csv')\n",
    "dados"
   ]
  },
  {
   "cell_type": "code",
   "execution_count": 4,
   "id": "ce069913",
   "metadata": {},
   "outputs": [],
   "source": [
    "dados = dados.drop(dados.columns[[0]], axis=1)"
   ]
  },
  {
   "cell_type": "code",
   "execution_count": 5,
   "id": "38dbe348",
   "metadata": {},
   "outputs": [
    {
     "data": {
      "text/html": [
       "<div>\n",
       "<style scoped>\n",
       "    .dataframe tbody tr th:only-of-type {\n",
       "        vertical-align: middle;\n",
       "    }\n",
       "\n",
       "    .dataframe tbody tr th {\n",
       "        vertical-align: top;\n",
       "    }\n",
       "\n",
       "    .dataframe thead th {\n",
       "        text-align: right;\n",
       "    }\n",
       "</style>\n",
       "<table border=\"1\" class=\"dataframe\">\n",
       "  <thead>\n",
       "    <tr style=\"text-align: right;\">\n",
       "      <th></th>\n",
       "      <th>Títulos</th>\n",
       "      <th>Links</th>\n",
       "    </tr>\n",
       "  </thead>\n",
       "  <tbody>\n",
       "    <tr>\n",
       "      <th>0</th>\n",
       "      <td>Entrega não realizada</td>\n",
       "      <td>https://www.reclameaqui.com.br/cea-loja-online...</td>\n",
       "    </tr>\n",
       "    <tr>\n",
       "      <th>1</th>\n",
       "      <td>REEMBOLSO NÃO REALIZADO</td>\n",
       "      <td>https://www.reclameaqui.com.br/cea-loja-online...</td>\n",
       "    </tr>\n",
       "    <tr>\n",
       "      <th>2</th>\n",
       "      <td>Entrega em atraso, e sem previsão.</td>\n",
       "      <td>https://www.reclameaqui.com.br/cea-loja-online...</td>\n",
       "    </tr>\n",
       "    <tr>\n",
       "      <th>3</th>\n",
       "      <td>Meu pedido não chegou</td>\n",
       "      <td>https://www.reclameaqui.com.br/cea-loja-online...</td>\n",
       "    </tr>\n",
       "    <tr>\n",
       "      <th>4</th>\n",
       "      <td>Ativação do cartão e falta de informação, enga...</td>\n",
       "      <td>https://www.reclameaqui.com.br/cea-loja-online...</td>\n",
       "    </tr>\n",
       "    <tr>\n",
       "      <th>5</th>\n",
       "      <td>Atraso na entrega e tentativa de entrega no en...</td>\n",
       "      <td>https://www.reclameaqui.com.br/cea-loja-online...</td>\n",
       "    </tr>\n",
       "    <tr>\n",
       "      <th>6</th>\n",
       "      <td>Produtos nunca recebidos</td>\n",
       "      <td>https://www.reclameaqui.com.br/cea-loja-online...</td>\n",
       "    </tr>\n",
       "    <tr>\n",
       "      <th>7</th>\n",
       "      <td>Não consigo entrar no cea pay</td>\n",
       "      <td>https://www.reclameaqui.com.br/cea-loja-online...</td>\n",
       "    </tr>\n",
       "    <tr>\n",
       "      <th>8</th>\n",
       "      <td>Falta ética</td>\n",
       "      <td>https://www.reclameaqui.com.br/cea-loja-online...</td>\n",
       "    </tr>\n",
       "    <tr>\n",
       "      <th>9</th>\n",
       "      <td>Sem baixa de retirada, sem pedir devolução</td>\n",
       "      <td>https://www.reclameaqui.com.br/cea-loja-online...</td>\n",
       "    </tr>\n",
       "  </tbody>\n",
       "</table>\n",
       "</div>"
      ],
      "text/plain": [
       "                                             Títulos  \\\n",
       "0                              Entrega não realizada   \n",
       "1                            REEMBOLSO NÃO REALIZADO   \n",
       "2                 Entrega em atraso, e sem previsão.   \n",
       "3                             Meu pedido não chegou    \n",
       "4  Ativação do cartão e falta de informação, enga...   \n",
       "5  Atraso na entrega e tentativa de entrega no en...   \n",
       "6                           Produtos nunca recebidos   \n",
       "7                      Não consigo entrar no cea pay   \n",
       "8                                       Falta ética    \n",
       "9        Sem baixa de retirada, sem pedir devolução    \n",
       "\n",
       "                                               Links  \n",
       "0  https://www.reclameaqui.com.br/cea-loja-online...  \n",
       "1  https://www.reclameaqui.com.br/cea-loja-online...  \n",
       "2  https://www.reclameaqui.com.br/cea-loja-online...  \n",
       "3  https://www.reclameaqui.com.br/cea-loja-online...  \n",
       "4  https://www.reclameaqui.com.br/cea-loja-online...  \n",
       "5  https://www.reclameaqui.com.br/cea-loja-online...  \n",
       "6  https://www.reclameaqui.com.br/cea-loja-online...  \n",
       "7  https://www.reclameaqui.com.br/cea-loja-online...  \n",
       "8  https://www.reclameaqui.com.br/cea-loja-online...  \n",
       "9  https://www.reclameaqui.com.br/cea-loja-online...  "
      ]
     },
     "execution_count": 5,
     "metadata": {},
     "output_type": "execute_result"
    }
   ],
   "source": [
    "dados"
   ]
  },
  {
   "cell_type": "code",
   "execution_count": 14,
   "id": "30f715f9",
   "metadata": {},
   "outputs": [
    {
     "ename": "WebDriverException",
     "evalue": "Message: chrome not reachable\n  (Session info: chrome=99.0.4844.51)\nStacktrace:\nBacktrace:\n\tOrdinal0 [0x00FD5AD3+2579155]\n\tOrdinal0 [0x00F6A3E1+2139105]\n\tOrdinal0 [0x00E63F80+1064832]\n\tOrdinal0 [0x00E58422+1016866]\n\tOrdinal0 [0x00E58C58+1018968]\n\tOrdinal0 [0x00E5A4B2+1025202]\n\tOrdinal0 [0x00E53E89+999049]\n\tOrdinal0 [0x00E653F0+1070064]\n\tOrdinal0 [0x00EBA572+1418610]\n\tOrdinal0 [0x00EAAC96+1354902]\n\tOrdinal0 [0x00E85A06+1202694]\n\tOrdinal0 [0x00E868E6+1206502]\n\tGetHandleVerifier [0x011710D2+1633810]\n\tGetHandleVerifier [0x012305FC+2417468]\n\tGetHandleVerifier [0x01063E01+531265]\n\tGetHandleVerifier [0x01062BE6+526630]\n\tOrdinal0 [0x00F7034B+2163531]\n\tOrdinal0 [0x00F750F8+2183416]\n\tOrdinal0 [0x00F751E5+2183653]\n\tOrdinal0 [0x00F7ED7C+2223484]\n\tBaseThreadInitThunk [0x76986739+25]\n\tRtlGetFullPathName_UEx [0x77338E7F+1215]\n\tRtlGetFullPathName_UEx [0x77338E4D+1165]\n",
     "output_type": "error",
     "traceback": [
      "\u001b[1;31m---------------------------------------------------------------------------\u001b[0m",
      "\u001b[1;31mWebDriverException\u001b[0m                        Traceback (most recent call last)",
      "\u001b[1;32m~\\AppData\\Local\\Temp/ipykernel_11344/2997608594.py\u001b[0m in \u001b[0;36m<module>\u001b[1;34m\u001b[0m\n\u001b[0;32m      1\u001b[0m \u001b[1;32mfor\u001b[0m \u001b[0mindex\u001b[0m\u001b[1;33m,\u001b[0m \u001b[0mrow\u001b[0m \u001b[1;32min\u001b[0m \u001b[0mdados\u001b[0m\u001b[1;33m.\u001b[0m\u001b[0miterrows\u001b[0m\u001b[1;33m(\u001b[0m\u001b[1;33m)\u001b[0m\u001b[1;33m:\u001b[0m\u001b[1;33m\u001b[0m\u001b[1;33m\u001b[0m\u001b[0m\n\u001b[1;32m----> 2\u001b[1;33m     \u001b[0mdriver\u001b[0m\u001b[1;33m.\u001b[0m\u001b[0mget\u001b[0m\u001b[1;33m(\u001b[0m\u001b[0mrow\u001b[0m\u001b[1;33m[\u001b[0m\u001b[1;36m1\u001b[0m\u001b[1;33m]\u001b[0m\u001b[1;33m)\u001b[0m\u001b[1;33m\u001b[0m\u001b[1;33m\u001b[0m\u001b[0m\n\u001b[0m\u001b[0;32m      3\u001b[0m     \u001b[0mreclamacoes\u001b[0m \u001b[1;33m=\u001b[0m \u001b[0mdriver\u001b[0m\u001b[1;33m.\u001b[0m\u001b[0mfind_element_by_class_name\u001b[0m\u001b[1;33m(\u001b[0m\u001b[1;34m'[data-testid=\"lzlu7c-17.fXwQIB\"]'\u001b[0m\u001b[1;33m)\u001b[0m\u001b[1;33m\u001b[0m\u001b[1;33m\u001b[0m\u001b[0m\n\u001b[0;32m      4\u001b[0m     \u001b[0mprint\u001b[0m\u001b[1;33m(\u001b[0m\u001b[0mreclamacoes\u001b[0m\u001b[1;33m)\u001b[0m\u001b[1;33m\u001b[0m\u001b[1;33m\u001b[0m\u001b[0m\n\u001b[0;32m      5\u001b[0m     \u001b[1;31m#lista_reclamacao = reclamacoes[1].get_attribute('complaint-description')\u001b[0m\u001b[1;33m\u001b[0m\u001b[1;33m\u001b[0m\u001b[0m\n",
      "\u001b[1;32m~\\anaconda3\\lib\\site-packages\\selenium\\webdriver\\remote\\webdriver.py\u001b[0m in \u001b[0;36mget\u001b[1;34m(self, url)\u001b[0m\n\u001b[0;32m    435\u001b[0m         \u001b[0mLoads\u001b[0m \u001b[0ma\u001b[0m \u001b[0mweb\u001b[0m \u001b[0mpage\u001b[0m \u001b[1;32min\u001b[0m \u001b[0mthe\u001b[0m \u001b[0mcurrent\u001b[0m \u001b[0mbrowser\u001b[0m \u001b[0msession\u001b[0m\u001b[1;33m.\u001b[0m\u001b[1;33m\u001b[0m\u001b[1;33m\u001b[0m\u001b[0m\n\u001b[0;32m    436\u001b[0m         \"\"\"\n\u001b[1;32m--> 437\u001b[1;33m         \u001b[0mself\u001b[0m\u001b[1;33m.\u001b[0m\u001b[0mexecute\u001b[0m\u001b[1;33m(\u001b[0m\u001b[0mCommand\u001b[0m\u001b[1;33m.\u001b[0m\u001b[0mGET\u001b[0m\u001b[1;33m,\u001b[0m \u001b[1;33m{\u001b[0m\u001b[1;34m'url'\u001b[0m\u001b[1;33m:\u001b[0m \u001b[0murl\u001b[0m\u001b[1;33m}\u001b[0m\u001b[1;33m)\u001b[0m\u001b[1;33m\u001b[0m\u001b[1;33m\u001b[0m\u001b[0m\n\u001b[0m\u001b[0;32m    438\u001b[0m \u001b[1;33m\u001b[0m\u001b[0m\n\u001b[0;32m    439\u001b[0m     \u001b[1;33m@\u001b[0m\u001b[0mproperty\u001b[0m\u001b[1;33m\u001b[0m\u001b[1;33m\u001b[0m\u001b[0m\n",
      "\u001b[1;32m~\\anaconda3\\lib\\site-packages\\selenium\\webdriver\\remote\\webdriver.py\u001b[0m in \u001b[0;36mexecute\u001b[1;34m(self, driver_command, params)\u001b[0m\n\u001b[0;32m    423\u001b[0m         \u001b[0mresponse\u001b[0m \u001b[1;33m=\u001b[0m \u001b[0mself\u001b[0m\u001b[1;33m.\u001b[0m\u001b[0mcommand_executor\u001b[0m\u001b[1;33m.\u001b[0m\u001b[0mexecute\u001b[0m\u001b[1;33m(\u001b[0m\u001b[0mdriver_command\u001b[0m\u001b[1;33m,\u001b[0m \u001b[0mparams\u001b[0m\u001b[1;33m)\u001b[0m\u001b[1;33m\u001b[0m\u001b[1;33m\u001b[0m\u001b[0m\n\u001b[0;32m    424\u001b[0m         \u001b[1;32mif\u001b[0m \u001b[0mresponse\u001b[0m\u001b[1;33m:\u001b[0m\u001b[1;33m\u001b[0m\u001b[1;33m\u001b[0m\u001b[0m\n\u001b[1;32m--> 425\u001b[1;33m             \u001b[0mself\u001b[0m\u001b[1;33m.\u001b[0m\u001b[0merror_handler\u001b[0m\u001b[1;33m.\u001b[0m\u001b[0mcheck_response\u001b[0m\u001b[1;33m(\u001b[0m\u001b[0mresponse\u001b[0m\u001b[1;33m)\u001b[0m\u001b[1;33m\u001b[0m\u001b[1;33m\u001b[0m\u001b[0m\n\u001b[0m\u001b[0;32m    426\u001b[0m             response['value'] = self._unwrap_value(\n\u001b[0;32m    427\u001b[0m                 response.get('value', None))\n",
      "\u001b[1;32m~\\anaconda3\\lib\\site-packages\\selenium\\webdriver\\remote\\errorhandler.py\u001b[0m in \u001b[0;36mcheck_response\u001b[1;34m(self, response)\u001b[0m\n\u001b[0;32m    245\u001b[0m                 \u001b[0malert_text\u001b[0m \u001b[1;33m=\u001b[0m \u001b[0mvalue\u001b[0m\u001b[1;33m[\u001b[0m\u001b[1;34m'alert'\u001b[0m\u001b[1;33m]\u001b[0m\u001b[1;33m.\u001b[0m\u001b[0mget\u001b[0m\u001b[1;33m(\u001b[0m\u001b[1;34m'text'\u001b[0m\u001b[1;33m)\u001b[0m\u001b[1;33m\u001b[0m\u001b[1;33m\u001b[0m\u001b[0m\n\u001b[0;32m    246\u001b[0m             \u001b[1;32mraise\u001b[0m \u001b[0mexception_class\u001b[0m\u001b[1;33m(\u001b[0m\u001b[0mmessage\u001b[0m\u001b[1;33m,\u001b[0m \u001b[0mscreen\u001b[0m\u001b[1;33m,\u001b[0m \u001b[0mstacktrace\u001b[0m\u001b[1;33m,\u001b[0m \u001b[0malert_text\u001b[0m\u001b[1;33m)\u001b[0m  \u001b[1;31m# type: ignore[call-arg]  # mypy is not smart enough here\u001b[0m\u001b[1;33m\u001b[0m\u001b[1;33m\u001b[0m\u001b[0m\n\u001b[1;32m--> 247\u001b[1;33m         \u001b[1;32mraise\u001b[0m \u001b[0mexception_class\u001b[0m\u001b[1;33m(\u001b[0m\u001b[0mmessage\u001b[0m\u001b[1;33m,\u001b[0m \u001b[0mscreen\u001b[0m\u001b[1;33m,\u001b[0m \u001b[0mstacktrace\u001b[0m\u001b[1;33m)\u001b[0m\u001b[1;33m\u001b[0m\u001b[1;33m\u001b[0m\u001b[0m\n\u001b[0m\u001b[0;32m    248\u001b[0m \u001b[1;33m\u001b[0m\u001b[0m\n\u001b[0;32m    249\u001b[0m     \u001b[1;32mdef\u001b[0m \u001b[0m_value_or_default\u001b[0m\u001b[1;33m(\u001b[0m\u001b[0mself\u001b[0m\u001b[1;33m,\u001b[0m \u001b[0mobj\u001b[0m\u001b[1;33m:\u001b[0m \u001b[0mMapping\u001b[0m\u001b[1;33m[\u001b[0m\u001b[0m_KT\u001b[0m\u001b[1;33m,\u001b[0m \u001b[0m_VT\u001b[0m\u001b[1;33m]\u001b[0m\u001b[1;33m,\u001b[0m \u001b[0mkey\u001b[0m\u001b[1;33m:\u001b[0m \u001b[0m_KT\u001b[0m\u001b[1;33m,\u001b[0m \u001b[0mdefault\u001b[0m\u001b[1;33m:\u001b[0m \u001b[0m_VT\u001b[0m\u001b[1;33m)\u001b[0m \u001b[1;33m->\u001b[0m \u001b[0m_VT\u001b[0m\u001b[1;33m:\u001b[0m\u001b[1;33m\u001b[0m\u001b[1;33m\u001b[0m\u001b[0m\n",
      "\u001b[1;31mWebDriverException\u001b[0m: Message: chrome not reachable\n  (Session info: chrome=99.0.4844.51)\nStacktrace:\nBacktrace:\n\tOrdinal0 [0x00FD5AD3+2579155]\n\tOrdinal0 [0x00F6A3E1+2139105]\n\tOrdinal0 [0x00E63F80+1064832]\n\tOrdinal0 [0x00E58422+1016866]\n\tOrdinal0 [0x00E58C58+1018968]\n\tOrdinal0 [0x00E5A4B2+1025202]\n\tOrdinal0 [0x00E53E89+999049]\n\tOrdinal0 [0x00E653F0+1070064]\n\tOrdinal0 [0x00EBA572+1418610]\n\tOrdinal0 [0x00EAAC96+1354902]\n\tOrdinal0 [0x00E85A06+1202694]\n\tOrdinal0 [0x00E868E6+1206502]\n\tGetHandleVerifier [0x011710D2+1633810]\n\tGetHandleVerifier [0x012305FC+2417468]\n\tGetHandleVerifier [0x01063E01+531265]\n\tGetHandleVerifier [0x01062BE6+526630]\n\tOrdinal0 [0x00F7034B+2163531]\n\tOrdinal0 [0x00F750F8+2183416]\n\tOrdinal0 [0x00F751E5+2183653]\n\tOrdinal0 [0x00F7ED7C+2223484]\n\tBaseThreadInitThunk [0x76986739+25]\n\tRtlGetFullPathName_UEx [0x77338E7F+1215]\n\tRtlGetFullPathName_UEx [0x77338E4D+1165]\n"
     ]
    }
   ],
   "source": [
    "for index, row in dados.iterrows():\n",
    "    driver.get(row[1])\n",
    "    reclamacoes = driver.find_element_by_class_name('[data-testid=\"lzlu7c-17.fXwQIB\"]')\n",
    "    print(reclamacoes)\n",
    "    #lista_reclamacao = reclamacoes[1].get_attribute('complaint-description')\n",
    "    #    print(lista_reclamacao)\n",
    "    ##        todostitulos.append(lista_1)\n",
    "    break"
   ]
  },
  {
   "cell_type": "code",
   "execution_count": null,
   "id": "81056efe",
   "metadata": {},
   "outputs": [],
   "source": [
    "reclamacoes = driver.find_elements_by_class_name('lzlu7c-17.fXwQIB')\n",
    "        "
   ]
  },
  {
   "cell_type": "code",
   "execution_count": null,
   "id": "eb77c7e4",
   "metadata": {},
   "outputs": [],
   "source": []
  },
  {
   "cell_type": "code",
   "execution_count": 33,
   "id": "af9d79ac",
   "metadata": {},
   "outputs": [],
   "source": [
    "df.to_csv('cea-loja-online.csv')"
   ]
  },
  {
   "cell_type": "code",
   "execution_count": null,
   "id": "9bb70ae0",
   "metadata": {},
   "outputs": [],
   "source": []
  }
 ],
 "metadata": {
  "kernelspec": {
   "display_name": "Python 3 (ipykernel)",
   "language": "python",
   "name": "python3"
  },
  "language_info": {
   "codemirror_mode": {
    "name": "ipython",
    "version": 3
   },
   "file_extension": ".py",
   "mimetype": "text/x-python",
   "name": "python",
   "nbconvert_exporter": "python",
   "pygments_lexer": "ipython3",
   "version": "3.9.7"
  }
 },
 "nbformat": 4,
 "nbformat_minor": 5
}

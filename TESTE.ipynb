{
 "cells": [
  {
   "cell_type": "code",
   "execution_count": 117,
   "id": "fbc53ecb",
   "metadata": {},
   "outputs": [
    {
     "name": "stderr",
     "output_type": "stream",
     "text": [
      "C:\\Users\\pedro\\AppData\\Local\\Temp/ipykernel_16808/2254234505.py:9: DeprecationWarning: find_element_by_xpath is deprecated. Please use find_element(by=By.XPATH, value=xpath) instead\n",
      "  driver.find_element_by_xpath('/html/body/div[9]/div[2]/div/div[2]/div[1]/div/div[2]/div/div[1]/button').click()\n",
      "C:\\Users\\pedro\\AppData\\Local\\Temp/ipykernel_16808/2254234505.py:12: DeprecationWarning: find_elements_by_class_name is deprecated. Please use find_elements(by=By.CLASS_NAME, value=name) instead\n",
      "  titulos_p1 = driver.find_elements_by_class_name('sc-1pe7b5t-1.fTrwHU')\n"
     ]
    },
    {
     "name": "stdout",
     "output_type": "stream",
     "text": [
      "['Promoção sacola BBB ', 'Parcelamento fácil que não solicitei ', 'Hoje fui na loja física comprar um presente e me negaram pacote de presente! ', 'PEÇA ERRADA!', 'SO QUERO PAGAR MINHA FATURA ', 'Troca / pedido de informação ', 'Vestido manchado depois de lavar.', 'Entrega em atraso', 'Faltando item no pedido', 'Atraso no pedido e descaso dos atendentes']\n"
     ]
    },
    {
     "name": "stderr",
     "output_type": "stream",
     "text": [
      "C:\\Users\\pedro\\AppData\\Local\\Temp/ipykernel_16808/2254234505.py:22: DeprecationWarning: find_elements_by_css_selector is deprecated. Please use find_elements(by=By.CSS_SELECTOR, value=css_selector) instead\n",
      "  links_p1 = driver.find_elements_by_css_selector('a')\n"
     ]
    },
    {
     "name": "stdout",
     "output_type": "stream",
     "text": [
      "['https://www.reclameaqui.com.br/empresa/cea-loja-online/reviews-da-loja/', 'https://site.trustvox.com.br/?utm_source=reclameaqui&utm_medium=cta&utm_campaign=reclamacao&utm_content=leitura', 'https://www.reclameaqui.com.br/cea-loja-online/promocao-sacola-bbb_CLjZWjqoFueScQPH/', 'https://www.reclameaqui.com.br/cea-loja-online/parcelamento-facil-que-nao-solicitei_gsCia4wbNxjLEntJ/', 'https://www.reclameaqui.com.br/cea-loja-online/hoje-fui-na-loja-fisica-comprar-um-presente-e-me-negaram-pacote-de-presente_cKQxLgg6clO818w8/', 'https://www.reclameaqui.com.br/cea-loja-online/peca-errada_SeApxLEVnSsMFRmi/', 'https://www.reclameaqui.com.br/cea-loja-online/so-quero-pagar-minha-fatura_QqmIR685EPBB-0_R/', 'https://www.reclameaqui.com.br/cea-loja-online/troca-pedido-de-informacao_H861PldryxGpHONY/', 'https://www.reclameaqui.com.br/cea-loja-online/vestido-manchado-depois-de-lavar_5-heiIgN9qv3ycLl/', 'https://www.reclameaqui.com.br/cea-loja-online/entrega-em-atraso_Q5dZcVrXWoRl8rWw/']\n"
     ]
    }
   ],
   "source": [
    "import time\n",
    "import pandas as pd\n",
    "from selenium import webdriver\n",
    "driver = webdriver.Chrome()\n",
    "\n",
    "driver.get('https://www.reclameaqui.com.br/empresa/cea-loja-online/lista-reclamacoes/?pagina=1')\n",
    "time.sleep(1)\n",
    "#ACEITAR COOKIES\n",
    "driver.find_element_by_xpath('/html/body/div[9]/div[2]/div/div[2]/div[1]/div/div[2]/div/div[1]/button').click()\n",
    "#PEGAR O TITULO DAS 10 RECLAMAÇÕES DA PAGINA:\n",
    "\n",
    "titulos_p1 = driver.find_elements_by_class_name('sc-1pe7b5t-1.fTrwHU')\n",
    "lista_1 = []\n",
    "lista_2 = []\n",
    "\n",
    "for titulo in titulos_p1:\n",
    "    lista_1 = titulo.get_attribute('title')\n",
    "    lista_2.append(lista_1)    \n",
    "    \n",
    "print (lista_2)\n",
    "#PEGAR O LINK DAS 10 RECLAMAÇÕES DA PAGINA:\n",
    "links_p1 = driver.find_elements_by_css_selector('a')\n",
    "lista_3 = []\n",
    "lista_4 = []\n",
    "\n",
    "for i ,link in enumerate(links_p1):    \n",
    "    lista_3 = link.get_attribute('href')\n",
    "    lista_4.append(lista_3)\n",
    "           \n",
    "\n",
    "lista_comlinks = lista_4[126:136]\n",
    "print (lista_comlinks)\n",
    "\n",
    "#ACESSAR OS LINKS E EXTRAIR AS RECLAMAÇÕES:\n",
    "    \n",
    "\n"
   ]
  },
  {
   "cell_type": "code",
   "execution_count": null,
   "id": "a1fa2397",
   "metadata": {},
   "outputs": [],
   "source": [
    "#ACESSAR OS LINKS E EXTRAIR AS RECLAMAÇÕES:\n",
    "\n",
    "for n in lista_comlinks:    \n",
    "    driver.get(n)\n",
    "    time.sleep(100)\n",
    "    \n",
    "    \n",
    "    \n",
    "\n",
    "    \n",
    "    "
   ]
  }
 ],
 "metadata": {
  "kernelspec": {
   "display_name": "Python 3 (ipykernel)",
   "language": "python",
   "name": "python3"
  },
  "language_info": {
   "codemirror_mode": {
    "name": "ipython",
    "version": 3
   },
   "file_extension": ".py",
   "mimetype": "text/x-python",
   "name": "python",
   "nbconvert_exporter": "python",
   "pygments_lexer": "ipython3",
   "version": "3.9.7"
  }
 },
 "nbformat": 4,
 "nbformat_minor": 5
}

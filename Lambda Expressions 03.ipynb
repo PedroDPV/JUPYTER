{
 "cells": [
  {
   "cell_type": "markdown",
   "metadata": {},
   "source": [
    "# Lambda Expressions para gerar funções\n",
    "\n",
    "### Descrição\n",
    "\n",
    "- Uma das aplicações de lambda expressions, além da vista na aula passada, é criar um \"gerador de funções\". Nesse caso, usaremos a lambda expressions dentro da definição de uma outra função\n",
    "\n",
    "### Exemplo:\n",
    "\n",
    "1. Vamos criar uma função que me permita calcular o valor acrescido do imposto de diferentes categorias (produto, serviço, royalties, etc.)"
   ]
  },
  {
   "cell_type": "code",
   "execution_count": 7,
   "metadata": {},
   "outputs": [
    {
     "data": {
      "text/plain": [
       "'55000.00'"
      ]
     },
     "execution_count": 7,
     "metadata": {},
     "output_type": "execute_result"
    }
   ],
   "source": [
    "# produto 0.1\n",
    "#serviço 0.15\n",
    "#royalties 0.25\n",
    "def calcular_produto(valor):\n",
    "    return (f'{valor * 1.1:.2f}')\n",
    "    \n",
    "def calcular_serviço(valor):\n",
    "    return valor * 1.15\n",
    "\n",
    "def calcular_royalties(valor):\n",
    "    return valor * 1.25\n",
    "\n",
    "\n",
    "calcular_produto(50000)"
   ]
  },
  {
   "cell_type": "markdown",
   "metadata": {},
   "source": [
    "- Agora vamos definir as funções que calculam o imposto das 3 categorias (produto, serviço, royalties)"
   ]
  },
  {
   "cell_type": "code",
   "execution_count": null,
   "metadata": {},
   "outputs": [],
   "source": []
  },
  {
   "cell_type": "markdown",
   "metadata": {},
   "source": [
    "- Agora vamos aplicar com um valor de nota fiscal de 100 para ver o resultado"
   ]
  },
  {
   "cell_type": "code",
   "execution_count": null,
   "metadata": {},
   "outputs": [],
   "source": []
  },
  {
   "cell_type": "markdown",
   "metadata": {},
   "source": [
    "### É menos usado do que a forma anterior que vimos, mas pode ser útil caso queira criar funções que possam ser adaptadas como vimos aqui"
   ]
  },
  {
   "cell_type": "code",
   "execution_count": 53,
   "metadata": {},
   "outputs": [
    {
     "name": "stdout",
     "output_type": "stream",
     "text": [
      "R$4.9733\n",
      "R$5.2431\n",
      "R$191.967\n"
     ]
    }
   ],
   "source": [
    "import requests\n",
    "\n",
    "requisição = requests.get('https://economia.awesomeapi.com.br/last/USD-BRL,EUR-BRL,BTC-BRL')\n",
    "\n",
    "\n",
    "requisição_dolar_real_bitcoin = requisição.json()\n",
    "\n",
    "dolar = requisição_dolar_real_bitcoin['USDBRL']['bid']\n",
    "print (f'R${dolar}')\n",
    "\n",
    "euro = requisição_dolar_real_bitcoin['EURBRL']['bid']\n",
    "print (f'R${euro}')\n",
    "\n",
    "bitcoin = requisição_dolar_real_bitcoin['BTCBRL']['bid']\n",
    "print (f'R${bitcoin}')"
   ]
  },
  {
   "cell_type": "code",
   "execution_count": 109,
   "metadata": {},
   "outputs": [
    {
     "name": "stdout",
     "output_type": "stream",
     "text": [
      "R$4.9798\n",
      "['4.9798', '5.0454', '5.0395', '5.0004', '4.9485', '4.8382', '4.6225', '4.6796', '4.6679', '4.654', '4.7028', '4.7028', '4.7408', '4.7055', '4.6965']\n",
      "[28, 27, 26, 25, 24, 23, 22, 21, 20, 19, 18, 17, 16, 15, 14]\n"
     ]
    },
    {
     "data": {
      "text/plain": [
       "{28: '4.9798',\n",
       " 27: '5.0454',\n",
       " 26: '5.0395',\n",
       " 25: '5.0004',\n",
       " 24: '4.9485',\n",
       " 23: '4.8382',\n",
       " 22: '4.6225',\n",
       " 21: '4.6796',\n",
       " 20: '4.6679',\n",
       " 19: '4.654',\n",
       " 18: '4.7028',\n",
       " 17: '4.7028',\n",
       " 16: '4.7408',\n",
       " 15: '4.7055',\n",
       " 14: '4.6965'}"
      ]
     },
     "execution_count": 109,
     "metadata": {},
     "output_type": "execute_result"
    }
   ],
   "source": [
    "requisição2 = requests.get('https://economia.awesomeapi.com.br/json/daily/USD-BRL/15')\n",
    "requisição3 = requisição2.json()\n",
    "\n",
    "alta_dia_29_abril = (requisição3[0]['high'])\n",
    "print (f'R${alta_dia_29_abril}')\n",
    "\n",
    "alta_dia_28_abril = (requisição3[1]['high'])\n",
    "\n",
    "altas_dolar_ultimos15dias = {}\n",
    "dias = []\n",
    "cotações = []\n",
    "\n",
    "\n",
    "for i in range(15):\n",
    "    dias.append(28-i)\n",
    "    cotações.append(requisição3[i]['high'])\n",
    "print(cotações)\n",
    "print(dias)\n",
    "\n",
    "altas_dolar_ultimos15dias = zip(dias,cotações)\n",
    "altas_dolar_ultimos15dias = dict(altas_dolar_ultimos15dias)\n",
    "altas_dolar_ultimos15dias\n",
    "\n"
   ]
  },
  {
   "cell_type": "code",
   "execution_count": 138,
   "metadata": {},
   "outputs": [
    {
     "data": {
      "text/plain": [
       "[4, 8, 12, 16, 20]"
      ]
     },
     "execution_count": 138,
     "metadata": {},
     "output_type": "execute_result"
    }
   ],
   "source": [
    "numeros = [2,4,6,8,10]\n",
    "def dobra_lista(lista):  \n",
    "    for i , n in enumerate(numeros):        \n",
    "        numeros[i] = numeros[i] * 2\n",
    "    return lista\n",
    "    \n",
    "    \n",
    "dobra_lista(numeros)\n",
    "\n"
   ]
  }
 ],
 "metadata": {
  "kernelspec": {
   "display_name": "Python 3 (ipykernel)",
   "language": "python",
   "name": "python3"
  },
  "language_info": {
   "codemirror_mode": {
    "name": "ipython",
    "version": 3
   },
   "file_extension": ".py",
   "mimetype": "text/x-python",
   "name": "python",
   "nbconvert_exporter": "python",
   "pygments_lexer": "ipython3",
   "version": "3.9.7"
  }
 },
 "nbformat": 4,
 "nbformat_minor": 4
}

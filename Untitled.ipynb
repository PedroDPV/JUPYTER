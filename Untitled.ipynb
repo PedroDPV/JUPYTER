{
 "cells": [
  {
   "cell_type": "code",
   "execution_count": 7,
   "id": "f0f6ed44",
   "metadata": {},
   "outputs": [],
   "source": [
    "\n",
    "import pandas as pd\n",
    "import time, urllib.request\n",
    "import requests\n",
    "import re\n",
    "from urllib.request import urlopen\n",
    "from urllib.parse import quote_plus\n",
    "from bs4 import BeautifulSoup\n",
    "from selenium import webdriver\n",
    "from webdriver_manager.chrome import ChromeDriverManager\n",
    "from selenium.webdriver.common.keys import Keys\n",
    "from bs4 import BeautifulSoup\n",
    "\n",
    "# In[58]:"
   ]
  },
  {
   "cell_type": "code",
   "execution_count": 9,
   "id": "682a5c30",
   "metadata": {},
   "outputs": [
    {
     "name": "stderr",
     "output_type": "stream",
     "text": [
      "\n",
      "\n",
      "====== WebDriver manager ======\n",
      "Current google-chrome version is 101.0.4951\n",
      "Get LATEST chromedriver version for 101.0.4951 google-chrome\n",
      "Driver [C:\\Users\\pedro\\.wdm\\drivers\\chromedriver\\win32\\101.0.4951.41\\chromedriver.exe] found in cache\n",
      "C:\\Users\\pedro\\AppData\\Local\\Temp/ipykernel_4084/4225107622.py:1: DeprecationWarning: executable_path has been deprecated, please pass in a Service object\n",
      "  driver = webdriver.Chrome(ChromeDriverManager().install())\n",
      "C:\\Users\\pedro\\AppData\\Local\\Temp/ipykernel_4084/4225107622.py:5: DeprecationWarning: find_element_by_css_selector is deprecated. Please use find_element(by=By.CSS_SELECTOR, value=css_selector) instead\n",
      "  username=driver.find_element_by_css_selector(\"input[name='username']\")\n",
      "C:\\Users\\pedro\\AppData\\Local\\Temp/ipykernel_4084/4225107622.py:6: DeprecationWarning: find_element_by_css_selector is deprecated. Please use find_element(by=By.CSS_SELECTOR, value=css_selector) instead\n",
      "  password=driver.find_element_by_css_selector(\"input[name='password']\")\n",
      "C:\\Users\\pedro\\AppData\\Local\\Temp/ipykernel_4084/4225107622.py:11: DeprecationWarning: find_element_by_css_selector is deprecated. Please use find_element(by=By.CSS_SELECTOR, value=css_selector) instead\n",
      "  login = driver.find_element_by_css_selector(\"button[type='submit']\").click()\n",
      "C:\\Users\\pedro\\AppData\\Local\\Temp/ipykernel_4084/4225107622.py:14: DeprecationWarning: find_element_by_xpath is deprecated. Please use find_element(by=By.XPATH, value=xpath) instead\n",
      "  notnow = driver.find_element_by_xpath(\"//button[contains(text(), 'Agora não')]\").click()\n",
      "C:\\Users\\pedro\\AppData\\Local\\Temp/ipykernel_4084/4225107622.py:17: DeprecationWarning: find_element_by_xpath is deprecated. Please use find_element(by=By.XPATH, value=xpath) instead\n",
      "  notnow2 = driver.find_element_by_xpath (\"//button[contains(text(), 'Agora não')]\").click()\n",
      "C:\\Users\\pedro\\AppData\\Local\\Temp/ipykernel_4084/4225107622.py:20: DeprecationWarning: find_element_by_css_selector is deprecated. Please use find_element(by=By.CSS_SELECTOR, value=css_selector) instead\n",
      "  searchbox=driver.find_element_by_css_selector(\"input[placeholder='Pesquisar']\")\n"
     ]
    }
   ],
   "source": [
    "\n",
    "driver = webdriver.Chrome(ChromeDriverManager().install())\n",
    "driver.get(\"https://www.instagram.com/\")\n",
    "#login\n",
    "time.sleep(5)\n",
    "username=driver.find_element_by_css_selector(\"input[name='username']\")\n",
    "password=driver.find_element_by_css_selector(\"input[name='password']\")\n",
    "username.clear()\n",
    "password.clear()\n",
    "username.send_keys(\"sirdatadummy\")\n",
    "password.send_keys(\"Sauter@2022\")\n",
    "login = driver.find_element_by_css_selector(\"button[type='submit']\").click()\n",
    "\n",
    "time.sleep(10) \n",
    "notnow = driver.find_element_by_xpath(\"//button[contains(text(), 'Agora não')]\").click() \n",
    "#Ativar Notificações \n",
    "time.sleep(10) \n",
    "notnow2 = driver.find_element_by_xpath (\"//button[contains(text(), 'Agora não')]\").click()\n",
    "\n",
    "time.sleep(5) \n",
    "searchbox=driver.find_element_by_css_selector(\"input[placeholder='Pesquisar']\") \n",
    "searchbox.clear() \n",
    "searchbox.send_keys(\"cea_brasil\") \n",
    "time.sleep(5) \n",
    "searchbox.send_keys( Keys.ENTER) \n",
    "time.sleep(5) \n",
    "searchbox.send_keys(Keys.ENTER)\n",
    "#\n",
    "##Scroll\n",
    "#scrolldown=driver.execute_script(\"window.scrollTo(0, document.body.scrollHeight);var scrolldown=document.body.scrollHeight;return scrolldown;\") \n",
    "#match=False \n",
    "#while(match==False): \n",
    "#    last_count = scrolldown \n",
    "#    time.sleep(5) \n",
    "#    scrolldown = driver.execute_script(\"window.scrollTo(0, document.body.scrollHeight);var scrolldown=document.body.scrollHeight;return scrolldown;\") \n",
    "#    if last_count==scrolldown: \n",
    "#        match=True\n",
    "#\n",
    "#"
   ]
  },
  {
   "cell_type": "code",
   "execution_count": 19,
   "id": "d1c8e3d8",
   "metadata": {},
   "outputs": [
    {
     "name": "stderr",
     "output_type": "stream",
     "text": [
      "\n",
      "\n",
      "====== WebDriver manager ======\n",
      "Current google-chrome version is 101.0.4951\n",
      "Get LATEST chromedriver version for 101.0.4951 google-chrome\n",
      "Driver [C:\\Users\\pedro\\.wdm\\drivers\\chromedriver\\win32\\101.0.4951.41\\chromedriver.exe] found in cache\n",
      "C:\\Users\\pedro\\AppData\\Local\\Temp/ipykernel_4084/2069381170.py:1: DeprecationWarning: executable_path has been deprecated, please pass in a Service object\n",
      "  driver = webdriver.Chrome(ChromeDriverManager().install())\n",
      "C:\\Users\\pedro\\AppData\\Local\\Temp/ipykernel_4084/2069381170.py:7: DeprecationWarning: find_element_by_css_selector is deprecated. Please use find_element(by=By.CSS_SELECTOR, value=css_selector) instead\n",
      "  username=driver.find_element_by_css_selector(\"input[name='username']\")\n",
      "C:\\Users\\pedro\\AppData\\Local\\Temp/ipykernel_4084/2069381170.py:8: DeprecationWarning: find_element_by_css_selector is deprecated. Please use find_element(by=By.CSS_SELECTOR, value=css_selector) instead\n",
      "  password=driver.find_element_by_css_selector(\"input[name='password']\")\n",
      "C:\\Users\\pedro\\AppData\\Local\\Temp/ipykernel_4084/2069381170.py:13: DeprecationWarning: find_element_by_css_selector is deprecated. Please use find_element(by=By.CSS_SELECTOR, value=css_selector) instead\n",
      "  login = driver.find_element_by_css_selector(\"button[type='submit']\").click()\n",
      "C:\\Users\\pedro\\AppData\\Local\\Temp/ipykernel_4084/2069381170.py:16: DeprecationWarning: find_element_by_xpath is deprecated. Please use find_element(by=By.XPATH, value=xpath) instead\n",
      "  notnow = driver.find_element_by_xpath(\"//button[contains(text(), 'Agora não')]\").click()\n",
      "C:\\Users\\pedro\\AppData\\Local\\Temp/ipykernel_4084/2069381170.py:19: DeprecationWarning: find_element_by_xpath is deprecated. Please use find_element(by=By.XPATH, value=xpath) instead\n",
      "  notnow2 = driver.find_element_by_xpath (\"//button[contains(text(), 'Agora não')]\").click()\n"
     ]
    }
   ],
   "source": [
    "driver = webdriver.Chrome(ChromeDriverManager().install())\n",
    "driver.get(\"https://www.instagram.com/\")\n",
    "time.sleep(1)\n",
    "#ACEITAR COOKIES\n",
    "#login\n",
    "time.sleep(5)\n",
    "username=driver.find_element_by_css_selector(\"input[name='username']\")\n",
    "password=driver.find_element_by_css_selector(\"input[name='password']\")\n",
    "username.clear()\n",
    "password.clear()\n",
    "username.send_keys(\"sirdatadummy\")\n",
    "password.send_keys(\"Sauter@2022\")\n",
    "login = driver.find_element_by_css_selector(\"button[type='submit']\").click()\n",
    "\n",
    "time.sleep(10) \n",
    "notnow = driver.find_element_by_xpath(\"//button[contains(text(), 'Agora não')]\").click() \n",
    "#Ativar Notificações \n",
    "time.sleep(10) \n",
    "notnow2 = driver.find_element_by_xpath (\"//button[contains(text(), 'Agora não')]\").click()\n",
    "driver.get(\"https://www.instagram.com/p/CdOBit1P8nZ/\")\n",
    "\n"
   ]
  },
  {
   "cell_type": "code",
   "execution_count": 33,
   "id": "75a0dbfa",
   "metadata": {},
   "outputs": [
    {
     "name": "stderr",
     "output_type": "stream",
     "text": [
      "\n",
      "\n",
      "INFO:WDM:\n",
      "\n",
      "====== WebDriver manager ======\n",
      "INFO:WDM:====== WebDriver manager ======\n",
      "Could not get version for firefox.Is firefox installed?\n",
      "INFO:WDM:Could not get version for firefox.Is firefox installed?\n",
      "Get LATEST geckodriver version for None firefox\n",
      "INFO:WDM:Get LATEST geckodriver version for None firefox\n",
      "Driver [C:\\Users\\pedro\\.wdm\\drivers\\geckodriver\\win64\\v0.31.0\\geckodriver.exe] found in cache\n",
      "INFO:WDM:Driver [C:\\Users\\pedro\\.wdm\\drivers\\geckodriver\\win64\\v0.31.0\\geckodriver.exe] found in cache\n",
      "C:\\Users\\pedro\\AppData\\Local\\Temp/ipykernel_4084/1424580873.py:2: DeprecationWarning: firefox_profile has been deprecated, please pass in an Options object\n",
      "  driver = webdriver.Firefox(GeckoDriverManager().install())\n"
     ]
    },
    {
     "ename": "NotADirectoryError",
     "evalue": "[WinError 267] O nome do diretório é inválido: 'C:\\\\Users\\\\pedro\\\\.wdm\\\\drivers\\\\geckodriver\\\\win64\\\\v0.31.0\\\\geckodriver.exe'",
     "output_type": "error",
     "traceback": [
      "\u001b[1;31m---------------------------------------------------------------------------\u001b[0m",
      "\u001b[1;31mNotADirectoryError\u001b[0m                        Traceback (most recent call last)",
      "\u001b[1;32m~\\AppData\\Local\\Temp/ipykernel_4084/1424580873.py\u001b[0m in \u001b[0;36m<module>\u001b[1;34m\u001b[0m\n\u001b[0;32m      1\u001b[0m \u001b[0mgeckodriver_autoinstaller\u001b[0m\u001b[1;33m.\u001b[0m\u001b[0minstall\u001b[0m\u001b[1;33m(\u001b[0m\u001b[1;33m)\u001b[0m\u001b[1;33m\u001b[0m\u001b[1;33m\u001b[0m\u001b[0m\n\u001b[1;32m----> 2\u001b[1;33m \u001b[0mdriver\u001b[0m \u001b[1;33m=\u001b[0m \u001b[0mwebdriver\u001b[0m\u001b[1;33m.\u001b[0m\u001b[0mFirefox\u001b[0m\u001b[1;33m(\u001b[0m\u001b[0mGeckoDriverManager\u001b[0m\u001b[1;33m(\u001b[0m\u001b[1;33m)\u001b[0m\u001b[1;33m.\u001b[0m\u001b[0minstall\u001b[0m\u001b[1;33m(\u001b[0m\u001b[1;33m)\u001b[0m\u001b[1;33m)\u001b[0m\u001b[1;33m\u001b[0m\u001b[1;33m\u001b[0m\u001b[0m\n\u001b[0m\u001b[0;32m      3\u001b[0m \u001b[0mdriver\u001b[0m\u001b[1;33m.\u001b[0m\u001b[0mget\u001b[0m\u001b[1;33m(\u001b[0m\u001b[1;34m\"https://www.python.org\"\u001b[0m\u001b[1;33m)\u001b[0m\u001b[1;33m\u001b[0m\u001b[1;33m\u001b[0m\u001b[0m\n",
      "\u001b[1;32m~\\anaconda3\\lib\\site-packages\\selenium\\webdriver\\firefox\\webdriver.py\u001b[0m in \u001b[0;36m__init__\u001b[1;34m(self, firefox_profile, firefox_binary, capabilities, proxy, executable_path, options, service_log_path, service_args, service, desired_capabilities, log_path, keep_alive)\u001b[0m\n\u001b[0;32m    159\u001b[0m         \u001b[1;32mif\u001b[0m \u001b[0mfirefox_profile\u001b[0m\u001b[1;33m:\u001b[0m\u001b[1;33m\u001b[0m\u001b[1;33m\u001b[0m\u001b[0m\n\u001b[0;32m    160\u001b[0m             \u001b[1;32mif\u001b[0m \u001b[0misinstance\u001b[0m\u001b[1;33m(\u001b[0m\u001b[0mfirefox_profile\u001b[0m\u001b[1;33m,\u001b[0m \u001b[0mstr\u001b[0m\u001b[1;33m)\u001b[0m\u001b[1;33m:\u001b[0m\u001b[1;33m\u001b[0m\u001b[1;33m\u001b[0m\u001b[0m\n\u001b[1;32m--> 161\u001b[1;33m                 \u001b[0mfirefox_profile\u001b[0m \u001b[1;33m=\u001b[0m \u001b[0mFirefoxProfile\u001b[0m\u001b[1;33m(\u001b[0m\u001b[0mfirefox_profile\u001b[0m\u001b[1;33m)\u001b[0m\u001b[1;33m\u001b[0m\u001b[1;33m\u001b[0m\u001b[0m\n\u001b[0m\u001b[0;32m    162\u001b[0m             \u001b[0mself\u001b[0m\u001b[1;33m.\u001b[0m\u001b[0mprofile\u001b[0m \u001b[1;33m=\u001b[0m \u001b[0mfirefox_profile\u001b[0m\u001b[1;33m\u001b[0m\u001b[1;33m\u001b[0m\u001b[0m\n\u001b[0;32m    163\u001b[0m             \u001b[0moptions\u001b[0m\u001b[1;33m.\u001b[0m\u001b[0mprofile\u001b[0m \u001b[1;33m=\u001b[0m \u001b[0mfirefox_profile\u001b[0m\u001b[1;33m\u001b[0m\u001b[1;33m\u001b[0m\u001b[0m\n",
      "\u001b[1;32m~\\anaconda3\\lib\\site-packages\\selenium\\webdriver\\firefox\\firefox_profile.py\u001b[0m in \u001b[0;36m__init__\u001b[1;34m(self, profile_directory)\u001b[0m\n\u001b[0;32m     72\u001b[0m             \u001b[0mself\u001b[0m\u001b[1;33m.\u001b[0m\u001b[0mtempfolder\u001b[0m \u001b[1;33m=\u001b[0m \u001b[0mtempfile\u001b[0m\u001b[1;33m.\u001b[0m\u001b[0mmkdtemp\u001b[0m\u001b[1;33m(\u001b[0m\u001b[1;33m)\u001b[0m\u001b[1;33m\u001b[0m\u001b[1;33m\u001b[0m\u001b[0m\n\u001b[0;32m     73\u001b[0m             \u001b[0mnewprof\u001b[0m \u001b[1;33m=\u001b[0m \u001b[0mos\u001b[0m\u001b[1;33m.\u001b[0m\u001b[0mpath\u001b[0m\u001b[1;33m.\u001b[0m\u001b[0mjoin\u001b[0m\u001b[1;33m(\u001b[0m\u001b[0mself\u001b[0m\u001b[1;33m.\u001b[0m\u001b[0mtempfolder\u001b[0m\u001b[1;33m,\u001b[0m \u001b[1;34m\"webdriver-py-profilecopy\"\u001b[0m\u001b[1;33m)\u001b[0m\u001b[1;33m\u001b[0m\u001b[1;33m\u001b[0m\u001b[0m\n\u001b[1;32m---> 74\u001b[1;33m             shutil.copytree(self.profile_dir, newprof,\n\u001b[0m\u001b[0;32m     75\u001b[0m                             ignore=shutil.ignore_patterns(\"parent.lock\", \"lock\", \".parentlock\"))\n\u001b[0;32m     76\u001b[0m             \u001b[0mself\u001b[0m\u001b[1;33m.\u001b[0m\u001b[0mprofile_dir\u001b[0m \u001b[1;33m=\u001b[0m \u001b[0mnewprof\u001b[0m\u001b[1;33m\u001b[0m\u001b[1;33m\u001b[0m\u001b[0m\n",
      "\u001b[1;32m~\\anaconda3\\lib\\shutil.py\u001b[0m in \u001b[0;36mcopytree\u001b[1;34m(src, dst, symlinks, ignore, copy_function, ignore_dangling_symlinks, dirs_exist_ok)\u001b[0m\n\u001b[0;32m    561\u001b[0m     \"\"\"\n\u001b[0;32m    562\u001b[0m     \u001b[0msys\u001b[0m\u001b[1;33m.\u001b[0m\u001b[0maudit\u001b[0m\u001b[1;33m(\u001b[0m\u001b[1;34m\"shutil.copytree\"\u001b[0m\u001b[1;33m,\u001b[0m \u001b[0msrc\u001b[0m\u001b[1;33m,\u001b[0m \u001b[0mdst\u001b[0m\u001b[1;33m)\u001b[0m\u001b[1;33m\u001b[0m\u001b[1;33m\u001b[0m\u001b[0m\n\u001b[1;32m--> 563\u001b[1;33m     \u001b[1;32mwith\u001b[0m \u001b[0mos\u001b[0m\u001b[1;33m.\u001b[0m\u001b[0mscandir\u001b[0m\u001b[1;33m(\u001b[0m\u001b[0msrc\u001b[0m\u001b[1;33m)\u001b[0m \u001b[1;32mas\u001b[0m \u001b[0mitr\u001b[0m\u001b[1;33m:\u001b[0m\u001b[1;33m\u001b[0m\u001b[1;33m\u001b[0m\u001b[0m\n\u001b[0m\u001b[0;32m    564\u001b[0m         \u001b[0mentries\u001b[0m \u001b[1;33m=\u001b[0m \u001b[0mlist\u001b[0m\u001b[1;33m(\u001b[0m\u001b[0mitr\u001b[0m\u001b[1;33m)\u001b[0m\u001b[1;33m\u001b[0m\u001b[1;33m\u001b[0m\u001b[0m\n\u001b[0;32m    565\u001b[0m     return _copytree(entries=entries, src=src, dst=dst, symlinks=symlinks,\n",
      "\u001b[1;31mNotADirectoryError\u001b[0m: [WinError 267] O nome do diretório é inválido: 'C:\\\\Users\\\\pedro\\\\.wdm\\\\drivers\\\\geckodriver\\\\win64\\\\v0.31.0\\\\geckodriver.exe'"
     ]
    }
   ],
   "source": [
    "\n",
    "geckodriver_autoinstaller.install()  \n",
    "driver = webdriver.Firefox(GeckoDriverManager().install())\n",
    "driver.get(\"https://www.python.org\")"
   ]
  },
  {
   "cell_type": "code",
   "execution_count": 28,
   "id": "cf468d84",
   "metadata": {},
   "outputs": [],
   "source": [
    "import geckodriver_autoinstaller"
   ]
  }
 ],
 "metadata": {
  "kernelspec": {
   "display_name": "Python 3 (ipykernel)",
   "language": "python",
   "name": "python3"
  },
  "language_info": {
   "codemirror_mode": {
    "name": "ipython",
    "version": 3
   },
   "file_extension": ".py",
   "mimetype": "text/x-python",
   "name": "python",
   "nbconvert_exporter": "python",
   "pygments_lexer": "ipython3",
   "version": "3.9.7"
  }
 },
 "nbformat": 4,
 "nbformat_minor": 5
}

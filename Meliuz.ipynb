{
 "cells": [
  {
   "cell_type": "code",
   "execution_count": null,
   "id": "8ab7df2c",
   "metadata": {},
   "outputs": [],
   "source": [
    "'''\n",
    "Com a base de dados do resultado do teste em anexo, você terá que tomar a decisão baseada em dados e \n",
    "estratégias de negócios para definir qual a porcentagem que escolheria para oferecer ao usuário. \n",
    "É necessário deixar explícito o motivo da escolha e todos os cálculos realizados para a tomada de decisão.\n",
    "'''\n"
   ]
  },
  {
   "cell_type": "code",
   "execution_count": 2,
   "id": "485f87de",
   "metadata": {},
   "outputs": [
    {
     "data": {
      "text/html": [
       "<div>\n",
       "<style scoped>\n",
       "    .dataframe tbody tr th:only-of-type {\n",
       "        vertical-align: middle;\n",
       "    }\n",
       "\n",
       "    .dataframe tbody tr th {\n",
       "        vertical-align: top;\n",
       "    }\n",
       "\n",
       "    .dataframe thead th {\n",
       "        text-align: right;\n",
       "    }\n",
       "</style>\n",
       "<table border=\"1\" class=\"dataframe\">\n",
       "  <thead>\n",
       "    <tr style=\"text-align: right;\">\n",
       "      <th></th>\n",
       "      <th>Unnamed: 0</th>\n",
       "      <th>VENDA TOTAL POR GRUPO</th>\n",
       "      <th>TOTAL DE COMPRADORES</th>\n",
       "      <th>TICKET MÉDIO</th>\n",
       "      <th>MÉDIA % DE CASH BACK</th>\n",
       "    </tr>\n",
       "  </thead>\n",
       "  <tbody>\n",
       "    <tr>\n",
       "      <th>0</th>\n",
       "      <td>GRUPO 1</td>\n",
       "      <td>R$ 5.605.172,00</td>\n",
       "      <td>9.633,00</td>\n",
       "      <td>R$ 586,00</td>\n",
       "      <td>35,90%</td>\n",
       "    </tr>\n",
       "    <tr>\n",
       "      <th>1</th>\n",
       "      <td>GRUPO 2</td>\n",
       "      <td>R$ 6.423.095,00</td>\n",
       "      <td>10.814,00</td>\n",
       "      <td>R$ 595,00</td>\n",
       "      <td>49,70%</td>\n",
       "    </tr>\n",
       "    <tr>\n",
       "      <th>2</th>\n",
       "      <td>GRUPO 3</td>\n",
       "      <td>R$ 6.785.855,00</td>\n",
       "      <td>11.410,00</td>\n",
       "      <td>R$ 594,00</td>\n",
       "      <td>60,00%</td>\n",
       "    </tr>\n",
       "    <tr>\n",
       "      <th>3</th>\n",
       "      <td>NaN</td>\n",
       "      <td>NaN</td>\n",
       "      <td>NaN</td>\n",
       "      <td>NaN</td>\n",
       "      <td>NaN</td>\n",
       "    </tr>\n",
       "    <tr>\n",
       "      <th>4</th>\n",
       "      <td>CORRELAÇÃO</td>\n",
       "      <td>0,9</td>\n",
       "      <td>0,8</td>\n",
       "      <td>0,4</td>\n",
       "      <td>1</td>\n",
       "    </tr>\n",
       "  </tbody>\n",
       "</table>\n",
       "</div>"
      ],
      "text/plain": [
       "   Unnamed: 0 VENDA TOTAL POR GRUPO TOTAL DE COMPRADORES TICKET MÉDIO MÉDIA % DE CASH BACK\n",
       "0     GRUPO 1       R$ 5.605.172,00             9.633,00    R$ 586,00               35,90%\n",
       "1     GRUPO 2       R$ 6.423.095,00            10.814,00    R$ 595,00               49,70%\n",
       "2     GRUPO 3       R$ 6.785.855,00            11.410,00    R$ 594,00               60,00%\n",
       "3         NaN                   NaN                  NaN          NaN                  NaN\n",
       "4  CORRELAÇÃO                   0,9                  0,8          0,4                    1"
      ]
     },
     "metadata": {},
     "output_type": "display_data"
    }
   ],
   "source": [
    "import pandas as pd\n",
    "import seaborn as sns # cria o grafico\n",
    "import matplotlib.pyplot as plt # exibe o grafico plt.show()\n",
    "from sklearn.model_selection import train_test_split # cria a IA para tomada de decisão\n",
    "from sklearn.linear_model import LinearRegression\n",
    "from sklearn.ensemble import RandomForestRegressor\n",
    "\n",
    "\n",
    "\n",
    "\n",
    "tabela_meliuz = pd.read_csv(\"Cópia de Base de dados - Estágio em Growth (Pedro Vasconcelos) - Página2.csv\")\n",
    "display(tabela_meliuz)\n",
    "\n",
    "tabela_meliuz.drop()"
   ]
  },
  {
   "cell_type": "code",
   "execution_count": null,
   "id": "fddfbb7f",
   "metadata": {},
   "outputs": [],
   "source": []
  }
 ],
 "metadata": {
  "kernelspec": {
   "display_name": "Python 3 (ipykernel)",
   "language": "python",
   "name": "python3"
  },
  "language_info": {
   "codemirror_mode": {
    "name": "ipython",
    "version": 3
   },
   "file_extension": ".py",
   "mimetype": "text/x-python",
   "name": "python",
   "nbconvert_exporter": "python",
   "pygments_lexer": "ipython3",
   "version": "3.9.7"
  }
 },
 "nbformat": 4,
 "nbformat_minor": 5
}

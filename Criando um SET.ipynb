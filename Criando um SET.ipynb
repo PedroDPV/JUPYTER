{
 "cells": [
  {
   "cell_type": "code",
   "execution_count": 9,
   "id": "8234cc54",
   "metadata": {},
   "outputs": [
    {
     "name": "stdout",
     "output_type": "stream",
     "text": [
      "{1, 2, 3, 4, 5, 6, 7, 8}\n",
      "{1, 2, 3, 4, 5, 6, 7, 8}\n",
      "{'1'}\n"
     ]
    }
   ],
   "source": [
    "\"CRIANDO UM SET (SÃO LISTAS EM QUE OS INDICES NÃO SE REPETEM)\"\n",
    "set1 = {1,2,3,4,5,6,7,8}\n",
    "print (set1)\n",
    "\n",
    "\"perceba que no set2 , os numeros repetidos não serão mostrados\"\n",
    "set2 = {1,2,2,3,4,4,5,6,6,7,8,8}\n",
    "print (set2)\n",
    "\n",
    "\"para adicionar valores em um set vazio , primeiro o criamos vazio e depois usamos o .add para adicionar um novo elemento\"\n",
    "set3 = set()\n",
    "set3.add ('1')\n",
    "print(set3)\n",
    "\n",
    "# dd (adiciona) , update(atualiza) , clear (limpa) , discard\n",
    "# union (une) dois sets\n",
    "# intersection \"&\" (mostra todos os elementos presentes nos dois sets)\n",
    "# difference \"-\" (elementos apenas no set da esquerda)\n",
    "# symmetric_difference ^ (Elementos que estão nos dois sets , mas não em ambos)\n",
    "\n",
    "\n"
   ]
  }
 ],
 "metadata": {
  "kernelspec": {
   "display_name": "Python 3 (ipykernel)",
   "language": "python",
   "name": "python3"
  },
  "language_info": {
   "codemirror_mode": {
    "name": "ipython",
    "version": 3
   },
   "file_extension": ".py",
   "mimetype": "text/x-python",
   "name": "python",
   "nbconvert_exporter": "python",
   "pygments_lexer": "ipython3",
   "version": "3.9.7"
  }
 },
 "nbformat": 4,
 "nbformat_minor": 5
}

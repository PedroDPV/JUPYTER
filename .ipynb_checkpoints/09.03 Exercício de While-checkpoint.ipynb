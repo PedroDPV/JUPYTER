{
 "cells": [
  {
   "cell_type": "markdown",
   "metadata": {},
   "source": [
    "# Exercícios\n",
    "\n",
    "## 1. Input até o usuário parar\n",
    "\n",
    "Vamos criar um sistema de vendas. Nosso programa deve registrar os produtos e as quantidades (2 inputs) e adicionar em uma lista.\n",
    "\n",
    "O programa deve continuar rodando até o input ser vazio, ou seja, o usuário apertar enter sem digitar nenhum produto ou quantidade.\n",
    "\n",
    "Ao final do programa, ele deve printar todos os produtos e quantidades vendidas.\n",
    "\n",
    "Obs: Caso queira, para o print ficar mais visual, pode usar o join para cada item ser printado em uma linha.\n",
    "Sugestão para sua lista de produtos vendidos:"
   ]
  },
  {
   "cell_type": "raw",
   "metadata": {},
   "source": [
    "vendas = [\n",
    "    ['maçã', 5],\n",
    "    ['banana', 15],\n",
    "    ['azeite', 1],\n",
    "    ['vinho', 3],\n",
    "]"
   ]
  },
  {
   "cell_type": "code",
   "execution_count": 19,
   "metadata": {},
   "outputs": [
    {
     "name": "stdout",
     "output_type": "stream",
     "text": [
      "Qual item você deseja comprar? fdsfsdfs45\n",
      "Digite a quantidade:10\n",
      "Qual item você deseja comprar? feijao\n",
      "Digite a quantidade:10\n",
      "Qual item você deseja comprar? carne\n",
      "Digite a quantidade:5\n",
      "Qual item você deseja comprar? suco\n",
      "Digite a quantidade:10\n",
      "Qual item você deseja comprar? carambola\n",
      "Digite a quantidade:90\n",
      "Qual item você deseja comprar? macarrão\n",
      "Digite a quantidade:50\n",
      "Qual item você deseja comprar? esfira\n",
      "Digite a quantidade:1000\n",
      "Qual item você deseja comprar? \n",
      "Compras encerradas , seu carrinho atualizado está assim:\n",
      "[['item fdsfsdfs45 , quantidade:10'], ['item feijao , quantidade:10'], ['item carne , quantidade:5'], ['item suco , quantidade:10'], ['item carambola , quantidade:90'], ['item macarrão , quantidade:50'], ['item esfira , quantidade:1000']]\n"
     ]
    }
   ],
   "source": [
    "#seu código aqui\n",
    "carrinho = []\n",
    "lista = []\n",
    "while True:\n",
    "\n",
    "    item = input('Qual item você deseja comprar? ')\n",
    "    \n",
    "    if not item:\n",
    "        print ('Compras encerradas , seu carrinho atualizado está assim:')\n",
    "        print (carrinho)\n",
    "        break\n",
    "    qtd = int(input ('Digite a quantidade:'))\n",
    "    lista = [f'item: {item} , quantidade:{qtd}']\n",
    "    carrinho.append(lista)"
   ]
  },
  {
   "cell_type": "markdown",
   "metadata": {},
   "source": [
    "### Obs: Podemos fazer o While de 2 maneiras:\n",
    "\n",
    "1. While com a condição que finalize o programa\n",
    "2. While rodando para sempre, mas com uma condição dentro do while que dê um break no código.\n",
    "\n",
    "Vamos mostrar as 2 opções"
   ]
  }
 ],
 "metadata": {
  "kernelspec": {
   "display_name": "Python 3 (ipykernel)",
   "language": "python",
   "name": "python3"
  },
  "language_info": {
   "codemirror_mode": {
    "name": "ipython",
    "version": 3
   },
   "file_extension": ".py",
   "mimetype": "text/x-python",
   "name": "python",
   "nbconvert_exporter": "python",
   "pygments_lexer": "ipython3",
   "version": "3.9.7"
  }
 },
 "nbformat": 4,
 "nbformat_minor": 4
}

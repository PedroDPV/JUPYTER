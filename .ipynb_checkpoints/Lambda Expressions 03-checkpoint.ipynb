{
 "cells": [
  {
   "cell_type": "markdown",
   "metadata": {},
   "source": [
    "# Lambda Expressions para gerar funções\n",
    "\n",
    "### Descrição\n",
    "\n",
    "- Uma das aplicações de lambda expressions, além da vista na aula passada, é criar um \"gerador de funções\". Nesse caso, usaremos a lambda expressions dentro da definição de uma outra função\n",
    "\n",
    "### Exemplo:\n",
    "\n",
    "1. Vamos criar uma função que me permita calcular o valor acrescido do imposto de diferentes categorias (produto, serviço, royalties, etc.)"
   ]
  },
  {
   "cell_type": "code",
   "execution_count": 7,
   "metadata": {},
   "outputs": [
    {
     "data": {
      "text/plain": [
       "'55000.00'"
      ]
     },
     "execution_count": 7,
     "metadata": {},
     "output_type": "execute_result"
    }
   ],
   "source": [
    "# produto 0.1\n",
    "#serviço 0.15\n",
    "#royalties 0.25\n",
    "def calcular_produto(valor):\n",
    "    return (f'{valor * 1.1:.2f}')\n",
    "    \n",
    "def calcular_serviço(valor):\n",
    "    return valor * 1.15\n",
    "\n",
    "def calcular_royalties(valor):\n",
    "    return valor * 1.25\n",
    "\n",
    "\n",
    "calcular_produto(50000)"
   ]
  },
  {
   "cell_type": "markdown",
   "metadata": {},
   "source": [
    "- Agora vamos definir as funções que calculam o imposto das 3 categorias (produto, serviço, royalties)"
   ]
  },
  {
   "cell_type": "code",
   "execution_count": null,
   "metadata": {},
   "outputs": [],
   "source": []
  },
  {
   "cell_type": "markdown",
   "metadata": {},
   "source": [
    "- Agora vamos aplicar com um valor de nota fiscal de 100 para ver o resultado"
   ]
  },
  {
   "cell_type": "code",
   "execution_count": null,
   "metadata": {},
   "outputs": [],
   "source": []
  },
  {
   "cell_type": "markdown",
   "metadata": {},
   "source": [
    "### É menos usado do que a forma anterior que vimos, mas pode ser útil caso queira criar funções que possam ser adaptadas como vimos aqui"
   ]
  }
 ],
 "metadata": {
  "kernelspec": {
   "display_name": "Python 3 (ipykernel)",
   "language": "python",
   "name": "python3"
  },
  "language_info": {
   "codemirror_mode": {
    "name": "ipython",
    "version": 3
   },
   "file_extension": ".py",
   "mimetype": "text/x-python",
   "name": "python",
   "nbconvert_exporter": "python",
   "pygments_lexer": "ipython3",
   "version": "3.9.7"
  }
 },
 "nbformat": 4,
 "nbformat_minor": 4
}

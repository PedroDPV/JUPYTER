{
 "cells": [
  {
   "cell_type": "markdown",
   "metadata": {},
   "source": [
    "# List Comprehension não serve só para criar uma lista, serve para qualquer ação em iterable\n",
    "\n",
    "### Exemplo:"
   ]
  },
  {
   "cell_type": "markdown",
   "metadata": {},
   "source": [
    "- Vamos calcular quantos % das vendas o meu top 5 produtos representa das vendas totais"
   ]
  },
  {
   "cell_type": "code",
   "execution_count": 63,
   "metadata": {},
   "outputs": [],
   "source": [
    "produtos = ['coca', 'pepsi', 'guarana', 'skol', 'brahma', 'agua', 'del valle', 'dolly', 'red bull', 'cachaça', 'vinho tinto', 'vodka', 'vinho branco', 'tequila', 'champagne', 'gin', 'guaracamp', 'matte', 'leite de castanha', 'leite', 'jurupinga', 'sprite', 'fanta']\n",
    "vendas = [1200, 300, 800, 1500, 1900, 2750, 400, 20, 23, 70, 90, 80, 1100, 999, 900, 880, 870, 50, 1111, 120, 300, 450, 800]\n",
    "top_5 = ['agua', 'brahma', 'skol', 'coca', 'leite de castanha']"
   ]
  },
  {
   "cell_type": "code",
   "execution_count": 64,
   "metadata": {},
   "outputs": [
    {
     "data": {
      "text/plain": [
       "['agua', 'brahma', 'skol', 'coca', 'leite de castanha']"
      ]
     },
     "execution_count": 64,
     "metadata": {},
     "output_type": "execute_result"
    }
   ],
   "source": [
    "#DESCOBRINDO O TOP 5:\n",
    "#ZIPANDO DUAS LISTAS e usando SORT:\n",
    "top5 = list(zip(vendas , produtos))\n",
    "top5.sort(reverse=True)\n",
    "top = top5[:5]\n",
    "top_5 = []\n",
    "for valor , item in top:\n",
    "    top_5.append(item)\n",
    "\n",
    "top_5"
   ]
  },
  {
   "cell_type": "markdown",
   "metadata": {},
   "source": [
    "- Fazendo por for"
   ]
  },
  {
   "cell_type": "code",
   "execution_count": 65,
   "metadata": {},
   "outputs": [
    {
     "name": "stdout",
     "output_type": "stream",
     "text": [
      "a porcentagem da venda dos top 5 produtos representa 50.63% das vendas totais\n"
     ]
    }
   ],
   "source": [
    "vendastop5 = []\n",
    "for i , produto in enumerate(produtos):\n",
    "    if produto in top_5:\n",
    "        vendastop5.append(vendas[i])\n",
    "\n",
    "soma_top5 = sum(vendastop5)  \n",
    "soma_total_vendas = sum(vendas)\n",
    "porcentagem = (soma_top5/soma_total_vendas)*100\n",
    "\n",
    "print (f'a porcentagem da venda dos top 5 produtos representa {porcentagem:.2f}% das vendas totais')\n"
   ]
  },
  {
   "cell_type": "markdown",
   "metadata": {},
   "source": [
    "- Fazendo por list comprehension"
   ]
  },
  {
   "cell_type": "code",
   "execution_count": null,
   "metadata": {},
   "outputs": [],
   "source": [
    "vendastop5 = [sum]\n",
    "\n",
    "\n",
    "\n",
    "#print(total_top5)\n",
    "#print('Top 5 representou {:0.1%} das vendas'.format(total_top5/sum(vendas)))"
   ]
  }
 ],
 "metadata": {
  "kernelspec": {
   "display_name": "Python 3 (ipykernel)",
   "language": "python",
   "name": "python3"
  },
  "language_info": {
   "codemirror_mode": {
    "name": "ipython",
    "version": 3
   },
   "file_extension": ".py",
   "mimetype": "text/x-python",
   "name": "python",
   "nbconvert_exporter": "python",
   "pygments_lexer": "ipython3",
   "version": "3.9.7"
  }
 },
 "nbformat": 4,
 "nbformat_minor": 4
}

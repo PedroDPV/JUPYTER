{
 "cells": [
  {
   "cell_type": "code",
   "execution_count": 29,
   "id": "9c681f6c",
   "metadata": {},
   "outputs": [
    {
     "name": "stderr",
     "output_type": "stream",
     "text": [
      "C:\\Users\\pedro\\AppData\\Local\\Temp/ipykernel_7048/2523368702.py:11: DeprecationWarning: find_element_by_xpath is deprecated. Please use find_element(by=By.XPATH, value=xpath) instead\n",
      "  driver.find_element_by_xpath('/html/body/div[9]/div[2]/div/div[2]/div[1]/div/div[2]/div/div[1]/button').click()\n",
      "C:\\Users\\pedro\\AppData\\Local\\Temp/ipykernel_7048/2523368702.py:34: DeprecationWarning: find_elements_by_class_name is deprecated. Please use find_elements(by=By.CLASS_NAME, value=name) instead\n",
      "  titulos_p1 = driver.find_elements_by_class_name('sc-1pe7b5t-1.fTrwHU')\n",
      "C:\\Users\\pedro\\AppData\\Local\\Temp/ipykernel_7048/2523368702.py:42: DeprecationWarning: find_elements_by_css_selector is deprecated. Please use find_elements(by=By.CSS_SELECTOR, value=css_selector) instead\n",
      "  links_p1 = driver.find_elements_by_css_selector('a')\n"
     ]
    },
    {
     "name": "stdout",
     "output_type": "stream",
     "text": [
      "['Me deram um vale presente que não funciona', 'Não consigo renegociar minha divida', 'Qualidade horrível ', 'Não aprovam cartão no meu nome', 'Parcelamento ', 'Calça jeans de pessima qualidade', 'Parcelamento indevido', 'Pedido com prazo de 2h alterado para 7 dias úteis', ' [Editado pelo Reclame Aqui]  da caixa', 'Sandália quebrado no primeiro uso', 'Desconto presente aniversário não entra ', 'Seguro Bolsa Protegida Embutido sem minha autorização', 'SANDÁLIA DE PÉSSIMA QUALIDADE ', 'Queria pagar minhas dívidas adiantada e agora estou com meu nome sujo!', 'Devolução ', 'Fatura do Cartão com valor acima da compra', 'estão cobrando uma parcela de compra que nao é minha', 'Cobrança indevida de uma compra cancelada  pela loja ', 'Não recebie o pacote', 'Estorno não realizado ']\n",
      "20\n",
      "[['https://www.reclameaqui.com.br/cea-loja-online/me-deram-um-vale-presente-que-nao-funciona_GUYeyCNGJQvV8Tst/', 'https://www.reclameaqui.com.br/cea-loja-online/nao-consigo-renegociar-minha-divida_zQxYz-sSLNhrJ0Zl/', 'https://www.reclameaqui.com.br/cea-loja-online/qualidade-horrivel_PMib8q38ozCP_8S0/', 'https://www.reclameaqui.com.br/cea-loja-online/nao-aprovam-cartao-no-meu-nome_VOnOKkyjLNm3xlt9/', 'https://www.reclameaqui.com.br/cea-loja-online/parcelamento_1pJ7WlD_DQgl9FfL/', 'https://www.reclameaqui.com.br/cea-loja-online/calca-jeans-de-pessima-qualidade_wMUkCZhlTkksfUoE/', 'https://www.reclameaqui.com.br/cea-loja-online/parcelamento-indevido_SiDamRgQ3T7gwA3p/', 'https://www.reclameaqui.com.br/cea-loja-online/pedido-com-prazo-de-2h-alterado-para-7-dias-uteis_J89TH1mQRSA4fh0i/', 'https://www.reclameaqui.com.br/cea-loja-online/da-caixa_wvZxZ7Mcdhizou0c/', 'https://www.reclameaqui.com.br/cea-loja-online/sandalia-quebrado-no-primeiro-uso_q69TG3ukcCadY8dX/'], ['https://www.reclameaqui.com.br/cea-loja-online/desconto-presente-aniversario-nao-entra_h6D73SaRpEteOAPb/', 'https://www.reclameaqui.com.br/cea-loja-online/seguro-bolsa-protegida-embutido-sem-minha-autorizacao_yfIHwKpT9kCNOYYO/', 'https://www.reclameaqui.com.br/cea-loja-online/sandalia-de-pessima-qualidade_VOTkpEMgHaq8_IZv/', 'https://www.reclameaqui.com.br/cea-loja-online/queria-pagar-minhas-dividas-adiantada-e-agora-estou-com-meu-nome-sujo_gjQogcpnO1YB8v9W/', 'https://www.reclameaqui.com.br/cea-loja-online/devolucao_uKzL4XW0whVcE0ec/', 'https://www.reclameaqui.com.br/cea-loja-online/fatura-do-cartao-com-valor-acima-da-compra_jyz7UPCDLzpphE7e/', 'https://www.reclameaqui.com.br/cea-loja-online/estao-cobrando-uma-parcela-de-compra-que-nao-e-minha_E7aGy4n335we_mWh/', 'https://www.reclameaqui.com.br/cea-loja-online/cobranca-indevida-de-uma-compra-cancelada-pela-loja_lY7O_0UhhdQyAsOe/', 'https://www.reclameaqui.com.br/cea-loja-online/nao-recebie-o-pacote_dOGEh-TbkcZ6IlJ-/', 'https://www.reclameaqui.com.br/cea-loja-online/estorno-nao-realizado_Wk-CTf-7C7mNL4fJ/']]\n",
      "2\n",
      "['Tentei duas vezes trocar alguns produtos da C&A e achei extremamente complicado, cheia de códigos e mesmo eu comprando os produtos juntos, tem q enviar separado, com código de pedido + código de troca + declaração de conteúdo, e fui mais de duas vezes no correio e não consegui enviar.Na última tentativa, q pedi dia 4 de março, eu quebrei meu pé e não consegui ir ao correio, só consigo ir agora de robofoot. Mas meu código expirou.Portando gostaria que a C&A me mandasse novos códigos porque eu não tinha ideia da burocracia, o q me prejudicou muito, e um de saúde, o que impossibilitou a troca.', 'Me deram um vale presente e a instrução para uso é apenas acessar com meu e-mail. Tentei diversas vezes e não consegui. Entrei em contato a atendente verificou o problema e abriu um chamado, entrarem em contato comigo depois informando que não existe nenhum problema.UMA PALHAÇADA!', 'Boa tarde, tentei por diversas vezes contato via chat e telefone com a empresa pois descobri a pouco tempo que meu nome estava sujo divido a uma divida do cartão C&A, preciso de ajuda para renegociar essa divida e conseguir limpar o nome.', 'Deixando meu registro, pois comprei uma calça ontem 28/03 porém fui lavar e ela está com estado de velha, bufenta, qualidade deixou bastante a desejar. Não cheguei nem usar a peça. ', 'Gostaria de saber qual o motivo que não aprovam o cartão no meu nome, tenho nome limpo e score ótimo.Gostaria muito de ter o cartão da loja.Obrigada', 'Eu olhei a fatura do mês que vem(15/04/2022) e reparei que tem um parcelado facil em 24× sendo que não comprei nada dividido em 24× e está no valor de 28,51 estou com as faturas em dia', 'Comprei uma calça jeans em 17/10/21. Sabemos que calça jeans sao resistentes e dura anos, porem esta calça logo apresentou desgaste no bolsos dianteiro e traseiro. Pouco tempo depois, foi o bolso que rasgou. E agora, o fundo da calça esta rasgado tbmNao pagamos barato, paguei 99,99 nesta calça para ela durar 5 meses, isso é um absurdocalça slim forasteiro denim tank jeans basica jeans escuro 40', 'Minha mãe fez o pagamento do cartão em atraso no vencimento do mês seguinte e sem autorização dela foi parcelado o restante em 24 meses e ainda por cima o saldo devedor ao invez de ser 400 foi para 2000', 'Estive na loja C&A do Barra Shopping, onde experimentei algumas peças que me agradaram. No local, com as peças em mãos, escaneei os códigos de barras pelo app e realizei a compra. Todos os itens constavam o prazo de 2h para entrega. Após realizar o pagamento, recebi um e-mail informando que o prazo de entrega era de 7 dias úteis.Observem que eu já estava no local e só realizei a compra pois havia a garantia pelo app de que a entrega seria realizada no prazo de 2h. Eu precisava das peças para o dia seguinte e por isso comprei.O prazo foi alterado após a realização do pagamento, sem qualquer justificativa.Como eu estava já dentro da loja aguardando as 2h e tive a infeliz surpresa da alteração do prazo, resolvi entrar em contato pelo atendimento online. Informei o meu CPF e o número do pedido e foi informado que o mesmo já estava disponível para retirada em loja.Conversei com um atendente, mostrei a ele a mensagem de que o pedido já estava disponível para retirada em loja, mas ele me informou que não constava no sistema.Recorri novamente ao atendimento online. Dessa vez solicitei falar com um especialista. Recebi a informação de que os produtos não tinham estoque em loja e por isso precisaram ser enviados via transportadora, aumentando o prazo de entrega.A informação fornecida pelo atendimento online é [Editado pelo Reclame Aqui]. Eu estava dentro da loja, com os produtos em mãos. Eles estavam sim disponíveis.Gostaria de saber qual providência será tomada, pois me sinto [Editado pelo Reclame Aqui] enquanto consumidora, tendo realizado a compra por conta da informação do prazo de entrega de 2 horas e tendo o aumento do prazo em 10700%', 'Fui fazer uma compra no valor aproximado de 360 reais, e fui abordado em fazer o cartão c$A sobre o pretexto de ter 10% de desconto na primeira compra, aceitei e informei que queria que fosse pago de 1x, ela disse que teria acesso a fatura no final do mês baixando o aplicativo e ao fazer isso verifiquei que ela colou a compra em 5x com juros totalizando mais de 500 reais a compra.Primeira e última vez que faço compra nessa loja, onde fica evidente a[Editado pelo Reclame Aqui] dos seus funcionários, muito provavelmente pressionados para bater a meta.', 'Olá, Utilizei a sandália apenas uma vez e o salto ficou frouxo, sem estabilidade alguma, inviabilizando o uso. ', 'Recebi um presente do programa c&a e vc, por hoje ser meu aniversário. O presente, que é um desconto de 10 reais não entra automaticamente na rappi, conforme informado.', 'No sábado, Dia 26/03/22, fui até a Loja C&A de Maracanaú, iria passar no meu cartão de credito e me ofereceram um da Loja online; C&A Pay, me passaram que não tinha nem uma tarifa nem custo, pra tê-lo, estão aceitei fazer, quando finalizei o cadastro pra ir passar minhas compras fui informada desse Seguro Bolsa Protegida, e fiquei extremamente chateada e decepcionada pela mentira, enfim foi me passado que eu podia cancelar e já liguei 3 vezes pra central e estão alegando um erro no sistema pra cancelar esse seguro e eu não quero esse Seguro, exijo que retirem o mesmo do meu cartão.', 'Eu comprei uma sandália no site da C&A usei apenas três vezes e o salto está saindo, estou muito triste pq a sandália é linda e confortável mas de péssima qualidade e os dois pés estão soltando não só uma ', 'Em janeiro liguei pra cea e pedi que fosse gerado um único boleto com as parcelas seguintes, pra que eu quitasse logo as minhas dívidas (já que eles me informaram que eu não poderia fazer isso na loja). A atendente disse que seria gerado o boleto só em fevereiro, pois janeiro ainda estava em aberto. Em fevereiro paguei a fatura, que eu achava que havia sido feito o que eu tinha solicitado, e depois não entrei mais no app. Semana passada fui fazer uma compra e pra minha surpresa, estava devendo mais de 500 reais, pois a incompetente da mulher que me atendeu em janeiro, não fez o que eu pedi. Hoje recebo e-mail dizendo que meu nome está no serasa. Um absurdo o tanto de juros e multa que está dentro dessa fatura, fora o constrangimento na fila e a dor de cabeça dessa confusão toda, pois na loja consta duas informações, tanto que eu tenho essa dívida quanto que eu tenho apenas 1 parcela em aberto. Então o sistema de vocês, assim como os profissionais, não são confiáveis! Eu só queria pagar adiantado o que estava devendo e agora estou com meu nome sujo e muito irritada! Não irei pagar nada a mais do que devo por incompetência de funcionário que não  fez o que deveria ter feito! Só quero pagar logo o que eu comprei e me desligar dessa empresa bagunçada! Hoje liguei novamente e me deram 5 dias úteis para que meu chamado fosse atendido, espero que resolvam logo, pois se isso atrapalhar a minha admissão amanhã no meu emprego novo, o processo vem! ', 'Comprei uma calça que não me serviu e não consigo fazer a devolução porque não querem gerar o código postal. ', 'Realizei uma compra na cea no shopping plaza em SBC onde iria efetuar pagamento no debito mas atendente ofereceu cartão digital para obter desconto na compra hoje ao acessar o cartao nao só nao obtive desconto como esta parcelado com valor bem maior do comprado na loja um absurdo e nao há opção no aplicativo para efetuar o pagamento total da compra e verificar se tenho o desconto correto oferecido no momento da compra ou seja fui nitidamente enganada. Quero quitar a compra com meu desconto de 20% e nunca mais utilizar cartão da loja. ', 'A Loja esta me cobrando uma parcela em nome de Juliana que não é minha, ja mandei sms, já liguei no sac já atendi e disse que não sou a Juliana, o Sac disse que não poderia me ajudar,  mas eles insistem em me ligar, num dia eu já bloquiei mais de 200 números diferentes, peço a gentileza de que parem de me ligar cobrando a parcela da Juliana, senão vou dar andamento e vou entrar na justiça como danos morais.. sem mais.', 'Fiz uma compra pelo cartão C&A Pay mas essa mesma compra foi cancelada pela loja e mesmo assim mandaram a fatura pra mim pagar  pfvr resolvam isso logo, antes que eu decida reclamar no PROCON ', 'Hoje ja fazem 12 dias de atraso na entrega e nem tive resolução d loja cea,pois não recebie o pacote tive um péssimo atendimento quando falei na central no qual não me deixaram nem abrir uma reclamação e fiz uma reclamação neste mesmo canal e não tive nenhum tipo de contato da loja e ressalto que quero o valor no vale presente como o valor das peças atualizados pois não é culpa minha dos erros da loja como o vale em dobro por problema da cea e estou amparada no direito do consumidor , se cado eu não tenha nenhuma resposta vou levar na justiça por propaganda enganosa e danos morais ']\n",
      "20\n"
     ]
    }
   ],
   "source": [
    "import time\n",
    "import pandas as pd\n",
    "from selenium import webdriver\n",
    "from bs4 import BeautifulSoup\n",
    "import requests\n",
    "\n",
    "driver = webdriver.Chrome()\n",
    "driver.get('https://www.reclameaqui.com.br/empresa/cea-loja-online/lista-reclamacoes/?pagina=1')\n",
    "time.sleep(1)\n",
    "#ACEITAR COOKIES\n",
    "driver.find_element_by_xpath('/html/body/div[9]/div[2]/div/div[2]/div[1]/div/div[2]/div/div[1]/button').click()\n",
    "#PEGAR O TITULO DAS 10 RECLAMAÇÕES DA PAGINA:\n",
    "\n",
    "lista_1 = []\n",
    "lista_2 = []\n",
    "all_titulos = []\n",
    "lista_comtitulos= []\n",
    "all_links = []\n",
    "todoshref = []\n",
    "qtd_paginas = 3\n",
    "\n",
    "#LAÇO \"FOR\" PRA ACESSAR A QUANTIDADE DE PAGINAS DEFINIDAS NA VARIÁVEL \"qtd_paginas\":\n",
    "\n",
    "for pagina in range(qtd_paginas):\n",
    "    \n",
    "    \n",
    "    if pagina == 0:\n",
    "        pass\n",
    "    else:\n",
    "        driver.get(f'https://www.reclameaqui.com.br/empresa/cea-loja-online/lista-reclamacoes/?pagina={pagina}')\n",
    "        \n",
    "#pegar os titulos das reclamações: \n",
    "\n",
    "        titulos_p1 = driver.find_elements_by_class_name('sc-1pe7b5t-1.fTrwHU')\n",
    "        for titulo in titulos_p1:                        \n",
    "            lista_1 = titulo.get_attribute('title')\n",
    "            all_titulos.append(lista_1)\n",
    "            \n",
    "#pegar os links das reclamações:\n",
    "\n",
    "        driver.get(f'https://www.reclameaqui.com.br/empresa/cea-loja-online/lista-reclamacoes/?pagina={pagina}')\n",
    "        links_p1 = driver.find_elements_by_css_selector('a')\n",
    "        for link in links_p1:\n",
    "            lista_2 = link.get_attribute('href')\n",
    "            todoshref.append(lista_2)\n",
    "            linksuteis = todoshref[128:138]\n",
    "            \n",
    "        all_links.append(linksuteis)\n",
    "        linksuteis = []\n",
    "        todoshref = []\n",
    "\n",
    "print (all_titulos)\n",
    "print (len(all_titulos))\n",
    "print (all_links)\n",
    "print (len(all_links))\n",
    "\n",
    "            \n",
    "#PEGAR O TEXTO DA RECLMAÇÃO DE UM LINK ESPECÍFICO\n",
    "headers = {'user-agent': 'Mozilaa/5.0'}\n",
    "pagina = requests.get('https://www.reclameaqui.com.br/cea-loja-online/troca-complicada-e-expirada_E5l9PbpCY5wwJJc3/',\n",
    "                     headers = headers)\n",
    "\n",
    "pagina.text\n",
    "sopa = pagina.text\n",
    "sopa = BeautifulSoup(sopa, 'html.parser')\n",
    "\n",
    "reclamacao = sopa.find_all('p' , {'data-testid':'complaint-description'})\n",
    "\n",
    "# PEGAR TODAS AS 10 RECLAMAÇÕES DAS PAGINAS ESCOLHIDAS :\n",
    "\n",
    "all_reclamacoes = []\n",
    "\n",
    "for pag in all_links:\n",
    "    \n",
    "    for paglink in pag:\n",
    "        headers = {'user-agent': 'Mozilaa/5.0'}\n",
    "        pagina.text\n",
    "        sopa = pagina.text\n",
    "        sopa = BeautifulSoup(sopa, 'html.parser')                        \n",
    "        pagina = requests.get(paglink, headers = headers)\n",
    "        reclamacao = sopa.find_all('p' , {'data-testid':'complaint-description'})\n",
    "        all_reclamacoes.append(reclamacao[0].text)\n",
    "\n",
    "print (all_reclamacoes)\n",
    "print (len(all_reclamacoes))\n"
   ]
  },
  {
   "cell_type": "code",
   "execution_count": 24,
   "id": "93b942f9",
   "metadata": {},
   "outputs": [],
   "source": [
    "features = {'titulos': all_titulos, \n",
    "            'links': all_links,\n",
    "           'reclamação' : all_reclamacoes}\n"
   ]
  },
  {
   "cell_type": "code",
   "execution_count": 25,
   "id": "ed5f2a3c",
   "metadata": {},
   "outputs": [
    {
     "data": {
      "text/plain": [
       "{'titulos': ['Parcelamento indevido',\n",
       "  'Pedido com prazo de 2h alterado para 7 dias úteis',\n",
       "  ' [Editado pelo Reclame Aqui]  da caixa',\n",
       "  'Sandália quebrado no primeiro uso',\n",
       "  'Desconto presente aniversário não entra ',\n",
       "  'Seguro Bolsa Protegida Embutido sem minha autorização',\n",
       "  'SANDÁLIA DE PÉSSIMA QUALIDADE ',\n",
       "  'Queria pagar minhas dívidas adiantada e agora estou com meu nome sujo!',\n",
       "  'Devolução ',\n",
       "  'Fatura do Cartão com valor acima da compra',\n",
       "  'Fatura do Cartão com valor acima da compra',\n",
       "  'estão cobrando uma parcela de compra que nao é minha',\n",
       "  'Cobrança indevida de uma compra cancelada  pela loja ',\n",
       "  'Não recebie o pacote',\n",
       "  'Estorno não realizado ',\n",
       "  'Estou sendo extorquido pela C&A',\n",
       "  'Troca complicada e expirada',\n",
       "  'Aumento de limite ',\n",
       "  'Ausência de nota fiscal ',\n",
       "  'Entrega há dias em atraso e parada'],\n",
       " 'links': [['https://www.reclameaqui.com.br/cea-loja-online/parcelamento-indevido_SiDamRgQ3T7gwA3p/',\n",
       "   'https://www.reclameaqui.com.br/cea-loja-online/pedido-com-prazo-de-2h-alterado-para-7-dias-uteis_J89TH1mQRSA4fh0i/',\n",
       "   'https://www.reclameaqui.com.br/cea-loja-online/da-caixa_wvZxZ7Mcdhizou0c/',\n",
       "   'https://www.reclameaqui.com.br/cea-loja-online/sandalia-quebrado-no-primeiro-uso_q69TG3ukcCadY8dX/',\n",
       "   'https://www.reclameaqui.com.br/cea-loja-online/desconto-presente-aniversario-nao-entra_h6D73SaRpEteOAPb/',\n",
       "   'https://www.reclameaqui.com.br/cea-loja-online/seguro-bolsa-protegida-embutido-sem-minha-autorizacao_yfIHwKpT9kCNOYYO/',\n",
       "   'https://www.reclameaqui.com.br/cea-loja-online/sandalia-de-pessima-qualidade_VOTkpEMgHaq8_IZv/',\n",
       "   'https://www.reclameaqui.com.br/cea-loja-online/queria-pagar-minhas-dividas-adiantada-e-agora-estou-com-meu-nome-sujo_gjQogcpnO1YB8v9W/',\n",
       "   'https://www.reclameaqui.com.br/cea-loja-online/devolucao_uKzL4XW0whVcE0ec/',\n",
       "   'https://www.reclameaqui.com.br/cea-loja-online/fatura-do-cartao-com-valor-acima-da-compra_jyz7UPCDLzpphE7e/'],\n",
       "  ['https://www.reclameaqui.com.br/cea-loja-online/fatura-do-cartao-com-valor-acima-da-compra_jyz7UPCDLzpphE7e/',\n",
       "   'https://www.reclameaqui.com.br/cea-loja-online/estao-cobrando-uma-parcela-de-compra-que-nao-e-minha_E7aGy4n335we_mWh/',\n",
       "   'https://www.reclameaqui.com.br/cea-loja-online/cobranca-indevida-de-uma-compra-cancelada-pela-loja_lY7O_0UhhdQyAsOe/',\n",
       "   'https://www.reclameaqui.com.br/cea-loja-online/nao-recebie-o-pacote_dOGEh-TbkcZ6IlJ-/',\n",
       "   'https://www.reclameaqui.com.br/cea-loja-online/estorno-nao-realizado_Wk-CTf-7C7mNL4fJ/',\n",
       "   'https://www.reclameaqui.com.br/cea-loja-online/estou-sendo-extorquido-pela-c-a_T-IFuDT1KyUVE0Vm/',\n",
       "   'https://www.reclameaqui.com.br/cea-loja-online/troca-complicada-e-expirada_E5l9PbpCY5wwJJc3/',\n",
       "   'https://www.reclameaqui.com.br/cea-loja-online/aumento-de-limite_fcCJg90pcOnc1cPw/',\n",
       "   'https://www.reclameaqui.com.br/cea-loja-online/ausencia-de-nota-fiscal_5rURgSVKlkXODJwN/',\n",
       "   'https://www.reclameaqui.com.br/cea-loja-online/entrega-ha-dias-em-atraso-e-parada_T_Lcp25PFngNmGTW/']],\n",
       " 'reclamação': ['Tentei duas vezes trocar alguns produtos da C&A e achei extremamente complicado, cheia de códigos e mesmo eu comprando os produtos juntos, tem q enviar separado, com código de pedido + código de troca + declaração de conteúdo, e fui mais de duas vezes no correio e não consegui enviar.Na última tentativa, q pedi dia 4 de março, eu quebrei meu pé e não consegui ir ao correio, só consigo ir agora de robofoot. Mas meu código expirou.Portando gostaria que a C&A me mandasse novos códigos porque eu não tinha ideia da burocracia, o q me prejudicou muito, e um de saúde, o que impossibilitou a troca.',\n",
       "  'Minha mãe fez o pagamento do cartão em atraso no vencimento do mês seguinte e sem autorização dela foi parcelado o restante em 24 meses e ainda por cima o saldo devedor ao invez de ser 400 foi para 2000',\n",
       "  'Estive na loja C&A do Barra Shopping, onde experimentei algumas peças que me agradaram. No local, com as peças em mãos, escaneei os códigos de barras pelo app e realizei a compra. Todos os itens constavam o prazo de 2h para entrega. Após realizar o pagamento, recebi um e-mail informando que o prazo de entrega era de 7 dias úteis.Observem que eu já estava no local e só realizei a compra pois havia a garantia pelo app de que a entrega seria realizada no prazo de 2h. Eu precisava das peças para o dia seguinte e por isso comprei.O prazo foi alterado após a realização do pagamento, sem qualquer justificativa.Como eu estava já dentro da loja aguardando as 2h e tive a infeliz surpresa da alteração do prazo, resolvi entrar em contato pelo atendimento online. Informei o meu CPF e o número do pedido e foi informado que o mesmo já estava disponível para retirada em loja.Conversei com um atendente, mostrei a ele a mensagem de que o pedido já estava disponível para retirada em loja, mas ele me informou que não constava no sistema.Recorri novamente ao atendimento online. Dessa vez solicitei falar com um especialista. Recebi a informação de que os produtos não tinham estoque em loja e por isso precisaram ser enviados via transportadora, aumentando o prazo de entrega.A informação fornecida pelo atendimento online é [Editado pelo Reclame Aqui]. Eu estava dentro da loja, com os produtos em mãos. Eles estavam sim disponíveis.Gostaria de saber qual providência será tomada, pois me sinto [Editado pelo Reclame Aqui] enquanto consumidora, tendo realizado a compra por conta da informação do prazo de entrega de 2 horas e tendo o aumento do prazo em 10700%',\n",
       "  'Fui fazer uma compra no valor aproximado de 360 reais, e fui abordado em fazer o cartão c$A sobre o pretexto de ter 10% de desconto na primeira compra, aceitei e informei que queria que fosse pago de 1x, ela disse que teria acesso a fatura no final do mês baixando o aplicativo e ao fazer isso verifiquei que ela colou a compra em 5x com juros totalizando mais de 500 reais a compra.Primeira e última vez que faço compra nessa loja, onde fica evidente a[Editado pelo Reclame Aqui] dos seus funcionários, muito provavelmente pressionados para bater a meta.',\n",
       "  'Olá, Utilizei a sandália apenas uma vez e o salto ficou frouxo, sem estabilidade alguma, inviabilizando o uso. ',\n",
       "  'Recebi um presente do programa c&a e vc, por hoje ser meu aniversário. O presente, que é um desconto de 10 reais não entra automaticamente na rappi, conforme informado.',\n",
       "  'No sábado, Dia 26/03/22, fui até a Loja C&A de Maracanaú, iria passar no meu cartão de credito e me ofereceram um da Loja online; C&A Pay, me passaram que não tinha nem uma tarifa nem custo, pra tê-lo, estão aceitei fazer, quando finalizei o cadastro pra ir passar minhas compras fui informada desse Seguro Bolsa Protegida, e fiquei extremamente chateada e decepcionada pela mentira, enfim foi me passado que eu podia cancelar e já liguei 3 vezes pra central e estão alegando um erro no sistema pra cancelar esse seguro e eu não quero esse Seguro, exijo que retirem o mesmo do meu cartão.',\n",
       "  'Eu comprei uma sandália no site da C&A usei apenas três vezes e o salto está saindo, estou muito triste pq a sandália é linda e confortável mas de péssima qualidade e os dois pés estão soltando não só uma ',\n",
       "  'Em janeiro liguei pra cea e pedi que fosse gerado um único boleto com as parcelas seguintes, pra que eu quitasse logo as minhas dívidas (já que eles me informaram que eu não poderia fazer isso na loja). A atendente disse que seria gerado o boleto só em fevereiro, pois janeiro ainda estava em aberto. Em fevereiro paguei a fatura, que eu achava que havia sido feito o que eu tinha solicitado, e depois não entrei mais no app. Semana passada fui fazer uma compra e pra minha surpresa, estava devendo mais de 500 reais, pois a incompetente da mulher que me atendeu em janeiro, não fez o que eu pedi. Hoje recebo e-mail dizendo que meu nome está no serasa. Um absurdo o tanto de juros e multa que está dentro dessa fatura, fora o constrangimento na fila e a dor de cabeça dessa confusão toda, pois na loja consta duas informações, tanto que eu tenho essa dívida quanto que eu tenho apenas 1 parcela em aberto. Então o sistema de vocês, assim como os profissionais, não são confiáveis! Eu só queria pagar adiantado o que estava devendo e agora estou com meu nome sujo e muito irritada! Não irei pagar nada a mais do que devo por incompetência de funcionário que não  fez o que deveria ter feito! Só quero pagar logo o que eu comprei e me desligar dessa empresa bagunçada! Hoje liguei novamente e me deram 5 dias úteis para que meu chamado fosse atendido, espero que resolvam logo, pois se isso atrapalhar a minha admissão amanhã no meu emprego novo, o processo vem! ',\n",
       "  'Comprei uma calça que não me serviu e não consigo fazer a devolução porque não querem gerar o código postal. ',\n",
       "  'Realizei uma compra na cea no shopping plaza em SBC onde iria efetuar pagamento no debito mas atendente ofereceu cartão digital para obter desconto na compra hoje ao acessar o cartao nao só nao obtive desconto como esta parcelado com valor bem maior do comprado na loja um absurdo e nao há opção no aplicativo para efetuar o pagamento total da compra e verificar se tenho o desconto correto oferecido no momento da compra ou seja fui nitidamente enganada. Quero quitar a compra com meu desconto de 20% e nunca mais utilizar cartão da loja. ',\n",
       "  'Realizei uma compra na cea no shopping plaza em SBC onde iria efetuar pagamento no debito mas atendente ofereceu cartão digital para obter desconto na compra hoje ao acessar o cartao nao só nao obtive desconto como esta parcelado com valor bem maior do comprado na loja um absurdo e nao há opção no aplicativo para efetuar o pagamento total da compra e verificar se tenho o desconto correto oferecido no momento da compra ou seja fui nitidamente enganada. Quero quitar a compra com meu desconto de 20% e nunca mais utilizar cartão da loja. ',\n",
       "  'A Loja esta me cobrando uma parcela em nome de Juliana que não é minha, ja mandei sms, já liguei no sac já atendi e disse que não sou a Juliana, o Sac disse que não poderia me ajudar,  mas eles insistem em me ligar, num dia eu já bloquiei mais de 200 números diferentes, peço a gentileza de que parem de me ligar cobrando a parcela da Juliana, senão vou dar andamento e vou entrar na justiça como danos morais.. sem mais.',\n",
       "  'Fiz uma compra pelo cartão C&A Pay mas essa mesma compra foi cancelada pela loja e mesmo assim mandaram a fatura pra mim pagar  pfvr resolvam isso logo, antes que eu decida reclamar no PROCON ',\n",
       "  'Hoje ja fazem 12 dias de atraso na entrega e nem tive resolução d loja cea,pois não recebie o pacote tive um péssimo atendimento quando falei na central no qual não me deixaram nem abrir uma reclamação e fiz uma reclamação neste mesmo canal e não tive nenhum tipo de contato da loja e ressalto que quero o valor no vale presente como o valor das peças atualizados pois não é culpa minha dos erros da loja como o vale em dobro por problema da cea e estou amparada no direito do consumidor , se cado eu não tenha nenhuma resposta vou levar na justiça por propaganda enganosa e danos morais ',\n",
       "  'Fiz a devolução do meu pedido v47621205cea-01. A postagem da devolução foi feita no dia 26/03/2022. Devolvi os 2 vestidos do meu pedido pois não seviram em mim. Estou no aguardo do estorno no cartão. Segue comprovante de postagem em anexo na reclamação.',\n",
       "  'NUNCA, JAMAIS, EM NENHUMA HIPÓTESE FAÇA O CARTÃO DA C&A. Já entrei em contato com um escritório de advocacia, e o mesmo me disse que pegou mais de 10 casos desse no caso passado. No dia 18/02/2022 eu fiz o pagamento total da minha fatura, e pouco tempo depois no dia 23/02/2022 eu CANCELEI o meu cartão da C&A. No dia de hoje, recebi um e-mail avisando que estou entrando no Serasa sendo que nem se quer tenho mais este cartão. O Valor já foi mais do que pago, inclusive com juros! Não recebi um email se quer do Bradescad ou da C&A tentando entrar em contato comigo, Recebi uma única ligação em um SÁBADO A NOITE, eu conversei com o Pablo que assim que percebeu que eu já havia cancelado o cartão, ele parou de me responder me forçando a desligar. NENHUMA EMPRESA CANCELA UM CARTÃO, SENDO QUE EXISTE UM SALDO DEVEDOR, NENHUMA! Tenho o protocolo de todas as conversas e todas as provas. Já fiz também um boletim de ocorrência, vou entrar em contato com o Seresa e só então entrar com um processo com essa empresa que inventa um débito para ganhar ainda mais encima dos seus produtos, se aproveitando de pessoas ignorantes.Tenho provas, nota fiscal, comprovantes e os protocolos de todas as formas de contato e não vou aceitar que uma empresa me humilhe desta forma. Eu sou pai de família e estava urgente precisando de um aumento no meu limite do cartão, coisa que não vai mais acontecer devido a essa extorsão da C&A feita comigo.',\n",
       "  'Tentei duas vezes trocar alguns produtos da C&A e achei extremamente complicado, cheia de códigos e mesmo eu comprando os produtos juntos, tem q enviar separado, com código de pedido + código de troca + declaração de conteúdo, e fui mais de duas vezes no correio e não consegui enviar.Na última tentativa, q pedi dia 4 de março, eu quebrei meu pé e não consegui ir ao correio, só consigo ir agora de robofoot. Mas meu código expirou.Portando gostaria que a C&A me mandasse novos códigos porque eu não tinha ideia da burocracia, o q me prejudicou muito, e um de saúde, o que impossibilitou a troca.',\n",
       "  'Tenho o cartão de crédito c&a há muitos anos e nunca aumenta o limite de crédito só aumenta anuidade eu quero aumentar meu limite ',\n",
       "  'Realizei compra presencial em 17/02/22, no shopping internacional de Guarulhos com o cartão C&a , o mesmo realizamos nesta data com a informação que teríamos todos os dados da compra no aplicativo C&a , então a nota por algum problema do sistema não foi impressa , quando verificado não encontramos a nota fiscal no aplicativo como também não consta no site da receita , sendo que foi digitado CPF para nota fiscal , preciso de uma resposta urgente da C& frente ocorrido , uma vez que sonegar nota é [Editado pelo Reclame Aqui] , quero minha segunda via da nota fiscal porque a compra apresentada no aplicativo não confere com o valor da compra real .']}"
      ]
     },
     "execution_count": 25,
     "metadata": {},
     "output_type": "execute_result"
    }
   ],
   "source": [
    "features"
   ]
  },
  {
   "cell_type": "code",
   "execution_count": 26,
   "id": "6d2cb3d1",
   "metadata": {},
   "outputs": [
    {
     "ename": "ValueError",
     "evalue": "All arrays must be of the same length",
     "output_type": "error",
     "traceback": [
      "\u001b[1;31m---------------------------------------------------------------------------\u001b[0m",
      "\u001b[1;31mValueError\u001b[0m                                Traceback (most recent call last)",
      "\u001b[1;32m~\\AppData\\Local\\Temp/ipykernel_7048/2155415209.py\u001b[0m in \u001b[0;36m<module>\u001b[1;34m\u001b[0m\n\u001b[1;32m----> 1\u001b[1;33m \u001b[0mdf\u001b[0m \u001b[1;33m=\u001b[0m \u001b[0mpd\u001b[0m\u001b[1;33m.\u001b[0m\u001b[0mDataFrame\u001b[0m\u001b[1;33m(\u001b[0m\u001b[0mfeatures\u001b[0m\u001b[1;33m)\u001b[0m\u001b[1;33m\u001b[0m\u001b[1;33m\u001b[0m\u001b[0m\n\u001b[0m\u001b[0;32m      2\u001b[0m \u001b[0mdf\u001b[0m\u001b[1;33m\u001b[0m\u001b[1;33m\u001b[0m\u001b[0m\n",
      "\u001b[1;32m~\\anaconda3\\lib\\site-packages\\pandas\\core\\frame.py\u001b[0m in \u001b[0;36m__init__\u001b[1;34m(self, data, index, columns, dtype, copy)\u001b[0m\n\u001b[0;32m    612\u001b[0m         \u001b[1;32melif\u001b[0m \u001b[0misinstance\u001b[0m\u001b[1;33m(\u001b[0m\u001b[0mdata\u001b[0m\u001b[1;33m,\u001b[0m \u001b[0mdict\u001b[0m\u001b[1;33m)\u001b[0m\u001b[1;33m:\u001b[0m\u001b[1;33m\u001b[0m\u001b[1;33m\u001b[0m\u001b[0m\n\u001b[0;32m    613\u001b[0m             \u001b[1;31m# GH#38939 de facto copy defaults to False only in non-dict cases\u001b[0m\u001b[1;33m\u001b[0m\u001b[1;33m\u001b[0m\u001b[0m\n\u001b[1;32m--> 614\u001b[1;33m             \u001b[0mmgr\u001b[0m \u001b[1;33m=\u001b[0m \u001b[0mdict_to_mgr\u001b[0m\u001b[1;33m(\u001b[0m\u001b[0mdata\u001b[0m\u001b[1;33m,\u001b[0m \u001b[0mindex\u001b[0m\u001b[1;33m,\u001b[0m \u001b[0mcolumns\u001b[0m\u001b[1;33m,\u001b[0m \u001b[0mdtype\u001b[0m\u001b[1;33m=\u001b[0m\u001b[0mdtype\u001b[0m\u001b[1;33m,\u001b[0m \u001b[0mcopy\u001b[0m\u001b[1;33m=\u001b[0m\u001b[0mcopy\u001b[0m\u001b[1;33m,\u001b[0m \u001b[0mtyp\u001b[0m\u001b[1;33m=\u001b[0m\u001b[0mmanager\u001b[0m\u001b[1;33m)\u001b[0m\u001b[1;33m\u001b[0m\u001b[1;33m\u001b[0m\u001b[0m\n\u001b[0m\u001b[0;32m    615\u001b[0m         \u001b[1;32melif\u001b[0m \u001b[0misinstance\u001b[0m\u001b[1;33m(\u001b[0m\u001b[0mdata\u001b[0m\u001b[1;33m,\u001b[0m \u001b[0mma\u001b[0m\u001b[1;33m.\u001b[0m\u001b[0mMaskedArray\u001b[0m\u001b[1;33m)\u001b[0m\u001b[1;33m:\u001b[0m\u001b[1;33m\u001b[0m\u001b[1;33m\u001b[0m\u001b[0m\n\u001b[0;32m    616\u001b[0m             \u001b[1;32mimport\u001b[0m \u001b[0mnumpy\u001b[0m\u001b[1;33m.\u001b[0m\u001b[0mma\u001b[0m\u001b[1;33m.\u001b[0m\u001b[0mmrecords\u001b[0m \u001b[1;32mas\u001b[0m \u001b[0mmrecords\u001b[0m\u001b[1;33m\u001b[0m\u001b[1;33m\u001b[0m\u001b[0m\n",
      "\u001b[1;32m~\\anaconda3\\lib\\site-packages\\pandas\\core\\internals\\construction.py\u001b[0m in \u001b[0;36mdict_to_mgr\u001b[1;34m(data, index, columns, dtype, typ, copy)\u001b[0m\n\u001b[0;32m    462\u001b[0m         \u001b[1;31m# TODO: can we get rid of the dt64tz special case above?\u001b[0m\u001b[1;33m\u001b[0m\u001b[1;33m\u001b[0m\u001b[0m\n\u001b[0;32m    463\u001b[0m \u001b[1;33m\u001b[0m\u001b[0m\n\u001b[1;32m--> 464\u001b[1;33m     return arrays_to_mgr(\n\u001b[0m\u001b[0;32m    465\u001b[0m         \u001b[0marrays\u001b[0m\u001b[1;33m,\u001b[0m \u001b[0mdata_names\u001b[0m\u001b[1;33m,\u001b[0m \u001b[0mindex\u001b[0m\u001b[1;33m,\u001b[0m \u001b[0mcolumns\u001b[0m\u001b[1;33m,\u001b[0m \u001b[0mdtype\u001b[0m\u001b[1;33m=\u001b[0m\u001b[0mdtype\u001b[0m\u001b[1;33m,\u001b[0m \u001b[0mtyp\u001b[0m\u001b[1;33m=\u001b[0m\u001b[0mtyp\u001b[0m\u001b[1;33m,\u001b[0m \u001b[0mconsolidate\u001b[0m\u001b[1;33m=\u001b[0m\u001b[0mcopy\u001b[0m\u001b[1;33m\u001b[0m\u001b[1;33m\u001b[0m\u001b[0m\n\u001b[0;32m    466\u001b[0m     )\n",
      "\u001b[1;32m~\\anaconda3\\lib\\site-packages\\pandas\\core\\internals\\construction.py\u001b[0m in \u001b[0;36marrays_to_mgr\u001b[1;34m(arrays, arr_names, index, columns, dtype, verify_integrity, typ, consolidate)\u001b[0m\n\u001b[0;32m    117\u001b[0m         \u001b[1;31m# figure out the index, if necessary\u001b[0m\u001b[1;33m\u001b[0m\u001b[1;33m\u001b[0m\u001b[0m\n\u001b[0;32m    118\u001b[0m         \u001b[1;32mif\u001b[0m \u001b[0mindex\u001b[0m \u001b[1;32mis\u001b[0m \u001b[1;32mNone\u001b[0m\u001b[1;33m:\u001b[0m\u001b[1;33m\u001b[0m\u001b[1;33m\u001b[0m\u001b[0m\n\u001b[1;32m--> 119\u001b[1;33m             \u001b[0mindex\u001b[0m \u001b[1;33m=\u001b[0m \u001b[0m_extract_index\u001b[0m\u001b[1;33m(\u001b[0m\u001b[0marrays\u001b[0m\u001b[1;33m)\u001b[0m\u001b[1;33m\u001b[0m\u001b[1;33m\u001b[0m\u001b[0m\n\u001b[0m\u001b[0;32m    120\u001b[0m         \u001b[1;32melse\u001b[0m\u001b[1;33m:\u001b[0m\u001b[1;33m\u001b[0m\u001b[1;33m\u001b[0m\u001b[0m\n\u001b[0;32m    121\u001b[0m             \u001b[0mindex\u001b[0m \u001b[1;33m=\u001b[0m \u001b[0mensure_index\u001b[0m\u001b[1;33m(\u001b[0m\u001b[0mindex\u001b[0m\u001b[1;33m)\u001b[0m\u001b[1;33m\u001b[0m\u001b[1;33m\u001b[0m\u001b[0m\n",
      "\u001b[1;32m~\\anaconda3\\lib\\site-packages\\pandas\\core\\internals\\construction.py\u001b[0m in \u001b[0;36m_extract_index\u001b[1;34m(data)\u001b[0m\n\u001b[0;32m    633\u001b[0m             \u001b[0mlengths\u001b[0m \u001b[1;33m=\u001b[0m \u001b[0mlist\u001b[0m\u001b[1;33m(\u001b[0m\u001b[0mset\u001b[0m\u001b[1;33m(\u001b[0m\u001b[0mraw_lengths\u001b[0m\u001b[1;33m)\u001b[0m\u001b[1;33m)\u001b[0m\u001b[1;33m\u001b[0m\u001b[1;33m\u001b[0m\u001b[0m\n\u001b[0;32m    634\u001b[0m             \u001b[1;32mif\u001b[0m \u001b[0mlen\u001b[0m\u001b[1;33m(\u001b[0m\u001b[0mlengths\u001b[0m\u001b[1;33m)\u001b[0m \u001b[1;33m>\u001b[0m \u001b[1;36m1\u001b[0m\u001b[1;33m:\u001b[0m\u001b[1;33m\u001b[0m\u001b[1;33m\u001b[0m\u001b[0m\n\u001b[1;32m--> 635\u001b[1;33m                 \u001b[1;32mraise\u001b[0m \u001b[0mValueError\u001b[0m\u001b[1;33m(\u001b[0m\u001b[1;34m\"All arrays must be of the same length\"\u001b[0m\u001b[1;33m)\u001b[0m\u001b[1;33m\u001b[0m\u001b[1;33m\u001b[0m\u001b[0m\n\u001b[0m\u001b[0;32m    636\u001b[0m \u001b[1;33m\u001b[0m\u001b[0m\n\u001b[0;32m    637\u001b[0m             \u001b[1;32mif\u001b[0m \u001b[0mhave_dicts\u001b[0m\u001b[1;33m:\u001b[0m\u001b[1;33m\u001b[0m\u001b[1;33m\u001b[0m\u001b[0m\n",
      "\u001b[1;31mValueError\u001b[0m: All arrays must be of the same length"
     ]
    }
   ],
   "source": [
    "df = pd.DataFrame(features)\n",
    "df"
   ]
  }
 ],
 "metadata": {
  "kernelspec": {
   "display_name": "Python 3 (ipykernel)",
   "language": "python",
   "name": "python3"
  },
  "language_info": {
   "codemirror_mode": {
    "name": "ipython",
    "version": 3
   },
   "file_extension": ".py",
   "mimetype": "text/x-python",
   "name": "python",
   "nbconvert_exporter": "python",
   "pygments_lexer": "ipython3",
   "version": "3.9.7"
  }
 },
 "nbformat": 4,
 "nbformat_minor": 5
}
